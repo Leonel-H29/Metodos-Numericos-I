{
  "nbformat": 4,
  "nbformat_minor": 0,
  "metadata": {
    "colab": {
      "name": "TP1.ipynb",
      "provenance": [],
      "collapsed_sections": [],
      "authorship_tag": "ABX9TyMBYakRmlCp05F4Tdo0Tdqm",
      "include_colab_link": true
    },
    "kernelspec": {
      "name": "python3",
      "display_name": "Python 3"
    },
    "language_info": {
      "name": "python"
    }
  },
  "cells": [
    {
      "cell_type": "markdown",
      "metadata": {
        "id": "view-in-github",
        "colab_type": "text"
      },
      "source": [
        "<a href=\"https://colab.research.google.com/github/Leonel-H29/Metodos-Numericos-I/blob/main/TP1.ipynb\" target=\"_parent\"><img src=\"https://colab.research.google.com/assets/colab-badge.svg\" alt=\"Open In Colab\"/></a>"
      ]
    },
    {
      "cell_type": "markdown",
      "metadata": {
        "id": "iSJ1kDGZpCAQ"
      },
      "source": [
        "#1)_\n",
        "\n",
        "  \n",
        "\n",
        ">## ii. Usando 3 subplots, graficar en Python\n",
        "\n",
        "*   Las soluciones exactas y aproximadas \n",
        "*   El error global\n",
        "*   El error local\n"
      ]
    },
    {
      "cell_type": "code",
      "metadata": {
        "colab": {
          "base_uri": "https://localhost:8080/",
          "height": 296
        },
        "id": "SJu44daWo6U7",
        "outputId": "116d456c-ed8c-458f-b37b-2d22d8859881"
      },
      "source": [
        "import numpy as np\n",
        "import matplotlib.pyplot as plt\n",
        "\n",
        "\n",
        "#Ejercicio a)\n",
        "\n",
        "y_real=[2,2.61878587,3.27106113,3.95200581,4.658016,5.38629436]\n",
        "y_aproximado=[2,2.62,3.27,3.95,4.66,5.39]\n",
        "\n",
        "error_local = [0,2.62, 0.653, 0.681,0.706,0.739]\n",
        "error_global = [0,0.002, 0.002, 0.001, 0.001, 0.001]\n",
        "\n",
        "\n",
        "#===================================Grafico los valores aproximados\n",
        "plt.figure(1, (10,6), 50, 'y', 'g')\n",
        "x = np.linspace(1,2,6)\n",
        "\n",
        "plt.subplot(2,1,1)\n",
        "#plt.plot(x,y_real, x,y_aproximado)\n",
        "plt.plot(x,y_real, marker=\"o\", color=\"red\")\n",
        "plt.plot(x,y_aproximado)\n",
        "\n",
        "plt.title(\"Metodo de Runge-Kutta 2\", fontsize=20)\n",
        "plt.legend(('Y verdadero','Y aproximado'), loc='upper left')\n",
        "plt.xlabel('x')\n",
        "plt.ylabel('y', fontsize=20)\n",
        "\n",
        "\n",
        "#===================================Grafico los errores\n",
        "#plt.figure(2, (10,6), 50, 'y', 'g')\n",
        "\n",
        "plt.subplot(2,2,3)\n",
        "plt.plot(x,error_local)\n",
        "\n",
        "plt.title(\"Error Local\", fontsize=20)\n",
        "plt.legend('Error Local', loc='upper left')\n",
        "plt.xlabel('x', fontsize=20)\n",
        "plt.ylabel('y', fontsize=20)\n",
        "\n",
        "#plt.figure(3, (10,6), 50, 'y', 'g')\n",
        "plt.subplot(2,2,4)\n",
        "plt.plot(x,error_global)\n",
        "\n",
        "\n",
        "plt.title(\"Error Global\", fontsize=20)\n",
        "plt.legend('Error Global', loc='upper left')\n",
        "plt.xlabel('x', fontsize=20)\n",
        "plt.ylabel('y', fontsize=20)\n",
        "\n",
        "\n",
        "plt.show()\n"
      ],
      "execution_count": null,
      "outputs": [
        {
          "output_type": "display_data",
          "data": {
            "image/png": "[encoded data removed]",
            "text/plain": [
              "<Figure size 500x300 with 3 Axes>"
            ]
          },
          "metadata": {}
        }
      ]
    },
    {
      "cell_type": "markdown",
      "metadata": {
        "id": "OJd_MNvqwwBl"
      },
      "source": [
        "> # Conclusiones:\n",
        "\n",
        "\n",
        "*   Puedo decir que el metodo es consistente ya que se puede observar que el error local dismunuye y mantiene una estabilidad y no aumenta de gran forma.\n",
        "\n",
        "*   Puedo decir que el metodo converge ya que al observar los errores globales obtenidos, se ve que estos van dismunuyendo en cada iteracion y no se dispara.\n",
        "\n",
        "\n"
      ]
    },
    {
      "cell_type": "code",
      "metadata": {
        "colab": {
          "base_uri": "https://localhost:8080/",
          "height": 296
        },
        "id": "XEdWOCkdyLsk",
        "outputId": "adf747d9-c794-4253-db83-2a7d4c5053be"
      },
      "source": [
        "import numpy as np\n",
        "import matplotlib.pyplot as plt\n",
        "\n",
        "\n",
        "#Ejercicio a)\n",
        "\n",
        "y_real=[2,2.61878587,3.27106113,3.95200581,4.658016,5.38629436]\n",
        "y_aproximado=[2,2.62,3.12,3.76,4.42,5.1]\n",
        "\n",
        "error_local = [0,619, 0.505, 0.635,0.657,0.680]\n",
        "error_global = [0,0.000, 0.148, 0.193, 0.243, 0.290]\n",
        "\n",
        "\n",
        "#===================================Grafico los valores aproximados\n",
        "plt.figure(1, (10,6), 50, 'y', 'g')\n",
        "x = np.linspace(1,2,6)\n",
        "\n",
        "plt.subplot(2,1,1)\n",
        "#plt.plot(x,y_real, x,y_aproximado)\n",
        "plt.plot(x,y_real, marker=\"o\", color=\"red\")\n",
        "plt.plot(x,y_aproximado)\n",
        "\n",
        "plt.title(\"Metodo de Runge-Kutta 4\", fontsize=20)\n",
        "plt.legend(('Y verdadero','Y aproximado'), loc='upper left')\n",
        "plt.xlabel('x')\n",
        "plt.ylabel('y', fontsize=20)\n",
        "\n",
        "\n",
        "#===================================Grafico los errores\n",
        "#plt.figure(2, (10,6), 50, 'y', 'g')\n",
        "\n",
        "plt.subplot(2,2,3)\n",
        "plt.plot(x,error_local)\n",
        "\n",
        "plt.title(\"Error Local\", fontsize=20)\n",
        "plt.legend('Error Local', loc='upper left')\n",
        "plt.xlabel('x', fontsize=20)\n",
        "plt.ylabel('y', fontsize=20)\n",
        "\n",
        "#plt.figure(3, (10,6), 50, 'y', 'g')\n",
        "plt.subplot(2,2,4)\n",
        "plt.plot(x,error_global)\n",
        "\n",
        "\n",
        "plt.title(\"Error Global\", fontsize=20)\n",
        "plt.legend('Error Global', loc='upper left')\n",
        "plt.xlabel('x', fontsize=20)\n",
        "plt.ylabel('y', fontsize=20)\n",
        "\n",
        "\n",
        "plt.show()\n"
      ],
      "execution_count": null,
      "outputs": [
        {
          "output_type": "display_data",
          "data": {
            "image/png": "[encoded data removed]",
            "text/plain": [
              "<Figure size 500x300 with 3 Axes>"
            ]
          },
          "metadata": {}
        }
      ]
    },
    {
      "cell_type": "markdown",
      "metadata": {
        "id": "eUO33FBk0FM9"
      },
      "source": [
        "> # Conclusiones:\n",
        "\n",
        "\n",
        "*   Puedo decir que el metodo es consistente ya que el error local mantiene una estabilidad.\n",
        "\n",
        "*   Puedo decir que el metodo no converge ya que con el paso de las iteracciones el error global se hace cada vez mas grande.\n",
        "\n",
        "\n"
      ]
    },
    {
      "cell_type": "code",
      "metadata": {
        "colab": {
          "base_uri": "https://localhost:8080/",
          "height": 296
        },
        "id": "EDAmZOS0yiX5",
        "outputId": "11ded62a-ac7f-467b-adff-1b35d3f56e55"
      },
      "source": [
        "import numpy as np\n",
        "import matplotlib.pyplot as plt\n",
        "\n",
        "\n",
        "#Ejercicio a)\n",
        "\n",
        "y_real=[2,2.61878587,3.27106113,3.95200581,4.658016,5.38629436]\n",
        "y_aproximado=[2,2.6,3.27,3.95,4.66,5.38]\n",
        "\n",
        "error_local = [0,2.600, 0.669, 0.686,0.705,0.727]\n",
        "error_global = [0,0.019,0.002, 0.003, 0.002, 0.001]\n",
        "\n",
        "\n",
        "#===================================Grafico los valores aproximados\n",
        "plt.figure(1, (10,6), 50, 'y', 'g')\n",
        "x = np.linspace(1,2,6)\n",
        "\n",
        "plt.subplot(2,1,1)\n",
        "#plt.plot(x,y_real, x,y_aproximado)\n",
        "plt.plot(x,y_real, marker=\"o\", color=\"red\")\n",
        "plt.plot(x,y_aproximado)\n",
        "\n",
        "plt.title(\"Metodo de Adam-Bashford 2\", fontsize=20)\n",
        "plt.legend(('Y verdadero','Y aproximado'), loc='upper left')\n",
        "plt.xlabel('x')\n",
        "plt.ylabel('y', fontsize=20)\n",
        "\n",
        "\n",
        "#===================================Grafico los errores\n",
        "#plt.figure(2, (10,6), 50, 'y', 'g')\n",
        "\n",
        "plt.subplot(2,2,3)\n",
        "plt.plot(x,error_local)\n",
        "\n",
        "plt.title(\"Error Local\", fontsize=20)\n",
        "plt.legend('Error Local', loc='upper left')\n",
        "plt.xlabel('x', fontsize=20)\n",
        "plt.ylabel('y', fontsize=20)\n",
        "\n",
        "#plt.figure(3, (10,6), 50, 'y', 'g')\n",
        "plt.subplot(2,2,4)\n",
        "plt.plot(x,error_global)\n",
        "\n",
        "\n",
        "plt.title(\"Error Global\", fontsize=20)\n",
        "plt.legend('Error Global', loc='upper left')\n",
        "plt.xlabel('x', fontsize=20)\n",
        "plt.ylabel('y', fontsize=20)\n",
        "\n",
        "\n",
        "plt.show()\n"
      ],
      "execution_count": null,
      "outputs": [
        {
          "output_type": "display_data",
          "data": {
            "image/png": "[encoded data removed]",
            "text/plain": [
              "<Figure size 500x300 with 3 Axes>"
            ]
          },
          "metadata": {}
        }
      ]
    },
    {
      "cell_type": "markdown",
      "metadata": {
        "id": "USr0r4Op2bEr"
      },
      "source": [
        "> # Conclusiones:\n",
        "\n",
        "\n",
        "*   Puedo decir que el metodo es consistente ya que el error local dismunuye y luego mantiene una estabilidad.\n",
        "\n",
        "*   Puedo decir que el metodo converge ya que con el paso de las iteracciones el error global se hace cada vez mas pequeño.\n",
        "\n",
        "\n"
      ]
    },
    {
      "cell_type": "code",
      "metadata": {
        "id": "ymsas3awlH-I",
        "colab": {
          "base_uri": "https://localhost:8080/",
          "height": 296
        },
        "outputId": "c9b05f3e-de30-45b7-956d-e72bb88fe67a"
      },
      "source": [
        "import numpy as np\n",
        "import matplotlib.pyplot as plt\n",
        "\n",
        "\n",
        "#Ejercicio a)\n",
        "\n",
        "y_real=[2,2.61878587,3.27106113,3.95200581,4.658016,5.38629436]\n",
        "y_aproximado=[2,2.62,3.27,3.95,4.66,5.38]\n",
        "\n",
        "error_local = [0,0.618, 0.652, 0.680,0.705,0.728]\n",
        "error_global = [0,0.007,0.001, 0.002, 0.002, 0.003]\n",
        "\n",
        "\n",
        "#===================================Grafico los valores aproximados\n",
        "plt.figure(1, (10,6), 50, 'y', 'g')\n",
        "x = np.linspace(1,2,6)\n",
        "\n",
        "plt.subplot(2,1,1)\n",
        "#plt.plot(x,y_real, x,y_aproximado)\n",
        "plt.plot(x,y_real, marker=\"o\", color=\"red\")\n",
        "plt.plot(x,y_aproximado)\n",
        "\n",
        "plt.title(\"Huen\", fontsize=20)\n",
        "plt.legend(('Y verdadero','Y aproximado'), loc='upper left')\n",
        "plt.xlabel('x')\n",
        "plt.ylabel('y', fontsize=20)\n",
        "\n",
        "\n",
        "#===================================Grafico los errores\n",
        "#plt.figure(2, (10,6), 50, 'y', 'g')\n",
        "\n",
        "plt.subplot(2,2,3)\n",
        "plt.plot(x,error_local)\n",
        "\n",
        "plt.title(\"Error Local\", fontsize=20)\n",
        "plt.legend('Error Local', loc='upper left')\n",
        "plt.xlabel('x', fontsize=20)\n",
        "plt.ylabel('y', fontsize=20)\n",
        "\n",
        "#plt.figure(3, (10,6), 50, 'y', 'g')\n",
        "plt.subplot(2,2,4)\n",
        "plt.plot(x,error_global)\n",
        "\n",
        "\n",
        "plt.title(\"Error Global\", fontsize=20)\n",
        "plt.legend('Error Global', loc='upper left')\n",
        "plt.xlabel('x', fontsize=20)\n",
        "plt.ylabel('y', fontsize=20)\n",
        "\n",
        "\n",
        "plt.show()\n"
      ],
      "execution_count": null,
      "outputs": [
        {
          "output_type": "display_data",
          "data": {
            "image/png": "[encoded data removed]",
            "text/plain": [
              "<Figure size 500x300 with 3 Axes>"
            ]
          },
          "metadata": {}
        }
      ]
    },
    {
      "cell_type": "markdown",
      "metadata": {
        "id": "QUpmVFNAlIvo"
      },
      "source": [
        "> # Conclusiones:\n",
        "\n",
        "\n",
        "*   Puedo decir que el metodo es consistente, si bien el error local va en aumento, no se dispara de gran forma. \n",
        "\n",
        "*   Puedo decir que el metodo converge ya que con el paso de las iteracciones el error global mantiene una estabilidad y no aumenta de gran forma.\n",
        "\n",
        "\n"
      ]
    },
    {
      "cell_type": "markdown",
      "metadata": {
        "id": "X-IFZGSfyjkA"
      },
      "source": [
        "----------------------------------------------------\n"
      ]
    },
    {
      "cell_type": "code",
      "metadata": {
        "colab": {
          "base_uri": "https://localhost:8080/",
          "height": 288
        },
        "id": "SrZpO1ji7ize",
        "outputId": "7d909fa6-b488-44bb-8a6f-c9846425314d"
      },
      "source": [
        "import numpy as np\n",
        "import matplotlib.pyplot as plt\n",
        "\n",
        "\n",
        "#Ejercicio b)\n",
        "\n",
        "y_real=[-1,-0.167874,0.26466472,0.55021293,0.78168436,0.99326205]\n",
        "y_aproximado=[-1,-0.3,0.359,0.573,0.785,0.992]\n",
        "\n",
        "error_local = [0,0.300, 0.659, 0.214,0.211,0.206]\n",
        "error_global = [0,0.094, 0.002, 0.02, 0.003, 0.002]\n",
        "x = np.linspace(0,1,6)\n",
        "\n",
        "#===================================Grafico los valores aproximados\n",
        "plt.figure(1, (10,6), 50, 'y', 'g')\n",
        "\n",
        "plt.subplot(2,1,1)\n",
        "#plt.plot(x,y_real, x,y_aproximado)\n",
        "plt.plot(x,y_real, marker=\"o\", color=\"red\")\n",
        "plt.plot(x,y_aproximado)\n",
        "\n",
        "plt.title(\"Metodo de Runge-Kutta 2\", fontsize=20)\n",
        "plt.legend(('Y verdadero','Y aproximado'), loc='upper left')\n",
        "plt.xlabel('x')\n",
        "plt.ylabel('y', fontsize=20)\n",
        "\n",
        "\n",
        "#===================================Grafico los errores\n",
        "#plt.figure(2, (10,6), 50, 'y', 'g')\n",
        "\n",
        "plt.subplot(2,2,3)\n",
        "plt.plot(x,error_local)\n",
        "\n",
        "plt.title(\"Error Local\", fontsize=20)\n",
        "plt.legend(('Error Local'), loc='upper left')\n",
        "plt.xlabel('x')\n",
        "plt.ylabel('y', fontsize=20)\n",
        "\n",
        "#plt.figure(3, (10,6), 50, 'y', 'g')\n",
        "plt.subplot(2,2,4)\n",
        "plt.plot(x,error_global)\n",
        "\n",
        "plt.title(\"Error Global\", fontsize=20)\n",
        "plt.legend(('Error Global'), loc='upper left')\n",
        "plt.xlabel('x')\n",
        "plt.ylabel('y', fontsize=20)\n",
        "\n",
        "\n",
        "plt.show()"
      ],
      "execution_count": null,
      "outputs": [
        {
          "output_type": "display_data",
          "data": {
            "image/png": "[encoded data removed]",
            "text/plain": [
              "<Figure size 500x300 with 3 Axes>"
            ]
          },
          "metadata": {}
        }
      ]
    },
    {
      "cell_type": "markdown",
      "metadata": {
        "id": "Ob1Wl0-nN2Jt"
      },
      "source": [
        "> # Conclusiones:\n",
        "\n",
        "\n",
        "*   Puedo decir que el metodo es consistente ya que se puede observar que el error local tiene una tendecia a bajar, y tampoco se dispara.\n",
        "\n",
        "*   Puedo decir que el metodo converge ya que al observar los errores globales obtenidos, se ve que estos van dismunuyendo en cada iteracion y no se dispara.\n",
        "\n"
      ]
    },
    {
      "cell_type": "code",
      "metadata": {
        "id": "2Y3rmSkV6L2V",
        "colab": {
          "base_uri": "https://localhost:8080/",
          "height": 288
        },
        "outputId": "40bb8b4f-5e68-4160-e9c5-ad9d6efe658f"
      },
      "source": [
        "import numpy as np\n",
        "import matplotlib.pyplot as plt\n",
        "\n",
        "\n",
        "#Ejercicio b)\n",
        "\n",
        "y_real=[-1,-0.167874,0.26466472,0.55021293,0.78168436,0.99326205]\n",
        "y_aproximado=[-1,-0.149,0.268,0.552,0.782,0.993]\n",
        "\n",
        "error_local = [0,0.851, 0.417, 0.284,0.230,0.211]\n",
        "error_global = [0,0.019, 0.004, 0.002, 0.001, 0.0002]\n",
        "x = np.linspace(0,1,6)\n",
        "\n",
        "#===================================Grafico los valores aproximados\n",
        "plt.figure(1, (10,6), 50, 'y', 'g')\n",
        "\n",
        "plt.subplot(2,1,1)\n",
        "#plt.plot(x,y_real, x,y_aproximado)\n",
        "plt.plot(x,y_real, marker=\"o\", color=\"red\")\n",
        "plt.plot(x,y_aproximado)\n",
        "\n",
        "plt.title(\"Metodo de Runge-Kutta 4\", fontsize=20)\n",
        "plt.legend(('Y verdadero','Y aproximado'), loc='upper left')\n",
        "plt.xlabel('x')\n",
        "plt.ylabel('y', fontsize=20)\n",
        "\n",
        "\n",
        "#===================================Grafico los errores\n",
        "#plt.figure(2, (10,6), 50, 'y', 'g')\n",
        "\n",
        "plt.subplot(2,2,3)\n",
        "plt.plot(x,error_local)\n",
        "\n",
        "plt.title(\"Error Local\", fontsize=20)\n",
        "plt.legend(('Error Local'), loc='upper left')\n",
        "plt.xlabel('x')\n",
        "plt.ylabel('y', fontsize=20)\n",
        "\n",
        "#plt.figure(3, (10,6), 50, 'y', 'g')\n",
        "plt.subplot(2,2,4)\n",
        "plt.plot(x,error_global)\n",
        "\n",
        "plt.title(\"Error Global\", fontsize=20)\n",
        "plt.legend(('Error Global'), loc='upper left')\n",
        "plt.xlabel('x')\n",
        "plt.ylabel('y', fontsize=20)\n",
        "\n",
        "\n",
        "plt.show()"
      ],
      "execution_count": null,
      "outputs": [
        {
          "output_type": "display_data",
          "data": {
            "image/png": "[encoded data removed]",
            "text/plain": [
              "<Figure size 500x300 with 3 Axes>"
            ]
          },
          "metadata": {}
        }
      ]
    },
    {
      "cell_type": "markdown",
      "metadata": {
        "id": "yV4h9vN77wNX"
      },
      "source": [
        "> # Conclusiones:\n",
        "\n",
        "\n",
        "*   Puedo decir que el metodo es consistente ya que se puede observar que el error local tiene una tendecia a bajar, y tampoco se dispara.\n",
        "\n",
        "*   Puedo decir que el metodo converge ya que al observar los errores globales obtenidos, se ve que estos van dismunuyendo en cada iteracion y no se dispara."
      ]
    },
    {
      "cell_type": "code",
      "metadata": {
        "id": "V7Ww9Nvj8ESb",
        "colab": {
          "base_uri": "https://localhost:8080/",
          "height": 288
        },
        "outputId": "ae4e768d-e49a-409a-d2e0-22d42f4b1532"
      },
      "source": [
        "import numpy as np\n",
        "import matplotlib.pyplot as plt\n",
        "\n",
        "\n",
        "#Ejercicio b)\n",
        "\n",
        "y_real=[-1,-0.167874,0.26466472,0.55021293,0.78168436,0.99326205]\n",
        "y_aproximado=[-1,0.2,-0.1,0.287,158,2.01*10**(6)]\n",
        "\n",
        "error_local = [0,0.200, 0.300, 2.971,155,2.01*10**(6)]\n",
        "error_global = [0,0.368, 0.365, 2.320, 157, 2.01*10**(6)]\n",
        "x = np.linspace(0,1,6)\n",
        "\n",
        "#===================================Grafico los valores aproximados\n",
        "plt.figure(1, (10,6), 50, 'y', 'g')\n",
        "\n",
        "plt.subplot(2,1,1)\n",
        "#plt.plot(x,y_real, x,y_aproximado)\n",
        "plt.plot(x,y_real, marker=\"o\", color=\"red\")\n",
        "plt.plot(x,y_aproximado)\n",
        "\n",
        "plt.title(\"Metodo de Adam-Bashford 2\", fontsize=20)\n",
        "plt.legend(('Y verdadero','Y aproximado'), loc='upper left')\n",
        "plt.xlabel('x')\n",
        "plt.ylabel('y', fontsize=20)\n",
        "\n",
        "\n",
        "#===================================Grafico los errores\n",
        "#plt.figure(2, (10,6), 50, 'y', 'g')\n",
        "\n",
        "plt.subplot(2,2,3)\n",
        "plt.plot(x,error_local)\n",
        "\n",
        "plt.title(\"Error Local\", fontsize=20)\n",
        "plt.legend(('Error Local'), loc='upper left')\n",
        "plt.xlabel('x')\n",
        "plt.ylabel('y', fontsize=20)\n",
        "\n",
        "#plt.figure(3, (10,6), 50, 'y', 'g')\n",
        "plt.subplot(2,2,4)\n",
        "plt.plot(x,error_global)\n",
        "\n",
        "plt.title(\"Error Global\", fontsize=20)\n",
        "plt.legend(('Error Global'), loc='upper left')\n",
        "plt.xlabel('x')\n",
        "plt.ylabel('y', fontsize=20)\n",
        "\n",
        "\n",
        "plt.show()"
      ],
      "execution_count": null,
      "outputs": [
        {
          "output_type": "display_data",
          "data": {
            "image/png": "[encoded data removed]",
            "text/plain": [
              "<Figure size 500x300 with 3 Axes>"
            ]
          },
          "metadata": {}
        }
      ]
    },
    {
      "cell_type": "markdown",
      "metadata": {
        "id": "hSd03O579pxy"
      },
      "source": [
        "> # Conclusiones:\n",
        "\n",
        "\n",
        "*   Puedo decir que el metodo no es consistente ya que se puede observar que el error local se dispara.\n",
        "\n",
        "*   Puedo decir que el metodo no converge ya que al observar los errores globales se va disparando de gran manera."
      ]
    },
    {
      "cell_type": "code",
      "metadata": {
        "id": "1aZApKpTostJ",
        "colab": {
          "base_uri": "https://localhost:8080/",
          "height": 288
        },
        "outputId": "d38760e0-abbb-46ef-f0e9-b35af3dc205c"
      },
      "source": [
        "import numpy as np\n",
        "import matplotlib.pyplot as plt\n",
        "\n",
        "\n",
        "#Ejercicio b)\n",
        "\n",
        "y_real=[-1,-0.167874,0.26466472,0.55021293,0.78168436,0.99326205]\n",
        "y_aproximado=[-1,-0.242,0.262,0.540,0.787,0.993]\n",
        "\n",
        "error_local = [0,0.758, 0.504, 0.278, 0.247, 0.206]\n",
        "error_global = [0,0.074, 0.003, 0.010, 0.005, 0.0006]\n",
        "x = np.linspace(0,1,6)\n",
        "\n",
        "#===================================Grafico los valores aproximados\n",
        "plt.figure(1, (10,6), 50, 'y', 'g')\n",
        "\n",
        "plt.subplot(2,1,1)\n",
        "#plt.plot(x,y_real, x,y_aproximado)\n",
        "plt.plot(x,y_real, marker=\"o\", color=\"red\")\n",
        "plt.plot(x,y_aproximado)\n",
        "\n",
        "plt.title(\"Huen\", fontsize=20)\n",
        "plt.legend(('Y verdadero','Y aproximado'), loc='upper left')\n",
        "plt.xlabel('x')\n",
        "plt.ylabel('y', fontsize=20)\n",
        "\n",
        "\n",
        "#===================================Grafico los errores\n",
        "#plt.figure(2, (10,6), 50, 'y', 'g')\n",
        "\n",
        "plt.subplot(2,2,3)\n",
        "plt.plot(x,error_local)\n",
        "\n",
        "plt.title(\"Error Local\", fontsize=20)\n",
        "plt.legend(('Error Local'), loc='upper left')\n",
        "plt.xlabel('x')\n",
        "plt.ylabel('y', fontsize=20)\n",
        "\n",
        "#plt.figure(3, (10,6), 50, 'y', 'g')\n",
        "plt.subplot(2,2,4)\n",
        "plt.plot(x,error_global)\n",
        "\n",
        "plt.title(\"Error Global\", fontsize=20)\n",
        "plt.legend(('Error Global'), loc='upper left')\n",
        "plt.xlabel('x')\n",
        "plt.ylabel('y', fontsize=20)\n",
        "\n",
        "\n",
        "plt.show()"
      ],
      "execution_count": 2,
      "outputs": [
        {
          "output_type": "display_data",
          "data": {
            "image/png": "[encoded data removed]",
            "text/plain": [
              "<Figure size 500x300 with 3 Axes>"
            ]
          },
          "metadata": {}
        }
      ]
    },
    {
      "cell_type": "markdown",
      "metadata": {
        "id": "lh1GdtmIos9w"
      },
      "source": [
        "> # Conclusiones:\n",
        "\n",
        "\n",
        "*   Puedo decir que el metodo es consistente ya que se puede observar que el error local tiene una tendecia a bajar.\n",
        "\n",
        "*   Puedo decir que el metodo converge ya que al observar los errores globales obtenidos, se ve que estos van dismunuyendo y no se dispara."
      ]
    },
    {
      "cell_type": "markdown",
      "metadata": {
        "id": "BnvZQy79NuVm"
      },
      "source": [
        "\n",
        "\n",
        "----------------------------------------------------\n",
        "\n",
        "\n"
      ]
    },
    {
      "cell_type": "markdown",
      "metadata": {
        "id": "csfYhX9xCcg1"
      },
      "source": [
        "\n",
        "\n",
        "> ## iii. Implementar todos los métodos del apartado i) en Python. Evalué ambos PVI con valores de h de 10-2, 10-3 y 10-4."
      ]
    },
    {
      "cell_type": "code",
      "metadata": {
        "id": "uexKdB7oH3AQ"
      },
      "source": [
        "#METODO DE RUNGE-KUTTA 2: Utilizo el metodo de Euler Modificado (IMPLICITO)\n",
        "import numpy as np\n",
        "import matplotlib.pyplot as plt\n",
        "\n",
        "#Solucion exacta de la funcion a)\n",
        "def y_solucion(t):\n",
        "  return t*np.log(t) +2*t\n",
        "\n",
        "def y_prima(t,y):\n",
        "  return 1+(y/t)\n",
        "\n",
        "def RungeKutta2(t0, y0,h,maximo,f_sol,f_p):\n",
        "\tt_anterior=t0\n",
        "\ty_anterior=y0\n",
        "\tt_posterior = t_anterior + h\n",
        "\n",
        "\tfor i in range(maximo):\n",
        "\t\tk1=f_p(t_anterior, y_anterior)\n",
        "\t\tk2=f_p(t_posterior, y_anterior + h * k1)\n",
        "\t\ty_posterior= y_anterior + 0.5 * h *(k1+k2)\n",
        "\n",
        "\t\t#Calculo los errores\n",
        "\t\terror_local = np.abs(y_posterior-y_anterior)\n",
        "\t\terror_global = np.abs(y_posterior-f_sol(t_posterior))\n",
        "\t\tprint(f\"{i+1}: [t: {t_posterior}, y: {y_posterior}] , [EL: {error_local}, EG: {error_global}]\")\n",
        "\n",
        "\t\t#Para la proxima iteraccion\n",
        "\t\tt_anterior=t_posterior\n",
        "\t\ty_anterior=y_posterior\n",
        "\t\tt_posterior = t_anterior + h\n",
        "\t\t#pass\n",
        "\t\n",
        "#Intervalos\n",
        "a=1\n",
        "b=2\n",
        "h=10**(-2)\n",
        "#h=10**(-3)\n",
        "#h=10**(-4)\n",
        "#Valores iniciales\n",
        "t0=a\n",
        "y0=y_solucion(t0)\n",
        "maximo=int((b-a)/h) #Numero de iteracciones\n",
        "\n",
        "print(f\"0: [t: {t0}, y: {y0}] \")\n",
        "RungeKutta2(t0,y0,h,maximo,y_solucion,y_prima)"
      ],
      "execution_count": null,
      "outputs": []
    },
    {
      "cell_type": "code",
      "metadata": {
        "id": "beAFpLhM4PxP"
      },
      "source": [
        "#METODO DE RUNGE-KUTTA 4:\n",
        "\n",
        "import numpy as np\n",
        "import matplotlib.pyplot as plt\n",
        "\n",
        "#Solucion exacta de la funcion a)\n",
        "def y_solucion(t):\n",
        "  return t*np.log(t) +2*t\n",
        "\n",
        "def y_prima(t,y):\n",
        "  return 1+(y/t)\n",
        "  \n",
        "def RungeKutta4(t0, y0,h,maximo,f_sol,f_p):\n",
        "\tt_anterior=t0\n",
        "\ty_anterior=y0\n",
        "\tt_posterior = t_anterior + h\n",
        "\n",
        "\tfor i in range(maximo):\n",
        "\t\tk1=f_p(t_anterior, y_anterior)\n",
        "\t\tk2=f_p(t_anterior+h/2, y_anterior + (k1*h)/2)\n",
        "\t\tk3=f_p(t_anterior+h/2, y_anterior + (k2*h)/2)\n",
        "\t\tk4=f_p(t_anterior+h, y_anterior + h*k3)\n",
        "\t\ty_posterior= y_anterior + (h/6)* (k1 + 2*k2 + 2*k3+ k4)\n",
        "\n",
        "\t\t#Calculo los errores\n",
        "\t\terror_local = np.abs(y_posterior-y_anterior)\n",
        "\t\terror_global = np.abs(y_posterior-f_sol(t_posterior))\n",
        "\t\tprint(f\"{i+1}: [t: {t_posterior}, y: {y_posterior}] , [EL: {error_local}, EG: {error_global}]\")\n",
        "\n",
        "\t\t#Para la proxima iteraccion\n",
        "\t\tt_anterior=t_posterior\n",
        "\t\ty_anterior=y_posterior\n",
        "\t\tt_posterior = t_anterior + h\n",
        "\t\t#pass\n",
        "\n",
        "#Intervalos\n",
        "a=1\n",
        "b=2\n",
        "h=10**(-2)\n",
        "#h=10**(-3)\n",
        "#h=10**(-4)\n",
        "#Valores iniciales\n",
        "t0=a\n",
        "y0=y_solucion(t0)\n",
        "maximo=int((b-a)/h) #Numero de iteracciones\n",
        "\n",
        "print(f\"0: [t: {t0}, y: {y0}] \")\n",
        "RungeKutta4(t0,y0,h,maximo,y_solucion,y_prima)"
      ],
      "execution_count": null,
      "outputs": []
    },
    {
      "cell_type": "code",
      "metadata": {
        "id": "YWEVOyZ6Jz1b"
      },
      "source": [
        "#METODO DE ADAM-BASHFORD 2:\n",
        "\n",
        "import numpy as np\n",
        "import matplotlib.pyplot as plt\n",
        "\n",
        "#Solucion exacta de la funcion a)\n",
        "\n",
        "def y_solucion(t):\n",
        "  return t*np.log(t) +2*t\n",
        "\n",
        "def y_prima(t,y):\n",
        "  return 1+(y/t)\n",
        "\n",
        "\n",
        "\n",
        "def AdamsBashford2(t0, y0,h,maximo,f_sol,f_p):\n",
        "\t#Tomo los 2 puntos iniciales\n",
        "\n",
        "\tt1 = t0 + h\n",
        "\ty1 = y0 + h * f_p (t0, y0)\n",
        "\t#Calculo los errores\n",
        "\terror_local = np.abs(y1-y0)\n",
        "\terror_global = np.abs(y1-f_sol(t1))\n",
        "\tprint(f\"0: [t: {t1}, y: {y1}] , [EL: {error_local}, EG: {error_global}]\")\n",
        "\tprint(f\"----------------\")\n",
        "\tmaximo -=1\n",
        "\n",
        "\tfor i in range(maximo):\n",
        "\t\tk1= 3*f_p(t1, y1)\n",
        "\t\tk2=f_p(t0, y0)\n",
        "\t\t#Para la proxima iteraccion\n",
        "\t\tt0=t1\n",
        "\t\ty0=y1\n",
        "\t\t\n",
        "\t\t#Calculo Actual\n",
        "\t\tt1=t0+h \n",
        "\t\ty1= y0 + 0.5 * h *(k1-k2)\n",
        "\n",
        "\t\t#Calculo los errores\n",
        "\t\terror_local = np.abs(y1-y0)\n",
        "\t\terror_global = np.abs(y1-f_sol(t1))\n",
        "\t\tprint(f\"{i+1}: [t: {t1}, y: {y1}] , [EL: {error_local}, EG: {error_global}]\")\n",
        "\t\t#pass\n",
        "\t\n",
        "\n",
        "\n",
        "#Intervalos\n",
        "a=1\n",
        "b=2\n",
        "h=10**(-4)\n",
        "#Valores iniciales\n",
        "t0=a\n",
        "y0=y_solucion(t0)\n",
        "maximo=int((b-a)/h) #Numero de iteracciones\n",
        "\n",
        "print(f\"--------Puntos iniciales\")\n",
        "print(f\"0: [t: {t0}, y: {y0}] \")\n",
        "AdamsBashford2(t0,y0,h,maximo,y_solucion,y_prima)"
      ],
      "execution_count": null,
      "outputs": []
    },
    {
      "cell_type": "code",
      "metadata": {
        "id": "3FG7Rl-Y2VAr"
      },
      "source": [
        "import numpy as np\n",
        "import matplotlib.pyplot as plt\n",
        "\n",
        "#Solucion exacta de la funcion a)\n",
        "def y_solucion(t):\n",
        "  return t*np.log(t) +2*t\n",
        "\n",
        "def y_prima(t,y):\n",
        "  return 1+(y/t)\n",
        "\n",
        "#Predictor\n",
        "def EulerExplicito(t, y, h , f_p):\n",
        "    return y + h *f_p(t,y)\n",
        "\n",
        "#Corrector\n",
        "def Trapecio(t0, t1, y0,y1,h,f_p):\n",
        "    k1=f_p(t0, y0)\n",
        "    k2=f_p(t1, y1)\n",
        "    y_posterior= y0 + 0.5 * h *(k1+k2)\n",
        "\n",
        "    return y_posterior\n",
        "\n",
        "\n",
        "def Huen(t0, y0,h,maximo,f_sol,f_p, E):\n",
        "    t1=t0+h\n",
        "    \n",
        "    i, count = (0,0) #Contadores\n",
        "\n",
        "    for i in range(maximo):\n",
        "        error = E + 1 #Error\n",
        "        y1=EulerExplicito(t0, y0, h, f_p) ##PREDICTOR\n",
        "\n",
        "        ##CORRECTOR\n",
        "        while np.abs(error) > E and count<maximo:\n",
        "            y_anterior = y1\n",
        "            y1= Trapecio(t0, t1, y0, y1,h, f_p)\n",
        "            error = np.abs(y_anterior-y1)\n",
        "            count +=1\n",
        "            #print(f\"****{j+1}: [y: {y1}] , [Error: {error}, Iteracciones: {count}]\")\n",
        "            #pass\n",
        "        #pass\n",
        "        count=0\n",
        "\n",
        "        #Calculo los errores\n",
        "        error_local = np.abs(y1-y0)\n",
        "        error_global = np.abs(y1-f_sol(t1))\n",
        "        print(f\"{i+1}: [t: {t1}, y: {y1}] , [EL: {error_local}, EG: {error_global}]\")\n",
        "\n",
        "        #Para la proxima iteraccion\n",
        "        t0=t1\n",
        "        t1 = t0 + h\n",
        "        y0=y1\n",
        "        \n",
        "\n",
        "\n",
        "#Intervalos\n",
        "a=1\n",
        "b=2\n",
        "h=10**(-4)\n",
        "#Valores iniciales\n",
        "t0=a\n",
        "y0=y_solucion(t0)\n",
        "maximo=int((b-a)/h) #Numero de iteracciones\n",
        "error=10**(-2)\n",
        "\n",
        "print(f\"0: [t: {t0}, y: {y0}] \")\n",
        "Huen(t0,y0,h,maximo,y_solucion,y_prima, error)"
      ],
      "execution_count": null,
      "outputs": []
    },
    {
      "cell_type": "markdown",
      "metadata": {
        "id": "xOQpjTV51yUh"
      },
      "source": [
        "\n",
        "\n",
        "> # Conclusiones:\n",
        "\n",
        "\n",
        "*   **RUNGE-KUTTA 2:** \n",
        "  *   **h=10^(-2):**\n",
        "      *   Se podria decir que el metodo es consistente, si bien va aumentando, no se dispara de una gran manera, sino que se va manteniendo en un cierto estado.\n",
        "\n",
        "      *   No converge ya que en el error global se observa una inestabilidad, es decir se dispara , luego dismonuye y vuelve a aumentar de una gran manera hasta cierto punto, donde a partir de alli va disminuyendo.\n",
        "\n",
        "  *   **h=10^(-3):**\n",
        "      *  Se podria decir que el metodo es consistente, si bien va aumentando, no se dispara de una gran manera, sino que se va manteniendo en un cierto estado. \n",
        "\n",
        "      *   No converge ya que en el error global se observa una inestabilidad, es decir se dispara , luego dismonuye y vuelve a aumentar de una gran manera hasta cierto punto, donde a partir de alli va disminuyendo.\n",
        "\n",
        "  *   **h=10^(-4):**\n",
        "      *  Se podria decir que el metodo es consistente, si bien va aumentando, no se dispara de una gran manera, sino que se va manteniendo en un cierto estado. \n",
        "\n",
        "      *   No converge ya que en el error global se observa una inestabilidad, es decir se dispara , luego dismonuye y vuelve a aumentar de una gran manera hasta cierto punto, donde a partir de alli va disminuyendo.\n",
        "\n",
        "\n",
        "---\n",
        "*   **RUNGE-KUTTA 4:**\n",
        "  *   **h=10^(-2):**\n",
        "      *   Se podria decir que el metodo es consistente, si bien va aumentando, no se dispara de una gran manera, sino que se va manteniendo en un cierto estado.\n",
        "\n",
        "      *   Decimos que converge ya que en el error global mantiene una estabilidad, si bien aumenta no se dispara de gran manera.  \n",
        "\n",
        "  *   **h=10^(-3):**\n",
        "      *   Se podria decir que el metodo es consistente, si bien va aumentando, no se dispara de una gran manera, sino que se va manteniendo en un cierto estado.\n",
        "\n",
        "      *   Decimos que converge ya que en el error global mantiene una estabilidad, si bien aumenta no se dispara de gran manera. \n",
        "      \n",
        "  *   **h=10^(-4):**\n",
        "      *   Se podria decir que el metodo es consistente, si bien va aumentando, no se dispara de una gran manera, sino que se va manteniendo en un cierto estado.\n",
        "\n",
        "      *   Decimos que converge ya que en el error global mantiene una estabilidad, si bien aumenta no se dispara de gran manera.  \n",
        "  \n",
        "---\n",
        "*   **ADAM-BASHFORD 2:**\n",
        "  *   **h=10^(-2):**\n",
        "      *   Se podria decir que el metodo es consistente, si bien va aumentando, no se dispara de una gran manera, sino que se va manteniendo en un cierto estado.\n",
        "\n",
        "      *   Decimos que converge ya que en el error global mantiene una estabilidad, si bien aumenta no se dispara de gran manera.  \n",
        "\n",
        "  *   **h=10^(-3):**\n",
        "      *   Se podria decir que el metodo es consistente, si bien va aumentando, no se dispara de una gran manera, sino que se va manteniendo en un cierto estado.\n",
        "\n",
        "      *   Decimos que converge ya que en el error global mantiene una estabilidad, si bien aumenta no se dispara de gran manera. \n",
        "      \n",
        "  *   **h=10^(-4):**\n",
        "      *   Se podria decir que el metodo es consistente, si bien va aumentando, no se dispara de una gran manera, sino que se va manteniendo en un cierto estado.\n",
        "\n",
        "      *   Decimos que converge ya que en el error global mantiene una estabilidad, si bien aumenta no se dispara de gran manera.\n",
        "\n",
        "---\n",
        "*   **HUEN:**\n",
        "  *   **h=10^(-2):**\n",
        "      *   Se podria decir que el metodo es consistente, si bien va aumentando, no se dispara de una gran manera, sino que se va manteniendo en un cierto estado.\n",
        "\n",
        "      *   Decimos que converge ya que en el error global mantiene un cierto estado y no se dispara de gran manera.  \n",
        "\n",
        "  *   **h=10^(-3):**\n",
        "      *   Se podria decir que el metodo es consistente, si bien va aumentando, no se dispara de una gran manera, sino que se va manteniendo en un cierto estado.\n",
        "\n",
        "      *   Decimos que converge ya que en el error global mantiene un cierto estado y no se dispara de gran manera. \n",
        "      \n",
        "  *   **h=10^(-4):**\n",
        "      *   Se podria decir que el metodo es consistente, si bien va aumentando, no se dispara de una gran manera, sino que se va manteniendo en un cierto estado.\n",
        "\n",
        "      *   Decimos que converge ya que en el error global mantiene un cierto estado y no se dispara de gran manera.\n",
        "\n",
        "\n"
      ]
    },
    {
      "cell_type": "code",
      "metadata": {
        "id": "MXmA3hZAM8dj"
      },
      "source": [
        "#Solucion exacta de la funcion b)\n",
        "def y_solucion(t):\n",
        "  return t-np.exp(-5*t)\n",
        "\n",
        "def y_prima(t,y):\n",
        "  return 5*np.exp(5*t)*(y-t)**(2)+1\n",
        "\n",
        "\n",
        "#Intervalos\n",
        "a=0\n",
        "b=1\n",
        "h=10**(-2)\n",
        "#h=10**(-3)\n",
        "#h=10**(-4)\n",
        "#Valores iniciales\n",
        "t0=a\n",
        "y0=y_solucion(t0)\n",
        "maximo=int((b-a)/h) #Numero de iteracciones\n",
        "\n",
        "print(f\"0: [t: {t0}, y: {y0}] \")\n",
        "RungeKutta2(t0,y0,h,maximo,y_solucion,y_prima)"
      ],
      "execution_count": null,
      "outputs": []
    },
    {
      "cell_type": "code",
      "metadata": {
        "id": "bAO2YQo-7NXJ"
      },
      "source": [
        "print(f\"0: [t: {t0}, y: {y0}] \")\n",
        "RungeKutta4(t0,y0,h,maximo,y_solucion,y_prima)"
      ],
      "execution_count": null,
      "outputs": []
    },
    {
      "cell_type": "code",
      "metadata": {
        "id": "TCzlz5puLTVy"
      },
      "source": [
        "print(f\"--------Puntos iniciales\")\n",
        "print(f\"0: [t: {t0}, y: {y0}] \")\n",
        "AdamsBashford2(t0,y0,h,maximo,y_solucion,y_prima)"
      ],
      "execution_count": null,
      "outputs": []
    },
    {
      "cell_type": "code",
      "metadata": {
        "id": "4mmYiYt-4iG0"
      },
      "source": [
        "error=10**(-2)\n",
        "\n",
        "print(f\"0: [t: {t0}, y: {y0}] \")\n",
        "Huen(t0,y0,h,maximo,y_solucion,y_prima, error)"
      ],
      "execution_count": null,
      "outputs": []
    },
    {
      "cell_type": "markdown",
      "metadata": {
        "id": "9zbSe8J73U1e"
      },
      "source": [
        "\n",
        "> # Conclusiones:\n",
        "\n",
        "\n",
        "*   **RUNGE-KUTTA 2:** \n",
        "  *   **h=10^(-2):**\n",
        "      *   Se podria decir que el metodo es consistente, si bien va aumentando, no se dispara de una gran manera, sino que se va manteniendo en un cierto estado.\n",
        "\n",
        "      *   No converge ya que en el error global se observa una inestabilidad, es decir se dispara , luego dismonuye y vuelve a aumentar de una gran manera hasta cierto punto, donde a partir de alli va disminuyendo.\n",
        "\n",
        "  *   **h=10^(-3):**\n",
        "      *  Se podria decir que el metodo es consistente, si bien va aumentando, no se dispara de una gran manera, sino que se va manteniendo en un cierto estado. \n",
        "\n",
        "      *   Se podria decir que converge ya que el error global no aumenta de gran manera, incluso hasta cierto punto vuelve a dismunuir.\n",
        "\n",
        "  *   **h=10^(-4):**\n",
        "      *  Se podria decir que el metodo es consistente, si bien va aumentando, no se dispara de una gran manera, sino que se va manteniendo en un cierto estado. \n",
        "\n",
        "      *   Se podria decir que converge ya que el error global no aumenta de gran manera, incluso hasta cierto punto vuelve a dismunuir.\n",
        "\n",
        "---\n",
        "\n",
        "*   **RUNGE-KUTTA 4:**\n",
        "  *   **h=10^(-2):**\n",
        "      *   Se podria decir que el metodo es consistente ya que el error local va disminuyendo.\n",
        "\n",
        "      *   Se puede decir que converge ya que el error global mantiene una estabilidad, y no se dispara de gran forma.\n",
        "\n",
        "  *   **h=10^(-3):**\n",
        "      *   Se podria decir que el metodo es consistente ya que el error local va disminuyendo.\n",
        "\n",
        "      *   Se puede decir que converge ya que el error global mantiene una estabilidad, y no se dispara de gran forma.\n",
        "\n",
        "  *   **h=10^(-4):**\n",
        "      *   Se podria decir que el metodo es consistente, si bien va aumentando, no se dispara de una gran manera, sino que se va manteniendo en un cierto estado.\n",
        "\n",
        "      *   No converge ya que el error global mantiene una inestabilidad. \n",
        "---\n",
        "*   **ADAM-BASHFORD 2:**\n",
        "  *   **h=10^(-2):**\n",
        "      *   Se podria decir que el metodo es consistente, si bien va aumentando, no se dispara de una gran manera, sino que se va manteniendo en un cierto estado.\n",
        "\n",
        "      *   Decimos que no converge ya que en el error global mantiene una inestabilidad.  \n",
        "\n",
        "  *   **h=10^(-3):**\n",
        "      *   Se podria decir que el metodo es consistente, si bien va aumentando, no se dispara de una gran manera, sino que se va manteniendo en un cierto estado.\n",
        "\n",
        "      *   Decimos que converge ya que en el error global mantiene una estabilidad, si bien aumenta no se dispara de gran manera. \n",
        "      \n",
        "  *   **h=10^(-4):**\n",
        "      *   Se podria decir que el metodo es consistente, si bien va aumentando, no se dispara de una gran manera, sino que se va manteniendo en un cierto estado.\n",
        "\n",
        "      *   Decimos que converge ya que en el error global mantiene una estabilidad, si bien aumenta no se dispara de gran manera.\n",
        "\n",
        "---\n",
        "*   **HUEN:**\n",
        "  *   **h=10^(-2):**\n",
        "      *   Se podria decir que el metodo es consistente, porque el error local va dismuniyendo en cada iteracion.\n",
        "\n",
        "      *   Decimos que no converge ya que en el error global no mantiene un cierto estado.  \n",
        "\n",
        "  *   **h=10^(-3):**\n",
        "      *   Se podria decir que el metodo es consistente, si bien va aumentando, no se dispara de una gran manera, sino que se va manteniendo en un cierto estado.\n",
        "\n",
        "      *   Decimos que ni converge ya que en el error global mantiene un cierto estado. \n",
        "      \n",
        "  *   **h=10^(-4):**\n",
        "      *   Se podria decir que el metodo es consistente, si bien va aumentando, no se dispara de una gran manera, sino que se va manteniendo en un cierto estado.\n",
        "\n",
        "      *   Decimos que ni converge ya que en el error global mantiene un cierto estado. \n",
        "\n",
        "\n"
      ]
    },
    {
      "cell_type": "markdown",
      "metadata": {
        "id": "9KioJ9yFOAu6"
      },
      "source": [
        "----------------------------------------------------\n"
      ]
    },
    {
      "cell_type": "markdown",
      "metadata": {
        "id": "Tiaajzvq1x_c"
      },
      "source": [
        "\n",
        "#2.   Investigue sobre los métodos para resolver ecuaciones diferenciales ordinarias implementados en la librería **scipy.interpolate** de Python, y explique en que se basan cada uno de estos algoritmos. Elija y justifique cual método es el apropiado para resolver los siguientes problemas de valor inicial: "
      ]
    },
    {
      "cell_type": "code",
      "metadata": {
        "id": "1LcOwGwfNW8V",
        "colab": {
          "base_uri": "https://localhost:8080/",
          "height": 355
        },
        "outputId": "0f8785a3-c397-45ac-9aa6-fe0fae8ba016"
      },
      "source": [
        "import numpy as np\n",
        "import matplotlib.pyplot as plt\n",
        "from scipy.integrate import ode, odeint, solve_ivp\n",
        "\n",
        "\n",
        "#Punto 2 i)\n",
        "\n",
        "def y_prima(x,y):\n",
        "    return 4*np.exp(0.8*x)-0.5*y\n",
        "    #pass\n",
        "\n",
        "def y_solucion(x):\n",
        "    return 3.07692*np.exp(0.8*x)-2.07692/np.exp(0.5*x)\n",
        "\"\"\"\n",
        "def Euler(x0, y0, h, f_p):\n",
        "    return y0 + h * f_p(x0, y0)\n",
        "    #pass\n",
        "\"\"\"\n",
        "\n",
        "a, b = 0, 1\n",
        "#t0= 0\n",
        "t0 = np.linspace(a,b,2) \n",
        "y0=y_solucion(t0)\n",
        "\n",
        "sol=odeint(y_prima, y0, t0)\n",
        "print(f\"y: {sol}\")\n",
        "\n",
        "plt.plot(t0, sol[:, 0], label=\"i1_t\")\n",
        "plt.plot(t0, sol[:, 1], label=\"i2_t\")\n",
        "plt.legend()\n",
        "plt.show()"
      ],
      "execution_count": 3,
      "outputs": [
        {
          "output_type": "stream",
          "name": "stderr",
          "text": [
            "/usr/local/lib/python3.7/dist-packages/scipy/integrate/odepack.py:248: ODEintWarning: Excess work done on this call (perhaps wrong Dfun type). Run with full_output = 1 to get quantitative information.\n",
            "  warnings.warn(warning_msg, ODEintWarning)\n"
          ]
        },
        {
          "output_type": "stream",
          "name": "stdout",
          "text": [
            "y: [[ 1.          5.58809574]\n",
            " [ 1.03223947 50.85631546]]\n"
          ]
        },
        {
          "output_type": "display_data",
          "data": {
            "image/png": "[encoded data removed]",
            "text/plain": [
              "<Figure size 432x288 with 1 Axes>"
            ]
          },
          "metadata": {
            "needs_background": "light"
          }
        }
      ]
    },
    {
      "cell_type": "code",
      "metadata": {
        "colab": {
          "base_uri": "https://localhost:8080/"
        },
        "id": "hYiK2vnSVknu",
        "outputId": "6cc88628-49b2-40e6-8b35-425babe977a9"
      },
      "source": [
        "import numpy as np\n",
        "import matplotlib.pyplot as plt\n",
        "from scipy.integrate import ode, odeint, solve_ivp\n",
        "\n",
        "def y_prima(x,y):\n",
        "\treturn 4*np.exp(0.8*x)-0.5*y\n",
        "\t#pass\n",
        "\n",
        "def y_solucion(x):\n",
        "\treturn 3.07692*np.exp(0.8*x)-2.07692/np.exp(0.5*x)\n",
        "\n",
        "\n",
        "a, b = 0, 1\n",
        "t0 = np.linspace(a,b,2) \n",
        "\n",
        "y0=[1]\n",
        "res = solve_ivp(y_prima, t0, y0, method='LSODA' )\n",
        "\n",
        "#res = solve_ivp(y_prima, t0, y0, method='LSODA' , rtol=10**(-10) )\n",
        "print(f\"y: {res}\")"
      ],
      "execution_count": 12,
      "outputs": [
        {
          "output_type": "stream",
          "name": "stdout",
          "text": [
            "y:   message: 'The solver successfully reached the end of the integration interval.'\n",
            "     nfev: 15\n",
            "     njev: 0\n",
            "      nlu: 0\n",
            "      sol: None\n",
            "   status: 0\n",
            "  success: True\n",
            "        t: array([0.        , 0.00869548, 0.01739095, 0.15209273, 0.28679451,\n",
            "       0.42149629, 0.73196331, 1.        ])\n",
            " t_events: None\n",
            "        y: array([[1.        , 1.03054416, 1.06119954, 1.55068036, 2.07182708,\n",
            "        2.62980975, 4.08633268, 5.58899299]])\n",
            " y_events: None\n"
          ]
        }
      ]
    },
    {
      "cell_type": "code",
      "metadata": {
        "id": "gONnjfqlOK-d",
        "colab": {
          "base_uri": "https://localhost:8080/"
        },
        "outputId": "b47bc59f-b2da-4e40-e6dd-af80b66b4be3"
      },
      "source": [
        "import numpy as np\n",
        "import matplotlib.pyplot as plt\n",
        "from scipy.integrate import ode, odeint, solve_ivp\n",
        "\n",
        "\n",
        "#Punto 2 ii)\n",
        "\n",
        "def y_prima(x,y):\n",
        "\treturn x*np.exp(3*x)-2*y\n",
        "\t#pass\n",
        "\n",
        "def y_solucion(x):\n",
        "\treturn 0.2*x*np.exp(3*x)-0.04*np.exp(3*x)+0.04*np.exp(-2*x)\n",
        "\n",
        "a, b = 0, 1\n",
        "#t0= 0\n",
        "t0 = np.linspace(a,b,2) \n",
        "y0=y_solucion(t0)\n",
        "\n",
        "print(f\"y: {odeint(y_prima, y0, t0)}\")\n",
        "\n",
        "\n"
      ],
      "execution_count": 4,
      "outputs": [
        {
          "output_type": "stream",
          "name": "stdout",
          "text": [
            "y: [[ 0.00000000e+00  3.21909932e+00]\n",
            " [-3.65674553e-11  1.57303735e+01]]\n"
          ]
        },
        {
          "output_type": "stream",
          "name": "stderr",
          "text": [
            "/usr/local/lib/python3.7/dist-packages/scipy/integrate/odepack.py:248: ODEintWarning: Excess work done on this call (perhaps wrong Dfun type). Run with full_output = 1 to get quantitative information.\n",
            "  warnings.warn(warning_msg, ODEintWarning)\n"
          ]
        }
      ]
    },
    {
      "cell_type": "code",
      "metadata": {
        "id": "rhzXxnTvP8JV",
        "colab": {
          "base_uri": "https://localhost:8080/"
        },
        "outputId": "3b9ffa6d-fa04-4fa1-aa74-23910dc2c21b"
      },
      "source": [
        "import numpy as np\n",
        "import matplotlib.pyplot as plt\n",
        "from scipy.integrate import ode, odeint, solve_ivp\n",
        "\n",
        "\n",
        "#Punto 2 iii)\n",
        "\n",
        "def y_prima(x,y):\n",
        "\treturn np.exp(x)-y\n",
        "\t#pass\n",
        "\n",
        "def y_solucion(x):\n",
        "\treturn np.log(np.exp(x)+np.exp(1)-1)\n",
        "\n",
        "a, b = 0, 1\n",
        "#t0= 0\n",
        "t0 = np.linspace(a,b,2) \n",
        "y0=y_solucion(t0)\n",
        "\n",
        "print(f\"y: {odeint(y_prima, y0, t0)}\")\n",
        "\n",
        "\n"
      ],
      "execution_count": 5,
      "outputs": [
        {
          "output_type": "stream",
          "name": "stdout",
          "text": [
            "y: [[ 1.          1.48988013]\n",
            " [ 1.92271201 36.22498706]]\n"
          ]
        },
        {
          "output_type": "stream",
          "name": "stderr",
          "text": [
            "/usr/local/lib/python3.7/dist-packages/scipy/integrate/odepack.py:248: ODEintWarning: Excess work done on this call (perhaps wrong Dfun type). Run with full_output = 1 to get quantitative information.\n",
            "  warnings.warn(warning_msg, ODEintWarning)\n"
          ]
        }
      ]
    },
    {
      "cell_type": "markdown",
      "metadata": {
        "id": "XykoHW_I2TYo"
      },
      "source": [
        "\n",
        "\n",
        "\n",
        "\n",
        "\n",
        "> *Rta: Esta libreria contiene funciones para poder resolver Ecuaciones diferenciales en forma numérica con Python, particularmente los dos solucionadores de ecuaciones diferenciales ordinarias, **integrate.odeint** y **integrate.ode**. La principal diferencia entre ambos, es que integrate.ode es más flexible, ya que nos ofrece la posibilidad de elegir entre distintos solucionadores. *\n",
        "\n",
        "\n",
        "\n",
        "> Tambien tiene **solve_ivp** que es más nuevo y, a menudo, más conveniente; es una solución más general que permite a los usuarios decidir qué integrador utilizar para resolver las EDO. Si define el methodparámetro como method='LSODA', utilizará el mismo integrador que odeint. Además, puede elegir otros métodos como BDF y RK25 .\n",
        "En cuanto al rendimiento, hay un ticket que indica que solve_ivpes más lento. \n",
        "\n",
        "\n",
        "\n",
        "\n",
        "\n",
        "\n",
        "\n"
      ]
    }
  ]
}