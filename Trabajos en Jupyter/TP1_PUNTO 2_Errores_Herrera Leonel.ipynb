{
 "cells": [
  {
   "cell_type": "markdown",
   "metadata": {},
   "source": [
    "# PUNTO 2"
   ]
  },
  {
   "cell_type": "code",
   "execution_count": 3,
   "metadata": {},
   "outputs": [
    {
     "name": "stdout",
     "output_type": "stream",
     "text": [
      "Numero verdadero:  1.0823221\n",
      "Numero redondeado:  1.08\n",
      "Error relativo:  0.002145459\n"
     ]
    }
   ],
   "source": [
    "import numpy as np\n",
    "from math import pi, fabs\n",
    "\n",
    "#Suma de la serie infinita\n",
    "def suma_serie(N):\n",
    "    suma = np.float32(0)\n",
    "    for i in range(1,N):\n",
    "        suma=suma+np.float32(1/np.float32(i**4))\n",
    "    return suma\n",
    "\n",
    "#Error relativo\n",
    "def error_relativo(N):\n",
    "    resultado= np.float32(0)\n",
    "    print(\"Numero redondeado: \" , round(N,2))\n",
    "    error_abs = fabs((N-round(N,2))) #Valor absoluto entre el verdadero numero y el numero redondeado\n",
    "    resultado = resultado+np.float32(error_abs/N)\n",
    "    return resultado;\n",
    "\n",
    "\n",
    "print(\"Numero verdadero: \" , suma_serie(10000))\n",
    "print(\"Error relativo: \", error_relativo(suma_serie(10000)))"
   ]
  },
  {
   "cell_type": "code",
   "execution_count": 5,
   "metadata": {},
   "outputs": [
    {
     "name": "stdout",
     "output_type": "stream",
     "text": [
      "Numero verdadero:  0.08232324\n",
      "Numero redondeado:  0.08\n",
      "Error relativo:  0.02822095\n"
     ]
    }
   ],
   "source": [
    "import numpy as np\n",
    "from math import pi, fabs\n",
    "\n",
    "def error_relativo(N):\n",
    "    resultado= np.float32(0)\n",
    "    print(\"Numero redondeado: \" , round(N,2))\n",
    "    error_abs = fabs((N-round(N,2))) #Valor absoluto entre el verdadero numero y el numero redondeado\n",
    "    resultado = resultado+np.float32(error_abs/N)\n",
    "    return resultado;\n",
    "\n",
    "#Suma de la serie infinita al inverso\n",
    "def suma_serie_inversa(N):\n",
    "    suma = np.float32(0)\n",
    "    for i in range(N,1,-1):\n",
    "        suma=suma+np.float32(1/np.float32(i**4))\n",
    "    return suma\n",
    "\n",
    "print(\"Numero verdadero: \" , suma_serie_inversa(10000))\n",
    "print(\"Error relativo: \", error_relativo(suma_serie_inversa(10000)))\n"
   ]
  },
  {
   "cell_type": "code",
   "execution_count": null,
   "metadata": {},
   "outputs": [],
   "source": []
  }
 ],
 "metadata": {
  "kernelspec": {
   "display_name": "Python 3",
   "language": "python",
   "name": "python3"
  },
  "language_info": {
   "codemirror_mode": {
    "name": "ipython",
    "version": 3
   },
   "file_extension": ".py",
   "mimetype": "text/x-python",
   "name": "python",
   "nbconvert_exporter": "python",
   "pygments_lexer": "ipython3",
   "version": "3.7.6"
  }
 },
 "nbformat": 4,
 "nbformat_minor": 4
}
