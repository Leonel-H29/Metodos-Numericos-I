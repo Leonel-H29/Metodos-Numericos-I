{
 "cells": [
  {
   "cell_type": "markdown",
   "metadata": {},
   "source": [
    "# PUNTO 2"
   ]
  },
  {
   "cell_type": "code",
   "execution_count": 4,
   "metadata": {},
   "outputs": [
    {
     "name": "stdout",
     "output_type": "stream",
     "text": [
      "0.625\n",
      "0.390625\n"
     ]
    }
   ],
   "source": [
    "import numpy as np\n",
    "import matplotlib.pyplot as plt\n",
    "from math import pi, fabs , sqrt, log\n",
    "import random\n",
    "from sympy import *\n",
    "\n",
    "def f(x): return(x**2)\n",
    "\n",
    "def trapecio_compuesta(a,b,n,h,f):\n",
    "    #h = (b-a)/n\n",
    "    \n",
    "    sumatoria = 0\n",
    "    \n",
    "    for i in range(1, n):\n",
    "        sumatoria += f(a + h*i)\n",
    "        \n",
    "    return (h/2) * (f(a) + 2 * sumatoria + f(b))\n",
    "\n",
    "print(trapecio_compuesta(-1,1,2,0.5, f)) #Valor de la integral con h=0.5\n",
    "print(trapecio_compuesta(-1,1,2,0.25, f)) #Valor de la integral con h=0.25"
   ]
  },
  {
   "cell_type": "code",
   "execution_count": 7,
   "metadata": {},
   "outputs": [
    {
     "name": "stdout",
     "output_type": "stream",
     "text": [
      "Ir ≈  0.31249999999999994\n"
     ]
    }
   ],
   "source": [
    "def Richadson(i1,i2): return ((4/3)*i2 - (1/3)*i1)\n",
    "\n",
    "print(\"Ir ≈ \", Richadson(trapecio_compuesta(-1,1,2,0.5, f),trapecio_compuesta(-1,1,2,0.25, f)))\n",
    "\n",
    "\n",
    " #Iv = 0.666666666  Valor real de la Integral"
   ]
  },
  {
   "cell_type": "markdown",
   "metadata": {},
   "source": [
    "# PUNTO 3"
   ]
  },
  {
   "cell_type": "code",
   "execution_count": 8,
   "metadata": {},
   "outputs": [
    {
     "name": "stdout",
     "output_type": "stream",
     "text": [
      "LU\n",
      "[2. 1. 1.]\n",
      "[2. 3. 3.]\n",
      "[ 3.  1. -2.]\n",
      "Solución del sistema:\n",
      "[2.5, 3.0, -6.0]\n"
     ]
    }
   ],
   "source": [
    "import numpy as np\n",
    "\n",
    "\n",
    "\n",
    "def sust_adel_LU(L, b):\n",
    "    \"\"\"Resuelve un sistema de ecuaciones\n",
    "    con matriz de coeficientes triangular inferior \n",
    "    mediante el metodo de sustitución hacia adelante\n",
    "    y retorna la matriz de incógnitas.\n",
    "    \n",
    "    Argumentos:\n",
    "    L -- Matriz de coeficientes triangular inferior\n",
    "    b -- Matriz de terminos independientes\n",
    "    \"\"\"\n",
    "    \n",
    "    x = [0, 0, 0]\n",
    "    \n",
    "    suma = 0\n",
    "    \n",
    "    x[0] = b[0]\n",
    "    \n",
    "    for i in range(1,len(b)):\n",
    "        suma = 0\n",
    "        for j in range(0, i):\n",
    "            suma += L[i][j] * x[j]\n",
    "        \n",
    "        x[i] = (b[i] - suma)\n",
    "    \n",
    "    return x\n",
    "\n",
    "def sust_atras_LU(U, b):\n",
    "    \"\"\"Resuelve un sistema de ecuaciones\n",
    "    con matriz de coeficientes triangular superior \n",
    "    mediante el metodo de sustitución hacia atrás\n",
    "    y retorna la matriz de incógnitas.\n",
    "    \n",
    "    Argumentos:\n",
    "    U -- Matriz de coeficientes triangular superior\n",
    "    b -- Matriz de terminos independientes\n",
    "    \"\"\"\n",
    "    \n",
    "    x = [0, 0, 0]\n",
    "    n = len(b)-1\n",
    "    suma = 0\n",
    "    \n",
    "    x[n] = b[n] / U[n][n]\n",
    "    \n",
    "    for i in range(n-1, -1, -1):\n",
    "        suma = 0\n",
    "        for j in range(i+1, n+1):\n",
    "            suma += U[i][j] * x[j]\n",
    "\n",
    "        x[i] = (b[i] - suma) / U[i][i]\n",
    "    \n",
    "    return x\n",
    "\n",
    "def resolver_LU(L, U, b):\n",
    "    \"\"\"Resuelve un sistema de ecuaciones\n",
    "    con las matrices L y U resultantes del\n",
    "    metodo de factorizacion LU\n",
    "    y retorna la matriz de incógnitas.\n",
    "    \n",
    "    Argumentos:\n",
    "    L -- Matriz de coeficientes triangular inferior\n",
    "    U -- Matriz de coeficientes triangular superior\n",
    "    b -- Matriz de terminos independientes\n",
    "    \"\"\"\n",
    "    \n",
    "    return sust_atras_LU(U, sust_adel_LU(L, b))\n",
    "\n",
    "\n",
    "def factorizar_LU_PE(A):\n",
    "    \"\"\"Factoriza la matriz A\n",
    "    mediante metodo de pivoteo parcial escalado.\n",
    "    \n",
    "    Argumentos:\n",
    "    A -- Matriz de coeficientes\n",
    "    \n",
    "    \n",
    "    Retorna en forma de tupla: \n",
    "    LU -- Matriz compuesta por L y U\n",
    "    mov -- Número de movimientos\n",
    "    \"\"\"\n",
    "    n = len(A)\n",
    "    mov = 0\n",
    "    LU = np.array(A, dtype=float)\n",
    "    P = np.arange(n)\n",
    "    S = np.arange(n)\n",
    "\n",
    "    #Inicializar S        \n",
    "    for i in range(0, len(A)):\n",
    "        S[i] = np.max(np.abs(A[i]))\n",
    "    \n",
    "    for k in range(0, n-1):\n",
    "        #Determinar la fila maxima\n",
    "        fila_max = k\n",
    "        maximo = np.abs(LU[P[k]][k]) / S[P[k]]\n",
    "        for i in range(k, n):\n",
    "            if ( (np.abs(LU[P[i]][k]) / S[P[i]]) > maximo ):\n",
    "                maximo = (np.abs(LU[P[i]][k]) / S[P[i]]) \n",
    "                fila_max = i\n",
    "                \n",
    "        #Permutar filas en P\n",
    "        if (fila_max != k):\n",
    "            mov += 1\n",
    "            aux = P[k]\n",
    "            P[k] = fila_max\n",
    "            P[fila_max] = aux\n",
    "        \n",
    "        #Calcular LU \n",
    "        for i in range(k+1, n):\n",
    "            \n",
    "            LU[P[i]][k] = LU[P[i]][k] / LU[P[k]][k]\n",
    "            \n",
    "            for j in range(k+1, n):\n",
    "                LU[P[i]][j] = LU[P[i]][j] - LU[P[i]][k] * LU[P[k]][j]\n",
    "    \n",
    "    return (LU, P, mov)\n",
    "\n",
    "A = [[2., 1., 1.],\n",
    "     [6., 6., 4.],\n",
    "     [4., 5., 5.]]\n",
    "\n",
    "b = [2, -5, 9]\n",
    "\n",
    "LU, P, mov = factorizar_LU_PE(A)\n",
    "\n",
    "H = np.array(LU)\n",
    "\n",
    "print(\"LU\")\n",
    "for i in range(len(LU)):\n",
    "    print(np.around(LU[P[i]], 2))\n",
    "    H[i] = LU[P[i]]\n",
    "    \n",
    "x = resolver_LU(H, H, b)\n",
    "\n",
    "print(\"Solución del sistema:\")\n",
    "print(x)\n",
    "    \n"
   ]
  },
  {
   "cell_type": "code",
   "execution_count": 10,
   "metadata": {},
   "outputs": [
    {
     "name": "stdout",
     "output_type": "stream",
     "text": [
      "-Matriz inversa: \n",
      "[[ 0.83333333 -1.16666667  0.5       ]\n",
      " [ 0.          0.5        -0.5       ]\n",
      " [-0.16666667 -0.16666667  0.5       ]]\n"
     ]
    }
   ],
   "source": [
    "b1 = [1,0,0]\n",
    "b2= [0,1,0]\n",
    "b3= [0,0,1]\n",
    "\n",
    "L= [[1., 0., 0.],\n",
    "    [3., 1., 0.],\n",
    "    [2., 1., 1.]]\n",
    "\n",
    "U= [[2., 1., 1.],\n",
    "    [0., 3., 1.],\n",
    "    [0., 0., 2.]]\n",
    "\n",
    "x = np.array([resolver_LU(L,U,b1),resolver_LU(L,U,b2),resolver_LU(L,U,b3)])\n",
    "print(\"-Matriz inversa: \")\n",
    "print(x)\n",
    "\n"
   ]
  },
  {
   "cell_type": "code",
   "execution_count": null,
   "metadata": {},
   "outputs": [],
   "source": []
  }
 ],
 "metadata": {
  "kernelspec": {
   "display_name": "Python 3",
   "language": "python",
   "name": "python3"
  },
  "language_info": {
   "codemirror_mode": {
    "name": "ipython",
    "version": 3
   },
   "file_extension": ".py",
   "mimetype": "text/x-python",
   "name": "python",
   "nbconvert_exporter": "python",
   "pygments_lexer": "ipython3",
   "version": "3.7.6"
  }
 },
 "nbformat": 4,
 "nbformat_minor": 4
}
