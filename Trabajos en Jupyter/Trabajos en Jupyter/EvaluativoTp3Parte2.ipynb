{
 "cells": [
  {
   "cell_type": "markdown",
   "metadata": {},
   "source": [
    "# Número de Condición"
   ]
  },
  {
   "cell_type": "markdown",
   "metadata": {},
   "source": [
    "## Punto 1b)"
   ]
  },
  {
   "cell_type": "code",
   "execution_count": 1,
   "metadata": {},
   "outputs": [],
   "source": [
    "import numpy as np\n",
    "import matplotlib.pyplot as plt\n",
    "from math import pi, fabs , sqrt, log\n",
    "import random\n",
    "from sympy import *"
   ]
  },
  {
   "cell_type": "code",
   "execution_count": 2,
   "metadata": {},
   "outputs": [],
   "source": [
    "## Norma Matricial: ||A|| \n",
    "def norma(matriz):\n",
    "\tsuma=0\n",
    "\tlista=[]\n",
    "\tfor i in range(0,matriz.shape[0]):\n",
    "\t\tfor j in range(0,matriz.shape[0]):\n",
    "\t\t\t#Sumo en valor absoluto a todos los elementos de cada fila\n",
    "\t\t\tsuma+=np.abs(matriz[i].item(j))\n",
    "\t\tlista.append(suma) #Agrego la suma a la lista\n",
    "\t\t\"\"\"\n",
    "\t\tVuelvo a poner la suma en cero para que en la proxima iteracion haga la suma de la\n",
    "\t\tde la sgte fila, y asi hasta que no halla mas filas que sumar \n",
    "\t\t\"\"\"\n",
    "\t\tsuma=0 \n",
    "\t#print(lista)\n",
    "\treturn np.max(lista) #Devuelvo el valor mas alto de la lista\n",
    "\n",
    "## Numero de condicion: k(A) = ||A|| * ||A^-1|| \n",
    "def numCondicion(norma1, norma2):\n",
    "\treturn norma1*norma2\n",
    "\n",
    "\"\"\"\n",
    "-- Cumple que:\n",
    "κ(A) ≥ 1, y si κ(A) es un numero proximo a 1 se dice que A es\n",
    "una matriz bien condicionada; y si es mucho mayor que 1, que es\n",
    "mal condicionada.\n",
    "\"\"\"\n",
    "def condicionamiento(num):\n",
    "\tif num <=1:\n",
    "\t\tprint(\"Rta: Matriz bien condicionada\")\n",
    "\telse:\n",
    "\t\tprint(\"Rta: Matriz mal condicionada\")"
   ]
  },
  {
   "cell_type": "code",
   "execution_count": 3,
   "metadata": {},
   "outputs": [
    {
     "name": "stdout",
     "output_type": "stream",
     "text": [
      "[[2.    3.   ]\n",
      " [1.999 3.   ]]\n",
      "---Matriz A^-1\n",
      "[[ 1000.         -1000.        ]\n",
      " [ -666.33333333   666.66666667]]\n",
      "-> Solucion del sistema con b=[2.    1.999]: [1. 0.]\n",
      "--||A|| : 5.0\n",
      "--||A^-1|| : 1999.9999999999243\n",
      "--k(A):  9999.999999999622\n",
      "Rta: Matriz mal condicionada\n"
     ]
    }
   ],
   "source": [
    "a=np.array([[2,3],[1.999,3]])\n",
    "print(a)\n",
    "print(\"---Matriz A^-1\")\n",
    "print(np.linalg.inv(a))\n",
    "b=np.array([2,1.999])\n",
    "print(f\"-> Solucion del sistema con b={b}: {np.linalg.solve(a,b)}\")\n",
    "\n",
    "print(\"--||A|| :\" ,norma(a))\n",
    "print(\"--||A^-1|| :\" ,norma(np.linalg.inv(a)))\n",
    "print(\"--k(A): \",numCondicion(norma(a),norma(np.linalg.inv(a))))\n",
    "condicionamiento(numCondicion(norma(a),norma(np.linalg.inv(a))))"
   ]
  },
  {
   "cell_type": "markdown",
   "metadata": {},
   "source": [
    "# Implementación Gauss Seidel en Python"
   ]
  },
  {
   "cell_type": "markdown",
   "metadata": {},
   "source": [
    "**Dado el Sistema del punto 2, si tomamos un valor inicial x0=(1,2,3) y una precisión menor a  10-5. ¿Cuál es el vector solución encontrado?**"
   ]
  },
  {
   "cell_type": "code",
   "execution_count": 7,
   "metadata": {},
   "outputs": [],
   "source": [
    "def gauss_seidel(a,b,x0,_max,eps):\n",
    "\terror = 2*eps+1\n",
    "\th=0\n",
    "\tx1=x0.copy()\n",
    "\twhile h<_max and error>=eps:\n",
    "\t\tx0=x1.copy()\n",
    "\t\th+=1\n",
    "\t\tfor i in range(0,len(a)):\n",
    "\t\t\tsuma=0\n",
    "\t\t\tfor j in range(0,i):\n",
    "\t\t\t\tsuma += a[i][j] * x1[j]\n",
    "\t\t\tfor j in range(i+1,len(a)):\n",
    "\t\t\t\tsuma += a[i][j] * x0[j]\n",
    "\t\t\tx1[i]=(b[i]-suma)/a[i][i]\n",
    "\t\t#error = max(fabs(x1-x0))\n",
    "\t\terror=np.max(np.abs(x1 -x0))\n",
    "\t\t\n",
    "\tif h>=_max: \n",
    "\t\tprint(f\"Gauss Seidel ### No converge en {_max} iteraciones\")\n",
    "\telse:\n",
    "\t\tprint(f\"Gauss Seidel ## Numero de iteraciones: {h}\")\n",
    "\t\treturn x1"
   ]
  },
  {
   "cell_type": "code",
   "execution_count": 8,
   "metadata": {},
   "outputs": [
    {
     "name": "stdout",
     "output_type": "stream",
     "text": [
      "Gauss Seidel ## Numero de iteraciones: 3\n",
      "[1 0 0]\n"
     ]
    }
   ],
   "source": [
    "a=np.array([[2,-1,0],[1,6,-2],[4,-3,8]])  # Matriz del sistema.\n",
    "b=np.array([2,-4,5])  # Vector de terminos independientes.\n",
    "n=len(b) # Dimension de la matriz.\n",
    "itmax=100  # Num. de iteraciones.\n",
    "x=np.array([1,2,3]) # Aproximacion inicial.\n",
    "\n",
    "print(gauss_seidel(a,b,x,itmax,10**(-5)))"
   ]
  },
  {
   "cell_type": "code",
   "execution_count": null,
   "metadata": {},
   "outputs": [],
   "source": []
  },
  {
   "cell_type": "code",
   "execution_count": null,
   "metadata": {},
   "outputs": [],
   "source": []
  },
  {
   "cell_type": "code",
   "execution_count": null,
   "metadata": {},
   "outputs": [],
   "source": []
  },
  {
   "cell_type": "code",
   "execution_count": null,
   "metadata": {},
   "outputs": [],
   "source": []
  },
  {
   "cell_type": "code",
   "execution_count": null,
   "metadata": {},
   "outputs": [],
   "source": []
  },
  {
   "cell_type": "code",
   "execution_count": null,
   "metadata": {},
   "outputs": [],
   "source": []
  },
  {
   "cell_type": "code",
   "execution_count": null,
   "metadata": {},
   "outputs": [],
   "source": []
  }
 ],
 "metadata": {
  "kernelspec": {
   "display_name": "Python 3",
   "language": "python",
   "name": "python3"
  },
  "language_info": {
   "codemirror_mode": {
    "name": "ipython",
    "version": 3
   },
   "file_extension": ".py",
   "mimetype": "text/x-python",
   "name": "python",
   "nbconvert_exporter": "python",
   "pygments_lexer": "ipython3",
   "version": "3.7.6"
  }
 },
 "nbformat": 4,
 "nbformat_minor": 4
}
