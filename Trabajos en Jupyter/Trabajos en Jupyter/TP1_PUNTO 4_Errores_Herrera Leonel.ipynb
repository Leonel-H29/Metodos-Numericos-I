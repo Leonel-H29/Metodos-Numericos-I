{
 "cells": [
  {
   "cell_type": "code",
   "execution_count": 10,
   "metadata": {},
   "outputs": [
    {
     "data": {
      "image/png": "[encoded data removed]",
      "text/latex": [
       "$\\displaystyle \\lim_{x \\to 0^+}\\left(\\frac{e^{x} - e^{- x}}{2 x}\\right)$"
      ],
      "text/plain": [
       "     ⎛ x    -x⎞\n",
       "     ⎜ℯ  - ℯ  ⎟\n",
       " lim ⎜────────⎟\n",
       "x─→0⁺⎝  2⋅x   ⎠"
      ]
     },
     "execution_count": 10,
     "metadata": {},
     "output_type": "execute_result"
    }
   ],
   "source": [
    "from sympy import *\n",
    "init_printing()\n",
    "x,y,z = symbols('x, y, z')\n",
    "\n",
    "Limit((exp(x)-exp(-x))/x*1/2 ,x,0)\n"
   ]
  },
  {
   "cell_type": "code",
   "execution_count": 11,
   "metadata": {},
   "outputs": [
    {
     "name": "stdout",
     "output_type": "stream",
     "text": [
      "Resultado =  1\n"
     ]
    }
   ],
   "source": [
    "print(\"Resultado = \", Limit((exp(x)-exp(-x))/x*1/2 ,x,0).doit())"
   ]
  },
  {
   "cell_type": "code",
   "execution_count": 19,
   "metadata": {},
   "outputs": [
    {
     "name": "stdout",
     "output_type": "stream",
     "text": [
      " n =  1\n",
      " x =  0.1\n",
      "Resultado =  1.00166750019844e+19\n",
      "---------\n",
      " n =  2\n",
      " x =  0.01\n",
      "Resultado =  1.00001666674999e+18\n",
      "---------\n",
      " n =  3\n",
      " x =  0.001\n",
      "Resultado =  1.00000016666668e+17\n",
      "---------\n",
      " n =  4\n",
      " x =  0.0001\n",
      "Resultado =  1.00000000166689e+16\n",
      "---------\n",
      " n =  5\n",
      " x =  1e-05\n",
      "Resultado =  1.00000000001210e+15\n",
      "---------\n",
      " n =  6\n",
      " x =  1e-06\n",
      "Resultado =  99999999997324.5\n",
      "---------\n",
      " n =  7\n",
      " x =  1e-07\n",
      "Resultado =  9999999994736.44\n",
      "---------\n",
      " n =  8\n",
      " x =  1e-08\n",
      "Resultado =  999999993922.529\n",
      "---------\n",
      " n =  9\n",
      " x =  1e-09\n",
      "Resultado =  100000002722.922\n",
      "---------\n",
      " n =  10\n",
      " x =  1e-10\n",
      "Resultado =  10000000827.4037\n",
      "---------\n",
      " n =  11\n",
      " x =  1e-11\n",
      "Resultado =  1000000082.74037\n",
      "---------\n",
      " n =  12\n",
      " x =  1e-12\n",
      "Resultado =  100003338.943111\n",
      "---------\n",
      " n =  13\n",
      " x =  1e-13\n",
      "Resultado =  9997558.33674954\n",
      "---------\n",
      " n =  14\n",
      " x =  1e-14\n",
      "Resultado =  999200.722162641\n",
      "---------\n",
      " n =  15\n",
      " x =  1e-15\n",
      "Resultado =  94368.9570931383\n",
      "---------\n",
      " n =  16\n",
      " x =  1e-16\n",
      "Resultado =  5551.11512312578\n",
      "---------\n",
      " n =  17\n",
      " x =  1e-17\n",
      "Resultado =  0\n",
      "---------\n",
      " n =  18\n",
      " x =  1e-18\n",
      "Resultado =  0\n",
      "---------\n",
      " n =  19\n",
      " x =  1e-19\n",
      "Resultado =  0\n",
      "---------\n",
      " n =  20\n",
      " x =  1e-20\n",
      "Resultado =  0\n",
      "---------\n"
     ]
    }
   ],
   "source": [
    "for i in range (1,21):\n",
    "    valor_x =10**(-i) #i seria el n de la funcion\n",
    "    print(\" n = \", i)\n",
    "    print(\" x = \", valor_x)\n",
    "    print(\"Resultado = \", Limit((exp(valor_x)-exp(-valor_x))/x*1/2 ,x,valor_x).doit())\n",
    "    print(\"---------\")\n",
    "    \n",
    "    \n",
    "    "
   ]
  },
  {
   "cell_type": "code",
   "execution_count": null,
   "metadata": {},
   "outputs": [],
   "source": []
  }
 ],
 "metadata": {
  "kernelspec": {
   "display_name": "Python 3",
   "language": "python",
   "name": "python3"
  },
  "language_info": {
   "codemirror_mode": {
    "name": "ipython",
    "version": 3
   },
   "file_extension": ".py",
   "mimetype": "text/x-python",
   "name": "python",
   "nbconvert_exporter": "python",
   "pygments_lexer": "ipython3",
   "version": "3.7.6"
  }
 },
 "nbformat": 4,
 "nbformat_minor": 4
}
