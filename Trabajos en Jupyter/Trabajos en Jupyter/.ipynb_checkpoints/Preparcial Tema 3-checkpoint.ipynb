{
 "cells": [
  {
   "cell_type": "markdown",
   "metadata": {},
   "source": [
    "# Metodo de Thomas\n"
   ]
  },
  {
   "cell_type": "code",
   "execution_count": 2,
   "metadata": {},
   "outputs": [],
   "source": [
    "import numpy as np\n",
    "import matplotlib.pyplot as plt\n",
    "from math import pi, fabs , sqrt\n",
    "import random\n",
    "from sympy import *\n",
    "\n",
    "def Thomas(a, b, c, d):\n",
    "    n = len(d)  # número de filas\n",
    "\n",
    "    # Modifica los coeficientes de la primera fila\n",
    "    c[0] /= b[0]  # Posible división por cero\n",
    "    d[0] /= b[0]\n",
    "\n",
    "    for i in range(1, n):\n",
    "        ptemp = b[i] - (a[i] * c[i-1])\n",
    "        c[i] /= ptemp\n",
    "        d[i] = (d[i] - a[i] * d[i-1])/ptemp\n",
    "\n",
    "    # Sustitución hacia atrás\n",
    "    x = [0 for i in range(n)]\n",
    "    x[-1] = d[-1]\n",
    "\n",
    "    for i in range(-2, -n-1, -1):\n",
    "        x[i] = d[i] - c[i] * x[i+1]\n",
    "\n",
    "    return x\n",
    "\n",
    "def vecB(matriz): #Los elementos de la diagonal principal\n",
    "    lista=[]\n",
    "    for i in range(0,matriz.shape[0]):\n",
    "        lista.append(matriz[i].item(i))\n",
    "    array = np.array(lista)\n",
    "    return array.astype(int)\n",
    "\n",
    "def vecC(matriz): #Los elementos por encima de la diagonal principal\n",
    "    lista=[]\n",
    "    for i in range(0,matriz.shape[0]-1):\n",
    "        lista.append(matriz[i].item(i+1))\n",
    "    array = np.array(lista)\n",
    "    return array.astype(int)\n",
    "\n",
    "def vecA(matriz): #Los elementos por debajo de la diagonal principal\n",
    "    lista=[]\n",
    "    for i in range(0,matriz.shape[0]-1):\n",
    "        lista.append(matriz[i+1].item(i))\n",
    "    array = np.array(lista)\n",
    "    return array.astype(int)"
   ]
  },
  {
   "cell_type": "code",
   "execution_count": 5,
   "metadata": {},
   "outputs": [
    {
     "name": "stdout",
     "output_type": "stream",
     "text": [
      "[[ 2 -1  0  0]\n",
      " [-1  2 -1  0]\n",
      " [ 0 -1  2 -1]\n",
      " [ 0  0 -1  2]]\n",
      "[0 0 0]\n",
      "### Solucion: [0, 0, 0]\n"
     ]
    }
   ],
   "source": [
    "a = np.array([[2,-1,0,0],[-1,2,-1,0],[0,-1,2,-1],[0,0,-1,2]])\n",
    "print(a)\n",
    "d = np.zeros(len(vecA(a)))\n",
    "d = d.astype(int)\n",
    "print(d)\n",
    "\"\"\"\n",
    "print(vecB(a))\n",
    "print(vecC(a))\n",
    "print(vecA(a))\n",
    "\"\"\"\n",
    "print(f\"### Solucion: {Thomas(vecA(a),vecB(a),vecC(a),d)}\")"
   ]
  },
  {
   "cell_type": "code",
   "execution_count": 6,
   "metadata": {},
   "outputs": [
    {
     "name": "stdout",
     "output_type": "stream",
     "text": [
      "[2 4 6]\n",
      "### Solucion: [1, 2, 4]\n"
     ]
    }
   ],
   "source": [
    "d=np.array([2,4,6])\n",
    "print(d)\n",
    "print(f\"### Solucion: {Thomas(vecA(a),vecB(a),vecC(a),d)}\")"
   ]
  },
  {
   "cell_type": "markdown",
   "metadata": {},
   "source": [
    "# Metodo"
   ]
  },
  {
   "cell_type": "code",
   "execution_count": 8,
   "metadata": {
    "scrolled": true
   },
   "outputs": [
    {
     "name": "stdout",
     "output_type": "stream",
     "text": [
      "x0: 1\n",
      "x1: -0.23421061355351425\n",
      "x2: -0.00845827991076109\n",
      "x3: -1.1890183808588653e-05\n",
      "x4: -4.218590698935789e-11\n",
      "x5: -4.218590698935789e-11\n",
      "Raiz: -4.218590698935789e-11 ; iteracciones: 5\n"
     ]
    }
   ],
   "source": [
    "def f(x): return np.e**(x)-x-1\n",
    "def dxf(x): return np.e**(x)-1\n",
    "def dxf2(x): return np.e**(x)\n",
    "\n",
    "def Metodo(x0, eps, max,f,dxf,dxf2):\n",
    "    i=0\n",
    "    x1= x0 + 2*eps\n",
    "    error = 2*eps+1\n",
    "    #print(f\"x0: {x0}\")\n",
    "    while(i<=max and error>eps):\n",
    "        x1=x0-((f(x0)*dxf(x0))/(dxf(x0)**(2)-f(x0)*dxf2(x0)))\n",
    "        #print(f\"x{i+1}: {x1}\")\n",
    "        i+=1\n",
    "        error = fabs(x1-x0)\n",
    "        x0=x1\n",
    "    if(i>max): print(f\"No converge en {max} iteracciones\")\n",
    "    else: print(f\"Raiz: {x1} ; iteracciones: {i}\")\n",
    "\n",
    "Metodo(1,10**(-5),100,f,dxf,dxf2)"
   ]
  },
  {
   "cell_type": "code",
   "execution_count": null,
   "metadata": {},
   "outputs": [],
   "source": [
    "\n"
   ]
  }
 ],
 "metadata": {
  "kernelspec": {
   "display_name": "Python 3",
   "language": "python",
   "name": "python3"
  },
  "language_info": {
   "codemirror_mode": {
    "name": "ipython",
    "version": 3
   },
   "file_extension": ".py",
   "mimetype": "text/x-python",
   "name": "python",
   "nbconvert_exporter": "python",
   "pygments_lexer": "ipython3",
   "version": "3.7.6"
  }
 },
 "nbformat": 4,
 "nbformat_minor": 4
}
