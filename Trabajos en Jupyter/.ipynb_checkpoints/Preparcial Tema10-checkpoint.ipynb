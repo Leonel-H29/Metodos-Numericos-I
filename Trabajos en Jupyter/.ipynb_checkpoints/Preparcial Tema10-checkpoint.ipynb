{
 "cells": [
  {
   "cell_type": "code",
   "execution_count": 2,
   "metadata": {},
   "outputs": [
    {
     "name": "stdout",
     "output_type": "stream",
     "text": [
      "Intervalo: [0-2.5]\n"
     ]
    },
    {
     "data": {
      "image/png": "[encoded data removed]",
      "text/plain": [
       "<Figure size 432x288 with 1 Axes>"
      ]
     },
     "metadata": {
      "needs_background": "light"
     },
     "output_type": "display_data"
    },
    {
     "name": "stdout",
     "output_type": "stream",
     "text": [
      "--------------------------\n",
      "-----------Numero de Intervalos:  2\n",
      "--Valor de la Integral 11.309944079396182\n",
      "--Error:  0.11839404050524571\n",
      "--Error a alcanzar:  1e-06\n",
      "-----------Numero de Intervalos:  4\n",
      "--Valor de la Integral 11.191550038890936\n",
      "--Error:  0.007221588460598838\n",
      "--Error a alcanzar:  1e-06\n",
      "-----------Numero de Intervalos:  6\n",
      "--Valor de la Integral 11.184328450430337\n",
      "--Error:  0.001248837850747364\n",
      "--Error a alcanzar:  1e-06\n",
      "-----------Numero de Intervalos:  8\n",
      "--Valor de la Integral 11.18307961257959\n",
      "--Error:  0.0003447700741485704\n",
      "--Error a alcanzar:  1e-06\n",
      "-----------Numero de Intervalos:  10\n",
      "--Valor de la Integral 11.182734842505441\n",
      "--Error:  0.00012445267633154344\n",
      "--Error a alcanzar:  1e-06\n",
      "-----------Numero de Intervalos:  12\n",
      "--Valor de la Integral 11.18261038982911\n",
      "--Error:  5.3497667714452746e-05\n",
      "--Error a alcanzar:  1e-06\n",
      "-----------Numero de Intervalos:  14\n",
      "--Valor de la Integral 11.182556892161395\n",
      "--Error:  2.6009440629692904e-05\n",
      "--Error a alcanzar:  1e-06\n",
      "-----------Numero de Intervalos:  16\n",
      "--Valor de la Integral 11.182530882720766\n",
      "--Error:  1.3857746802514725e-05\n",
      "--Error a alcanzar:  1e-06\n",
      "-----------Numero de Intervalos:  18\n",
      "--Valor de la Integral 11.182517024973963\n",
      "--Error:  7.925208990400279e-06\n",
      "--Error a alcanzar:  1e-06\n",
      "-----------Numero de Intervalos:  20\n",
      "--Valor de la Integral 11.182509099764973\n",
      "--Error:  4.795544455760137e-06\n",
      "--Error a alcanzar:  1e-06\n",
      "-----------Numero de Intervalos:  22\n",
      "--Valor de la Integral 11.182504304220517\n",
      "--Error:  3.038512135233873e-06\n",
      "--Error a alcanzar:  1e-06\n",
      "-----------Numero de Intervalos:  24\n",
      "--Valor de la Integral 11.182501265708382\n",
      "--Error:  2.000376099431378e-06\n",
      "--Error a alcanzar:  1e-06\n",
      "-----------Numero de Intervalos:  26\n",
      "--Valor de la Integral 11.182499265332282\n",
      "--Error:  1.360218702117777e-06\n",
      "--Error a alcanzar:  1e-06\n",
      "-----------Numero de Intervalos:  28\n",
      "--Valor de la Integral 11.18249790511358\n",
      "--Error:  9.508894702747739e-07\n",
      "--Error a alcanzar:  1e-06\n"
     ]
    }
   ],
   "source": [
    "import numpy as np\n",
    "import matplotlib.pyplot as plt\n",
    "from math import pi, fabs , sqrt, log\n",
    "import random\n",
    "from sympy import *\n",
    "\n",
    "def f(x): return (np.e**(x))\n",
    "\n",
    "def simpson_compuesta_sucesiva(a,b,f,epsilon,f_metodo):\n",
    "    i=2\n",
    "    error=2*epsilon\n",
    "    integral_actual=f_metodo(a,b,i,f)\n",
    "    #cont=0\n",
    "    \n",
    "    while(error>epsilon):\n",
    "        print(\"-----------Numero de Intervalos: \", i)\n",
    "        print(\"--Valor de la Integral\",integral_actual)\n",
    "        i+=2\n",
    "        integral_anterior=integral_actual\n",
    "        integral_actual=f_metodo(a,b,i,f)\n",
    "        error=np.abs(integral_anterior-integral_actual)\n",
    "        print(\"--Error: \", error) \n",
    "        print(\"--Error a alcanzar: \", epsilon)\n",
    "\n",
    "def simpson_compuesta(a,b,n,f):\n",
    "    sumatoria = 0.0\n",
    "    h = (b-a)/n\n",
    "\n",
    "    for i in range(1,n):\n",
    "        if((i%2)==1): sumatoria += 4* f(a + h*i)\n",
    "        else: sumatoria += 2 *f(a + h*i)\n",
    "    return((h/3) * (f(a) + sumatoria + f(b)))\n",
    "\n",
    "print(f\"Intervalo: [0-2.5]\")\n",
    "x=np.linspace(0,2.5,100)\n",
    "y=f(x)\n",
    "plt.plot(x,y)\n",
    "plt.title(\"f(x)=e^x\")\n",
    "plt.show()\n",
    "\n",
    "print(\"--------------------------\")\n",
    "simpson_compuesta(0,2.5,5,f)\n",
    "simpson_compuesta_sucesiva(0,2.5,f,10**(-6),simpson_compuesta)"
   ]
  },
  {
   "cell_type": "code",
   "execution_count": 9,
   "metadata": {},
   "outputs": [
    {
     "data": {
      "text/plain": [
       "array([ 0.        , -0.        ,  0.        ,  0.        ,  0.1010101 ,\n",
       "        0.12626263,  0.15151515,  0.17676768,  0.2020202 ,  0.22727273,\n",
       "        0.25252525,  0.27777778,  0.3030303 ,  0.32828283,  0.35353535,\n",
       "        0.37878788,  0.4040404 ,  0.42929293,  0.45454545,  0.47979798,\n",
       "        0.50505051,  0.53030303,  0.55555556,  0.58080808,  0.60606061,\n",
       "        0.63131313,  0.65656566,  0.68181818,  0.70707071,  0.73232323,\n",
       "        0.75757576,  0.78282828,  0.80808081,  0.83333333,  0.85858586,\n",
       "        0.88383838,  0.90909091,  0.93434343,  0.95959596,  0.98484848,\n",
       "        1.01010101,  1.03535354,  1.06060606,  1.08585859,  1.11111111,\n",
       "        1.13636364,  1.16161616,  1.18686869,  1.21212121,  1.23737374,\n",
       "        1.26262626,  1.28787879,  1.31313131,  1.33838384,  1.36363636,\n",
       "        1.38888889,  1.41414141,  1.43939394,  1.46464646,  1.48989899,\n",
       "        1.51515152,  1.54040404,  1.56565657,  1.59090909,  1.61616162,\n",
       "        1.64141414,  1.66666667,  1.69191919,  1.71717172,  1.74242424,\n",
       "        1.76767677,  1.79292929,  1.81818182,  1.84343434,  1.86868687,\n",
       "        1.89393939,  1.91919192,  1.94444444,  1.96969697,  1.99494949,\n",
       "        2.02020202,  2.04545455,  2.07070707,  2.0959596 ,  2.12121212,\n",
       "        2.14646465,  2.17171717,  2.1969697 ,  2.22222222,  2.24747475,\n",
       "        2.27272727,  2.2979798 ,  2.32323232,  2.34848485,  2.37373737,\n",
       "        2.3989899 ,  2.42424242,  2.44949495,  2.47474747,  2.5       ])"
      ]
     },
     "execution_count": 9,
     "metadata": {},
     "output_type": "execute_result"
    }
   ],
   "source": [
    "def sustitucion(A,b,n):\n",
    "    #Resolucion Ly=b\n",
    "    x[0]=b[0]\n",
    "    for k in range(1,n-2):\n",
    "        sum=0\n",
    "        for j in range(0,k):\n",
    "            sum=sum + (A[k][j]*x[j])\n",
    "        x[k]=b[k]-sum\n",
    "    \n",
    "    #Resolucion Ux=y\n",
    "    x[n]=x[n]/A[n][n]\n",
    "    for i in range(n,0,-1):\n",
    "        sum=0\n",
    "        for j in range(i+1,n):\n",
    "            sum=sum + (A[i][j]*x[j])\n",
    "        x[i]=(x[i]-sum)/A[i][i]\n",
    "        \n",
    "    return x\n",
    "\n",
    "def triangulacion(A,b,n):\n",
    "    \n",
    "    for k in range(0,n-1):\n",
    "        for i in range(k+1,n):\n",
    "            A[i][k]=A[i][k]/A[k][k]\n",
    "            for j in range(k+1,n):\n",
    "                A[i][j]=A[i][j]-(A[i][j]*A[k][k])\n",
    "    return sustitucion(A,b,n)\n",
    "\n",
    "A= np.array([[2,1,0,0], [-1,3,3,0], [2,-2,1,4], [-2,2,2,5]])\n",
    "b=np.zeros([4])\n",
    "n=len(A)\n",
    "\n",
    "triangulacion(A,b,n-1)\n",
    "     \n",
    "    "
   ]
  },
  {
   "cell_type": "code",
   "execution_count": null,
   "metadata": {},
   "outputs": [],
   "source": []
  }
 ],
 "metadata": {
  "kernelspec": {
   "display_name": "Python 3",
   "language": "python",
   "name": "python3"
  },
  "language_info": {
   "codemirror_mode": {
    "name": "ipython",
    "version": 3
   },
   "file_extension": ".py",
   "mimetype": "text/x-python",
   "name": "python",
   "nbconvert_exporter": "python",
   "pygments_lexer": "ipython3",
   "version": "3.7.6"
  }
 },
 "nbformat": 4,
 "nbformat_minor": 4
}
