{
 "cells": [
  {
   "cell_type": "markdown",
   "metadata": {},
   "source": [
    "# Introduccion a Python 2020"
   ]
  },
  {
   "cell_type": "markdown",
   "metadata": {},
   "source": [
    "  - Python es un lenguaje de programación de scripting orientado a objetos\n",
    "  - Es un lenguaje interpretado.\n",
    "  - Nos permite interactuar con otros lenguajes e incorporarlos a nuestros códigos.\n",
    "\n",
    "        + Les recomiendo algunas páginas que suelen tener mucha información y bibliografía:\n",
    "             http://www.python.org.ar/\n",
    "\n",
    "             https://djangogirls.org/"
   ]
  },
  {
   "cell_type": "markdown",
   "metadata": {},
   "source": [
    "## ¿Por qué python?\n",
    "* Easy to learn\n",
    "* Es rápido escribir código\n",
    "* Muchos recursos disponibles\n",
    "* Multiplataforma (Windows, Linux, Mac)"
   ]
  },
  {
   "cell_type": "markdown",
   "metadata": {},
   "source": [
    "# TUTORIAL DE PYTHON EN JUPITER NOTEBOOK\n",
    "\n",
    "Jupyter Notebook, es un entorno de trabajo interactivo que permite desarrollar código en Python de manera dinámica. Permite integrar en un mismo documento, tanto bloques de código (sombreados de gris) como texto, gráficas o imágenes.\n",
    "\n",
    "En este tutorial, encontraran bloques de código listo para ejecutar, y otros en donde uds tendran que codificar. Para ejecutar un bloque pueden hacer click en el boton Run de la barra de arriba o, presionando crtl + Enter"
   ]
  },
  {
   "cell_type": "markdown",
   "metadata": {},
   "source": [
    "## Comentarios"
   ]
  },
  {
   "cell_type": "code",
   "execution_count": 45,
   "metadata": {},
   "outputs": [
    {
     "name": "stdout",
     "output_type": "stream",
     "text": [
      "Hola mundo\n"
     ]
    }
   ],
   "source": [
    "'''\n",
    "Comentario largo,\n",
    "ocupa varias líneas\n",
    "en Python.\n",
    "Deben estar encerradas por triple comilla simple/doble.\n",
    "\n",
    "Este es un comentario\n",
    "usando comillas simples\n",
    "'''\n",
    "\n",
    "\n",
    "\n",
    "\"\"\"\n",
    "Este es un comentario\n",
    "usando comillas dobles\n",
    "\"\"\"\n",
    "# comentario para una linea\n",
    "\n",
    "#print es una funcion que permite escribir en pantalla\n",
    "print(\"Hola mundo\") \n"
   ]
  },
  {
   "cell_type": "markdown",
   "metadata": {},
   "source": [
    "\n",
    "**EJERCICIO:** Escribir una sentencia que imprima en pantalla: \"Bienvenido a MNI\""
   ]
  },
  {
   "cell_type": "code",
   "execution_count": 1,
   "metadata": {},
   "outputs": [
    {
     "name": "stdout",
     "output_type": "stream",
     "text": [
      "Bienvenido a MNI\n"
     ]
    }
   ],
   "source": [
    "print(\"Bienvenido a MNI\")"
   ]
  },
  {
   "cell_type": "markdown",
   "metadata": {
    "slideshow": {
     "slide_type": "slide"
    }
   },
   "source": [
    "## Tipos de Datos\n",
    "\n",
    "### Algunos de los tipos básicos de datos en Python son:\n",
    "* int - para representar números enteros\n",
    "* long - para representar números enteros largos\n",
    "* float - para representar números reales\n",
    "* bool - para representar valores booleanos\n",
    "* complex - para representar números complejos (1+2j)\n",
    "* NoneType - Tipo especial del valor None\n",
    "\n",
    "**La función type() nos permite saber qué tipo de dato es una variable o un dato en particular**"
   ]
  },
  {
   "cell_type": "code",
   "execution_count": null,
   "metadata": {},
   "outputs": [],
   "source": [
    "vrble=9\n",
    "type(vrble)"
   ]
  },
  {
   "cell_type": "markdown",
   "metadata": {},
   "source": [
    " **EJERCICIO:** "
   ]
  },
  {
   "cell_type": "code",
   "execution_count": 4,
   "metadata": {},
   "outputs": [
    {
     "name": "stdout",
     "output_type": "stream",
     "text": [
      "El tipo de dato es: \n"
     ]
    },
    {
     "data": {
      "text/plain": [
       "int"
      ]
     },
     "execution_count": 4,
     "metadata": {},
     "output_type": "execute_result"
    }
   ],
   "source": [
    "#Imprimir qué tipo de dato es 3\n",
    "var=3\n",
    "print(\"El tipo de dato es: \")\n",
    "type(var)\n"
   ]
  },
  {
   "cell_type": "code",
   "execution_count": 5,
   "metadata": {},
   "outputs": [
    {
     "name": "stdout",
     "output_type": "stream",
     "text": [
      "El tipo de dato es: \n"
     ]
    },
    {
     "data": {
      "text/plain": [
       "str"
      ]
     },
     "execution_count": 5,
     "metadata": {},
     "output_type": "execute_result"
    }
   ],
   "source": [
    "#Imprimir qué tipo de dato es 'hola'\n",
    "var='Hola'\n",
    "print(\"El tipo de dato es: \")\n",
    "type(var)\n"
   ]
  },
  {
   "cell_type": "markdown",
   "metadata": {},
   "source": [
    "**Operaciones básicas:**\n",
    "\n",
    "| operación | operador |\n",
    "| :-------: | :------: |\n",
    "| suma      | +        |\n",
    "| resta     | -        |\n",
    "| multiplicación | *   |\n",
    "| división  | /        |\n",
    "| división entera | // |\n",
    "| módulo    | %        |\n",
    "| potencia | **    |\n",
    "\n",
    "\n",
    "\n",
    "\n",
    "\n",
    "**OJO: El resultado de la división es diferente en Python 2 y 3.**\n",
    "\n",
    "En este curso utilizaremos la version 3 de Python"
   ]
  },
  {
   "cell_type": "markdown",
   "metadata": {},
   "source": [
    "### Algunas operaciones"
   ]
  },
  {
   "cell_type": "code",
   "execution_count": 9,
   "metadata": {
    "scrolled": true
   },
   "outputs": [
    {
     "name": "stdout",
     "output_type": "stream",
     "text": [
      "3^2=\n"
     ]
    },
    {
     "data": {
      "text/plain": [
       "9"
      ]
     },
     "execution_count": 9,
     "metadata": {},
     "output_type": "execute_result"
    }
   ],
   "source": [
    "print(\"3^2=\") \n",
    "3**2"
   ]
  },
  {
   "cell_type": "code",
   "execution_count": 10,
   "metadata": {},
   "outputs": [
    {
     "name": "stdout",
     "output_type": "stream",
     "text": [
      "10/3 =\n"
     ]
    },
    {
     "data": {
      "text/plain": [
       "3.3333333333333335"
      ]
     },
     "execution_count": 10,
     "metadata": {},
     "output_type": "execute_result"
    }
   ],
   "source": [
    "print(\"10/3 =\") \n",
    "10/3"
   ]
  },
  {
   "cell_type": "code",
   "execution_count": 11,
   "metadata": {},
   "outputs": [
    {
     "name": "stdout",
     "output_type": "stream",
     "text": [
      "10/3 =\n"
     ]
    },
    {
     "data": {
      "text/plain": [
       "3"
      ]
     },
     "execution_count": 11,
     "metadata": {},
     "output_type": "execute_result"
    }
   ],
   "source": [
    "print(\"10/3 =\")\n",
    "10//3"
   ]
  },
  {
   "cell_type": "markdown",
   "metadata": {},
   "source": [
    "**Tambien existen operadores booleanos**\n",
    "\n",
    "+ Nos permitiran la toma de desiciones en sentencias if, for, etc.\n",
    "\n",
    "| operación | operador |\n",
    "| :-------: | :------: |\n",
    "| igualdad      | ==        |\n",
    "| desigualdad     | !=        |\n",
    "| mayor | >   |\n",
    "| menor  | <        |\n",
    "| mayor igual | >= |\n",
    "| menor igual    | <=        |"
   ]
  },
  {
   "cell_type": "markdown",
   "metadata": {},
   "source": [
    "# Comparaciones\n",
    "\n",
    "- mayor, menor, igual, distinto, mayor o igual, menor o igual\n",
    "- or, and, not\n"
   ]
  },
  {
   "cell_type": "code",
   "execution_count": 12,
   "metadata": {
    "scrolled": true
   },
   "outputs": [
    {
     "data": {
      "text/plain": [
       "False"
      ]
     },
     "execution_count": 12,
     "metadata": {},
     "output_type": "execute_result"
    }
   ],
   "source": [
    "3 <= 2"
   ]
  },
  {
   "cell_type": "code",
   "execution_count": 13,
   "metadata": {},
   "outputs": [
    {
     "data": {
      "text/plain": [
       "True"
      ]
     },
     "execution_count": 13,
     "metadata": {},
     "output_type": "execute_result"
    }
   ],
   "source": [
    "3 >= 2"
   ]
  },
  {
   "cell_type": "markdown",
   "metadata": {},
   "source": [
    "Ejemplo de igualdad y distinto. Asignar a la variable **a** con 5 "
   ]
  },
  {
   "cell_type": "code",
   "execution_count": null,
   "metadata": {},
   "outputs": [],
   "source": [
    "a = 5"
   ]
  },
  {
   "cell_type": "code",
   "execution_count": null,
   "metadata": {},
   "outputs": [],
   "source": [
    "a == 5"
   ]
  },
  {
   "cell_type": "code",
   "execution_count": null,
   "metadata": {},
   "outputs": [],
   "source": [
    "a != 5"
   ]
  },
  {
   "cell_type": "markdown",
   "metadata": {},
   "source": [
    "# Definiendo variables"
   ]
  },
  {
   "cell_type": "markdown",
   "metadata": {},
   "source": [
    "    - Una variable es designar un espacio en la memoria con un dato específico. \n",
    "    - Las variables no tienen un tipo asociado en Python. \n",
    "    \n",
    "La variable variable_1 no está definida para un tipo específico, como sucede en otros lenguajes de programación. De hecho, podríamos reasignar valores a una variable simplemente declarandolo de este modo:\n",
    "\n",
    "```python\n",
    "variable_1 = \"Graciela\"\n",
    "\n",
    "variable_1 = 2020\n",
    "```\n",
    "Hay palabras claves que por ende estarán prohibidas para nombrar variables prohibidas!"
   ]
  },
  {
   "cell_type": "code",
   "execution_count": 14,
   "metadata": {},
   "outputs": [
    {
     "name": "stdout",
     "output_type": "stream",
     "text": [
      "Graciela\n",
      "2020\n"
     ]
    }
   ],
   "source": [
    "variable_1=\"Graciela\"\n",
    "print(variable_1)\n",
    "variable_1=2020\n",
    "print(variable_1)"
   ]
  },
  {
   "cell_type": "code",
   "execution_count": 15,
   "metadata": {},
   "outputs": [
    {
     "ename": "SyntaxError",
     "evalue": "invalid syntax (<ipython-input-15-6cdc8cb3cfd1>, line 1)",
     "output_type": "error",
     "traceback": [
      "\u001b[1;36m  File \u001b[1;32m\"<ipython-input-15-6cdc8cb3cfd1>\"\u001b[1;36m, line \u001b[1;32m1\u001b[0m\n\u001b[1;33m    global=\"soy una variable\"\u001b[0m\n\u001b[1;37m          ^\u001b[0m\n\u001b[1;31mSyntaxError\u001b[0m\u001b[1;31m:\u001b[0m invalid syntax\n"
     ]
    }
   ],
   "source": [
    "global=\"soy una variable\"\n",
    "print(variable_1)\n",
    "\n",
    "#Este ejemplo deberá dar un error de sintaxis"
   ]
  },
  {
   "cell_type": "code",
   "execution_count": 16,
   "metadata": {
    "scrolled": true
   },
   "outputs": [
    {
     "name": "stdout",
     "output_type": "stream",
     "text": [
      "['False', 'None', 'True', 'and', 'as', 'assert', 'async', 'await', 'break', 'class', 'continue', 'def', 'del', 'elif', 'else', 'except', 'finally', 'for', 'from', 'global', 'if', 'import', 'in', 'is', 'lambda', 'nonlocal', 'not', 'or', 'pass', 'raise', 'return', 'try', 'while', 'with', 'yield']\n"
     ]
    }
   ],
   "source": [
    "#Palabras reservadas\n",
    "\n",
    "import keyword\n",
    "print(keyword.kwlist)"
   ]
  },
  {
   "cell_type": "markdown",
   "metadata": {},
   "source": [
    "# Operaciones con variables\n",
    "\n",
    "+ Se usan los identificadores para operar.\n",
    "+ Cada variable tiene asociado un tipo (ver con type).\n",
    "\n",
    "**EJERCICIO**: Declarar una variable de nombre 'mi_variable' que tenga como valor 3"
   ]
  },
  {
   "cell_type": "code",
   "execution_count": 17,
   "metadata": {},
   "outputs": [],
   "source": [
    "mi_variable = 3"
   ]
  },
  {
   "cell_type": "markdown",
   "metadata": {},
   "source": [
    "**EJERCICIO**: Declarar una variable denominada 'doble', que tenga como valor el doble del valor de 'mi_variable'. Imprima el resultado"
   ]
  },
  {
   "cell_type": "code",
   "execution_count": 18,
   "metadata": {},
   "outputs": [
    {
     "name": "stdout",
     "output_type": "stream",
     "text": [
      "6\n"
     ]
    }
   ],
   "source": [
    "doble = mi_variable*2\n",
    "print(doble)"
   ]
  },
  {
   "cell_type": "markdown",
   "metadata": {
    "slideshow": {
     "slide_type": "slide"
    }
   },
   "source": [
    "## Strings\n",
    "+ **String** es un tipo de dato que representa una sucesión, o cadena, de caracteres. \n",
    "+ Un string se obtiene simplemente escribiendo los caracteres/el caracter entre comillas. \n",
    "```python\n",
    "mi_string = \"este es mi primer string\"\n",
    "```\n",
    "+ Python trata las comillas simples al igual que las comillas dobles.\n",
    "+ En un string el primer caracter tiene índice cero.\n",
    "\n",
    "**PREGUNTA**: \n"
   ]
  },
  {
   "cell_type": "markdown",
   "metadata": {
    "slideshow": {
     "slide_type": "fragment"
    }
   },
   "source": [
    "¿Qué resultado nos daría la siguiente operación?: \n",
    "```python\n",
    "type(1) == type('1')\n",
    "```"
   ]
  },
  {
   "cell_type": "code",
   "execution_count": 19,
   "metadata": {},
   "outputs": [
    {
     "data": {
      "text/plain": [
       "False"
      ]
     },
     "execution_count": 19,
     "metadata": {},
     "output_type": "execute_result"
    }
   ],
   "source": [
    "type(1) == type('1')"
   ]
  },
  {
   "cell_type": "markdown",
   "metadata": {
    "scrolled": true,
    "slideshow": {
     "slide_type": "fragment"
    }
   },
   "source": [
    "¿Y qué resultado nos daría la siguiente operación?: \n",
    "```python\n",
    "\"python\" == 'Python'\n",
    "```\n"
   ]
  },
  {
   "cell_type": "code",
   "execution_count": 20,
   "metadata": {},
   "outputs": [
    {
     "data": {
      "text/plain": [
       "False"
      ]
     },
     "execution_count": 20,
     "metadata": {},
     "output_type": "execute_result"
    }
   ],
   "source": [
    "\"python\" == 'Python'"
   ]
  },
  {
   "cell_type": "markdown",
   "metadata": {
    "slideshow": {
     "slide_type": "slide"
    }
   },
   "source": [
    "# ¡CUIDADO!\n",
    "\n",
    "De vez en cuando suceden cosas extrañas.\n",
    "\n",
    "¿Qué pasa si se incluyen comillas dentro de otras comillas?"
   ]
  },
  {
   "cell_type": "code",
   "execution_count": 21,
   "metadata": {
    "slideshow": {
     "slide_type": "fragment"
    }
   },
   "outputs": [
    {
     "ename": "SyntaxError",
     "evalue": "invalid syntax (<ipython-input-21-f13b752c8af8>, line 1)",
     "output_type": "error",
     "traceback": [
      "\u001b[1;36m  File \u001b[1;32m\"<ipython-input-21-f13b752c8af8>\"\u001b[1;36m, line \u001b[1;32m1\u001b[0m\n\u001b[1;33m    noticiaConError = \"\"MNI\" se dicta los lunes y jueves\"\u001b[0m\n\u001b[1;37m                          ^\u001b[0m\n\u001b[1;31mSyntaxError\u001b[0m\u001b[1;31m:\u001b[0m invalid syntax\n"
     ]
    }
   ],
   "source": [
    "noticiaConError = \"\"MNI\" se dicta los lunes y jueves\"\n",
    "print(noticiaConError)"
   ]
  },
  {
   "cell_type": "code",
   "execution_count": 22,
   "metadata": {},
   "outputs": [
    {
     "name": "stdout",
     "output_type": "stream",
     "text": [
      "La primer clase de 'MNI' es el lunes\n"
     ]
    }
   ],
   "source": [
    "unaNoticia = \"La primer clase de 'MNI' es el lunes\"\n",
    "print(unaNoticia)"
   ]
  },
  {
   "cell_type": "markdown",
   "metadata": {
    "slideshow": {
     "slide_type": "fragment"
    }
   },
   "source": [
    "**Existen secuencias especiales como \\n (linea nueva) o \\t (tabulación) que tienen efectos sobre la visualización:**"
   ]
  },
  {
   "cell_type": "code",
   "execution_count": 23,
   "metadata": {
    "scrolled": true,
    "slideshow": {
     "slide_type": "fragment"
    }
   },
   "outputs": [
    {
     "name": "stdout",
     "output_type": "stream",
     "text": [
      "Esto aparece escrito en dos lineas\n",
      "Esto aparece escrito en dos lineas\n",
      "\n"
     ]
    }
   ],
   "source": [
    "dosLineas = \"Esto aparece escrito en dos lineas\\n\"\n",
    "print(dosLineas + dosLineas) # incluir el signo '+' permite concatenar cadenas de texto"
   ]
  },
  {
   "cell_type": "markdown",
   "metadata": {
    "slideshow": {
     "slide_type": "fragment"
    }
   },
   "source": [
    "**Distintas formas de escribir texto combinando variables:**"
   ]
  },
  {
   "cell_type": "code",
   "execution_count": 24,
   "metadata": {},
   "outputs": [
    {
     "name": "stdout",
     "output_type": "stream",
     "text": [
      "Metodos numericos I se dicta lunes y martes\n",
      "Metodos numericos I se dicta lunes y martes\n",
      "Metodos numericos I se dicta lunes y martes\n"
     ]
    }
   ],
   "source": [
    "materia = \"Metodos numericos I\" \n",
    "\n",
    "print(materia + \" se dicta lunes y martes\")\n",
    "print(materia, \"se dicta lunes y martes\")\n",
    "print(f'{materia} se dicta lunes y martes')\n"
   ]
  },
  {
   "cell_type": "markdown",
   "metadata": {
    "slideshow": {
     "slide_type": "fragment"
    }
   },
   "source": [
    "**CASTING**\n",
    "\n",
    "Puede haber ocasiones en las que desee especificar un tipo en una variable.\n",
    "\n",
    "La función **str()** convierte valores a string.\n",
    "\n",
    "La función **int()** convierte valores a entero.\n",
    "\n",
    "La función **float()** convierte valores a punto flotante.\n",
    "\n",
    "\n",
    "**EJEMPLO**: "
   ]
  },
  {
   "cell_type": "code",
   "execution_count": 25,
   "metadata": {
    "slideshow": {
     "slide_type": "slide"
    }
   },
   "outputs": [
    {
     "name": "stdout",
     "output_type": "stream",
     "text": [
      "6\n",
      "<class 'int'>\n"
     ]
    }
   ],
   "source": [
    "#convertir la variable 'doble' en un string\n",
    "cc = doble         #completar sentencia\n",
    "print(cc)\n",
    "print(type(cc))"
   ]
  },
  {
   "cell_type": "markdown",
   "metadata": {},
   "source": [
    "## Acceso a los elementos de la cadena."
   ]
  },
  {
   "cell_type": "markdown",
   "metadata": {},
   "source": [
    "Se puede acceder a los caracteres individuales de un string, del siguiente modo:\n",
    "\n",
    "    texto = \"Licenciatura en Informatica\"\n",
    "    print(texto[3])\n",
    "    \n",
    "De esta forma accedemos al cuarto caracter de nuestro string. \n",
    "\n",
    "A tener en cuenta, el indice comienza en 0 como en lenguaje C\n",
    "\n",
    "**EJEMPLO**"
   ]
  },
  {
   "cell_type": "code",
   "execution_count": 26,
   "metadata": {},
   "outputs": [
    {
     "name": "stdout",
     "output_type": "stream",
     "text": [
      "e\n"
     ]
    }
   ],
   "source": [
    "texto = \"Licenciatura en Informatica\"\n",
    "print(texto[3])\n"
   ]
  },
  {
   "cell_type": "markdown",
   "metadata": {},
   "source": [
    "Se puede acceder a un rango de caracteres de un string, del siguiente modo:\n",
    "\n",
    "    texto = \"Licenciatura en Informatica\"\n",
    "    print(texto[3:5])\n",
    "    \n",
    "*Para pensar y completar...*\n",
    "\n",
    "De esta forma accedemos desde el ...... caracter al ......  "
   ]
  },
  {
   "cell_type": "code",
   "execution_count": 27,
   "metadata": {},
   "outputs": [
    {
     "name": "stdout",
     "output_type": "stream",
     "text": [
      "en\n"
     ]
    }
   ],
   "source": [
    "#Verificamos la respuesta\n",
    "print(texto[3:5]) \n"
   ]
  },
  {
   "cell_type": "markdown",
   "metadata": {},
   "source": [
    "**PREGUNTA**: ¿cuál es el caracter con indice 1 del texto? Verifique"
   ]
  },
  {
   "cell_type": "code",
   "execution_count": 28,
   "metadata": {},
   "outputs": [
    {
     "name": "stdout",
     "output_type": "stream",
     "text": [
      "i\n"
     ]
    }
   ],
   "source": [
    "print(texto[1])"
   ]
  },
  {
   "cell_type": "markdown",
   "metadata": {
    "slideshow": {
     "slide_type": "slide"
    }
   },
   "source": [
    "¿Qué ocurre si ejecutamos la siguiente sentecia?"
   ]
  },
  {
   "cell_type": "code",
   "execution_count": 32,
   "metadata": {},
   "outputs": [
    {
     "ename": "TypeError",
     "evalue": "'str' object does not support item assignment",
     "output_type": "error",
     "traceback": [
      "\u001b[1;31m---------------------------------------------------------------------------\u001b[0m",
      "\u001b[1;31mTypeError\u001b[0m                                 Traceback (most recent call last)",
      "\u001b[1;32m<ipython-input-32-595b4093eebd>\u001b[0m in \u001b[0;36m<module>\u001b[1;34m\u001b[0m\n\u001b[1;32m----> 1\u001b[1;33m \u001b[0mtexto\u001b[0m\u001b[1;33m[\u001b[0m\u001b[1;36m1\u001b[0m\u001b[1;33m]\u001b[0m \u001b[1;33m=\u001b[0m \u001b[1;34m'y'\u001b[0m\u001b[1;33m\u001b[0m\u001b[1;33m\u001b[0m\u001b[0m\n\u001b[0m\u001b[0;32m      2\u001b[0m \u001b[1;33m\u001b[0m\u001b[0m\n\u001b[0;32m      3\u001b[0m \u001b[1;31m#Investigue porque se produce el error\u001b[0m\u001b[1;33m\u001b[0m\u001b[1;33m\u001b[0m\u001b[1;33m\u001b[0m\u001b[0m\n\u001b[0;32m      4\u001b[0m \u001b[1;34m\"\"\"\"\"No se puede cambiar el valor del elemento del arreglo\"\"\"\u001b[0m\u001b[1;33m\u001b[0m\u001b[1;33m\u001b[0m\u001b[0m\n",
      "\u001b[1;31mTypeError\u001b[0m: 'str' object does not support item assignment"
     ]
    }
   ],
   "source": [
    "texto[1] = 'y'\n",
    "\n",
    "#Investigue porque se produce el error\n",
    "\"\"\"\"\"No se puede cambiar el valor del elemento del arreglo. Hay que hacer una una nueva variable en cual copias los primeros\n",
    "caracteres, le hacemos la modificacion del caracter y copiamos el resto\"\"\""
   ]
  },
  {
   "cell_type": "code",
   "execution_count": 30,
   "metadata": {
    "slideshow": {
     "slide_type": "fragment"
    }
   },
   "outputs": [
    {
     "name": "stdout",
     "output_type": "stream",
     "text": [
      "Lycenciatura en Informatica\n"
     ]
    }
   ],
   "source": [
    "texto2=texto[:1] + \"y\" + texto[2:]\n",
    "print(texto2)"
   ]
  },
  {
   "cell_type": "markdown",
   "metadata": {
    "slideshow": {
     "slide_type": "slide"
    }
   },
   "source": [
    "# Concatenación de cadenas\n",
    "¿Qué pasa si ejecutas la siguiente celda?\n",
    "\n",
    "```python\n",
    "texto1 = \"MNI\"\n",
    "print(texto + texto1)\n",
    "```\n",
    "\n"
   ]
  },
  {
   "cell_type": "code",
   "execution_count": 33,
   "metadata": {},
   "outputs": [
    {
     "name": "stdout",
     "output_type": "stream",
     "text": [
      "Licenciatura en Informatica MNI\n"
     ]
    }
   ],
   "source": [
    "texto1 = \" MNI\"\n",
    "print(texto + texto1)"
   ]
  },
  {
   "cell_type": "markdown",
   "metadata": {
    "slideshow": {
     "slide_type": "slide"
    }
   },
   "source": [
    "# Funciones útiles (métodos para strings)\n",
    "- ejemplos:\n",
    "    - **lower()**: convierte MAYUSCULAS en minusculas.\n",
    "    - **upper()**: convierte minusculas en MAYUSCULAS.\n",
    "    - **len()**: nos permite conocer la longitud (cantidad de caracteres de un string).\n",
    "    - **split('chars')**: divide el string por el caracter dado, obteniendose una lista de strings.\n",
    "    - **count('chars')**: cuenta la ocurrencia del caracter dado en un string.\n",
    "    - **replace('orig', 'reempl')**:reemplaza los caracteres de valor 'origin' por 'reempl'\n",
    "- más sobre cadenas [en la documentación de la librería estándar](http://docs.python.org/3/library/string.html)"
   ]
  },
  {
   "cell_type": "markdown",
   "metadata": {
    "slideshow": {
     "slide_type": "slide"
    }
   },
   "source": [
    "### Se pueden concatenar operaciones"
   ]
  },
  {
   "cell_type": "code",
   "execution_count": 34,
   "metadata": {
    "slideshow": {
     "slide_type": "fragment"
    }
   },
   "outputs": [
    {
     "name": "stdout",
     "output_type": "stream",
     "text": [
      "Conteo de 'e':  4\n"
     ]
    }
   ],
   "source": [
    "unTexto = 'Bienvenidos a Metodos Numericos I'\n",
    "conteo = unTexto.lower().count('e')\n",
    "print(\"Conteo de 'e': \", conteo)"
   ]
  },
  {
   "cell_type": "markdown",
   "metadata": {},
   "source": [
    "**EJERCICIO**: dada la siguiente frase, calcular el porcentaje de ocurrencia de la letra *r*.\n",
    "```python\n",
    "frase = El hardware es lo que hace a una máquina rápida; el software es lo que hace que una máquina rápida se vuelva lenta. Craig Bruce en 1990.\n",
    "```"
   ]
  },
  {
   "cell_type": "code",
   "execution_count": 37,
   "metadata": {},
   "outputs": [
    {
     "name": "stdout",
     "output_type": "stream",
     "text": [
      "El porcentaje de ocurrencia de la letra r:  7\n"
     ]
    }
   ],
   "source": [
    "frase = (\"El hardware es lo que hace a una máquina rápida; el software es lo que hace que una máquina rápida se vuelva lenta. Craig Bruce en 1990.\")\n",
    "porcentaje = frase.lower().count('r')\n",
    "print(\"El porcentaje de ocurrencia de la letra r: \", porcentaje)"
   ]
  },
  {
   "cell_type": "markdown",
   "metadata": {},
   "source": [
    "# Estructuras de datos\n",
    "\n",
    "Las variables que vimos hasta ahora son sencillas y contienen un único **dato**.\n",
    "Python permite usar estructuras de datos más complejas que permiten almacenar y organizar colecciones de datos.\n",
    "Algunas de estas estructuras de datos son:\n",
    "* listas\n",
    "* diccionarios"
   ]
  },
  {
   "cell_type": "markdown",
   "metadata": {},
   "source": [
    "## Listas\n",
    " + Son secuencias de elementos, que pueden ser de cualquier tipo: int, float, string e inclusive otras listas.\n",
    " + Mutables y ordenadas.\n",
    " + A cada elemento de la lista le corresponde una posicion o indice, al cual se puede acceder como con las cadenas.\n"
   ]
  },
  {
   "cell_type": "code",
   "execution_count": 38,
   "metadata": {},
   "outputs": [
    {
     "name": "stdout",
     "output_type": "stream",
     "text": [
      "[2, 4, 5, 22]\n",
      "['Mamiferos', 'aves']\n",
      "[100, 'hardware', [2, 4, 5, 22]]\n"
     ]
    }
   ],
   "source": [
    "lista1 = [2,4,5,22]\n",
    "print(lista1)\n",
    "lista2 = ['Mamiferos','aves']\n",
    "print(lista2)\n",
    "lista3 = [100, 'hardware', lista1]\n",
    "print(lista3)"
   ]
  },
  {
   "cell_type": "markdown",
   "metadata": {},
   "source": [
    "**EJEMPLO**: ¿Cómo imprimirias el primer elemento de la lista 1?"
   ]
  },
  {
   "cell_type": "code",
   "execution_count": 39,
   "metadata": {},
   "outputs": [
    {
     "name": "stdout",
     "output_type": "stream",
     "text": [
      "2\n"
     ]
    }
   ],
   "source": [
    "print(lista1[0])"
   ]
  },
  {
   "cell_type": "markdown",
   "metadata": {},
   "source": [
    "**EJEMPLO**: ¿Cómo imprimirias el primer elemento del tercer elemento de la lista 3?"
   ]
  },
  {
   "cell_type": "code",
   "execution_count": 40,
   "metadata": {},
   "outputs": [
    {
     "name": "stdout",
     "output_type": "stream",
     "text": [
      "2\n"
     ]
    }
   ],
   "source": [
    "print(lista3[2][0])"
   ]
  },
  {
   "cell_type": "markdown",
   "metadata": {},
   "source": [
    "**Se pueden alterar las litas: agregando o quitando elementos:**\n"
   ]
  },
  {
   "cell_type": "code",
   "execution_count": 41,
   "metadata": {},
   "outputs": [
    {
     "name": "stdout",
     "output_type": "stream",
     "text": [
      "['Mamiferos', 'aves', 'Anfibios']\n"
     ]
    }
   ],
   "source": [
    "lista2.append('Anfibios')\n",
    "print(lista2)"
   ]
  },
  {
   "cell_type": "code",
   "execution_count": 42,
   "metadata": {},
   "outputs": [
    {
     "name": "stdout",
     "output_type": "stream",
     "text": [
      "['Reptiles', 'Mamiferos', 'aves', 'Anfibios']\n"
     ]
    }
   ],
   "source": [
    "lista2.insert(0,'Reptiles')\n",
    "print(lista2)"
   ]
  },
  {
   "cell_type": "code",
   "execution_count": 43,
   "metadata": {},
   "outputs": [
    {
     "name": "stdout",
     "output_type": "stream",
     "text": [
      "['Reptiles', 'Mamiferos', 'Anfibios']\n"
     ]
    }
   ],
   "source": [
    "del lista2[2]\n",
    "print(lista2)"
   ]
  },
  {
   "cell_type": "markdown",
   "metadata": {},
   "source": [
    "**Funciones de Listas**\n",
    " - list.append() para agregar elementos\n",
    " - list.insert(index,obj) para insertar un elemento\n",
    " - list.sort() ordenar la lista\n",
    " - len(list) longitud de la lista/cantidad de elementos\n",
    " \n",
    " \n",
    " "
   ]
  },
  {
   "cell_type": "code",
   "execution_count": 44,
   "metadata": {},
   "outputs": [
    {
     "name": "stdout",
     "output_type": "stream",
     "text": [
      "['Reptiles', 'Mamiferos']\n"
     ]
    }
   ],
   "source": [
    "lista2.pop()\n",
    "print(lista2)"
   ]
  },
  {
   "cell_type": "markdown",
   "metadata": {},
   "source": [
    "Analice los 4 ejemplos anteriores y deduzca para que sirve cada metodo de las lista\n",
    "\n",
    "\n",
    "\n",
    "\n",
    "Ademas, se puede operar con las listas. Ejecute cada ejemplo y analice los resultados obtenidos para cada caso"
   ]
  },
  {
   "cell_type": "code",
   "execution_count": 48,
   "metadata": {},
   "outputs": [
    {
     "data": {
      "text/plain": [
       "[2, 4, 5, 22, 'Reptiles', 'Mamiferos']"
      ]
     },
     "execution_count": 48,
     "metadata": {},
     "output_type": "execute_result"
    }
   ],
   "source": [
    "lista1 + lista2\n",
    "# Combina a la lista 1 con la lista 2"
   ]
  },
  {
   "cell_type": "code",
   "execution_count": 49,
   "metadata": {},
   "outputs": [
    {
     "data": {
      "text/plain": [
       "['Reptiles', 'Mamiferos', 'Reptiles', 'Mamiferos']"
      ]
     },
     "execution_count": 49,
     "metadata": {},
     "output_type": "execute_result"
    }
   ],
   "source": [
    "lista2*2\n",
    "# Los elementos de la lista 2 se repiten 2 veces"
   ]
  },
  {
   "cell_type": "code",
   "execution_count": 46,
   "metadata": {},
   "outputs": [
    {
     "data": {
      "text/plain": [
       "2"
      ]
     },
     "execution_count": 46,
     "metadata": {},
     "output_type": "execute_result"
    }
   ],
   "source": [
    "min(lista1) \n",
    "# Minimo numero de la lista 1"
   ]
  },
  {
   "cell_type": "code",
   "execution_count": 47,
   "metadata": {},
   "outputs": [
    {
     "data": {
      "text/plain": [
       "22"
      ]
     },
     "execution_count": 47,
     "metadata": {},
     "output_type": "execute_result"
    }
   ],
   "source": [
    "max(lista1)\n",
    "# Maximo numero de la lista 1"
   ]
  },
  {
   "cell_type": "markdown",
   "metadata": {},
   "source": [
    "**EJERCICIO**: Crea una lista vacía denominada 'PU'. Posteriormente agregue los elementos: 'P06' y 'P10'. Imprima el contenido de la lista PU"
   ]
  },
  {
   "cell_type": "code",
   "execution_count": 50,
   "metadata": {},
   "outputs": [
    {
     "name": "stdout",
     "output_type": "stream",
     "text": [
      "['P06', 'P10']\n"
     ]
    }
   ],
   "source": [
    "PU = []\n",
    "PU.append(\"P06\")\n",
    "PU.append(\"P10\")\n",
    "print(PU)"
   ]
  },
  {
   "cell_type": "markdown",
   "metadata": {},
   "source": [
    "## Diccionarios\n",
    "* Los diccionarios son agrupaciones de datos del tipos Clave -> Valor. No tienen orden. Así como las listas se declaran con corchetes, los diccionarios se declaran con llaves, siguiendo la sintaxis mi_diccionario = {clave_1: \"valor\",clave_2: \"valor\"}\n",
    "```python\n",
    "mamiferos = {\"orangutan\" : 'placentario',\"canguro\" : 'marsupial'}\n",
    "```\n",
    "* Se puede acceder a los valores para cada clave haciendo, por ejemplo:\n",
    "```\n",
    "mamiferos['orangutan']\n",
    "```\n",
    "* ¿Qué cosas quiero hacer un diccionario?\n",
    " * Guardar (o actualizar) un dato con clave\n",
    " * Recuperar un dato por su clave\n",
    " * Saber si una valor dado es una clave\n",
    " * Recuperar todas las claves\n",
    " * Eliminar valores.\n",
    " \n",
    "### Declarar diccionarios"
   ]
  },
  {
   "cell_type": "markdown",
   "metadata": {},
   "source": [
    "Con la función **dict()** creamos un nuevo diccionario vacio. Y agregamos valores para distintas claves\n",
    "```python\n",
    "personas = dict()\n",
    "personas['Profesora'] = 'Mg. Lic. Patricia Fernandez'\n",
    "persona['Auxiliar'] = 'Lic. Leonardo Albarracin'\n",
    "```"
   ]
  },
  {
   "cell_type": "markdown",
   "metadata": {
    "collapsed": true
   },
   "source": [
    "O podemos simplemente declarar el diccionario como una variable, que entre llaves tiene las claves y los valores separados por comas\n",
    "```python\n",
    "Materias = {'LIA':'Algoritmos y Estructuras de Datos I', 'LIB':'Taller I', 'P10':'Metodos Numericos I', 'LIC':'Arquitectura'}\n",
    "\n",
    "```"
   ]
  },
  {
   "cell_type": "markdown",
   "metadata": {},
   "source": [
    "### Acceso a los elementos del diccionario\n",
    "* Las funciones **keys()** y **values()** permiten recuperar listas con las claves y los valores. \n",
    "* No tienen ningún orden."
   ]
  },
  {
   "cell_type": "code",
   "execution_count": 51,
   "metadata": {},
   "outputs": [
    {
     "name": "stdout",
     "output_type": "stream",
     "text": [
      "{'LIA': 'Algoritmos y Estructuras de Datos I', 'LIB': 'Taller I', 'P10': 'Metodos Numericos I', 'LIC': 'Arquitectura'}\n"
     ]
    }
   ],
   "source": [
    "Materias = {'LIA':'Algoritmos y Estructuras de Datos I', 'LIB':'Taller I', 'P10':'Metodos Numericos I', 'LIC':'Arquitectura'}\n",
    "\n",
    "print(Materias)"
   ]
  },
  {
   "cell_type": "code",
   "execution_count": 52,
   "metadata": {},
   "outputs": [
    {
     "data": {
      "text/plain": [
       "dict_keys(['LIA', 'LIB', 'P10', 'LIC'])"
      ]
     },
     "execution_count": 52,
     "metadata": {},
     "output_type": "execute_result"
    }
   ],
   "source": [
    "Materias.keys()"
   ]
  },
  {
   "cell_type": "code",
   "execution_count": 53,
   "metadata": {},
   "outputs": [
    {
     "data": {
      "text/plain": [
       "dict_values(['Algoritmos y Estructuras de Datos I', 'Taller I', 'Metodos Numericos I', 'Arquitectura'])"
      ]
     },
     "execution_count": 53,
     "metadata": {},
     "output_type": "execute_result"
    }
   ],
   "source": [
    "Materias.values()"
   ]
  },
  {
   "cell_type": "code",
   "execution_count": 54,
   "metadata": {},
   "outputs": [
    {
     "data": {
      "text/plain": [
       "'Algoritmos y Estructuras de Datos I'"
      ]
     },
     "execution_count": 54,
     "metadata": {},
     "output_type": "execute_result"
    }
   ],
   "source": [
    "Materias[\"LIA\"]"
   ]
  },
  {
   "cell_type": "markdown",
   "metadata": {
    "slideshow": {
     "slide_type": "slide"
    }
   },
   "source": [
    "# Estructuras de control\n",
    "Python, al igual que todos los lenguages de programación, incluye sentencias permiten controlar el flujo del programa. Esto permite tomar desiciones, repetir una tarea y recorrer estructuras de datos.\n",
    "\n",
    "### Estructuración por indentación\n",
    "* La indentación es el espacio que existe entre cada línea de código y el margen.\n",
    "* A diferencia de muchos otros lenguages de programación, la indentación **en python no es sólo por estética sino que define la estructura del código**.\n",
    "\n",
    "### Construcción Loop FOR\n",
    "\n",
    "- los acciones o bloques se identifican por la indentación\n",
    "\n",
    "``` python\n",
    "#EJEMPLO CORRECTO\n",
    "for x in elemento iterable:\n",
    "    orden 1\n",
    "    orden 2\n",
    "\n",
    "    \n",
    "#EJEMPLO INCORRECTO\n",
    "for x in elemento iterable:\n",
    "orden 1\n",
    "orden 2\n",
    "```\n",
    "En el ejemplo incorrecto, no se respeta la identacion, por lo cual no se reconoce las acciones correspondientes al lazo for\n",
    "    \n",
    "\n",
    "\n",
    "**Ejemplo**"
   ]
  },
  {
   "cell_type": "code",
   "execution_count": 55,
   "metadata": {},
   "outputs": [
    {
     "name": "stdout",
     "output_type": "stream",
     "text": [
      "['Prog', 'Algo', 'Tall']\n"
     ]
    }
   ],
   "source": [
    "#Escribir los primeros 4 caracteres de la lista dada\n",
    "\n",
    "lista_materia = ['Programacion','Algoritmos I','Taller de Lenguaje']\n",
    "\n",
    "iniciales = []\n",
    "for i in lista_materia:\n",
    "    ini = i[0:4]\n",
    "    iniciales.append(ini)\n",
    "    \n",
    "print(iniciales)"
   ]
  },
  {
   "cell_type": "markdown",
   "metadata": {
    "slideshow": {
     "slide_type": "slide"
    }
   },
   "source": [
    "### Todo lo iterable se puede iterar\n",
    "\n",
    "- iterables son objetos que contienen el método \\_\\_iter\\_\\_():\n",
    "    - números que provienen de range, arange, etc\n",
    "    - cadenas de caracteres\n",
    "    - lineas de un archivo de texto\n",
    "    - listas\n",
    "    - diccionarios\n",
    "    - arreglos\n",
    "    - ...\n"
   ]
  },
  {
   "cell_type": "markdown",
   "metadata": {},
   "source": [
    "**Ejercicio:** \n",
    "\n",
    "Siga a lapiz y a papel cada uno de las ejecuciones del lazo for, concluya la salida, y luego verifique su resultado\n",
    "\n",
    "- \n",
    "```python\n",
    "print(\"Comienzo\")\n",
    "for i in [0, 1, 2]:\n",
    "    print(\"Hola. Ahora i vale\", i)\n",
    "print(\"Fin\")\n",
    "```\n",
    "\n",
    "- \n",
    "```python\n",
    "print(\"Comienzo\")\n",
    "for i in [1, 1, 1, 1]:\n",
    "    print(\"Hola. Ahora i vale\", i)\n",
    "print(\"Final\")\n",
    "```\n",
    "\n",
    "- \n",
    "```python\n",
    "print(\"Comienzo\")\n",
    "for i in []:\n",
    "    print(\"Hola. Ahora i vale\", i)\n",
    "print(\"Final\")\n",
    "```\n",
    "\n",
    "- \n",
    "```python\n",
    "print(\"Comienzo\")\n",
    "for i in [\"Alba\", \"Benito\", 27]:\n",
    "    print(\"Hola. Ahora i vale\", i)\n",
    "print(\"Final\")\n",
    "```\n",
    "\n",
    "**Verificacion**"
   ]
  },
  {
   "cell_type": "code",
   "execution_count": 56,
   "metadata": {},
   "outputs": [
    {
     "name": "stdout",
     "output_type": "stream",
     "text": [
      "Comienzo\n",
      "Hola. Ahora i vale 0\n",
      "Hola. Ahora i vale 1\n",
      "Hola. Ahora i vale 2\n",
      "Fin\n"
     ]
    }
   ],
   "source": [
    "print(\"Comienzo\")\n",
    "for i in [0, 1, 2]:\n",
    "  print(\"Hola. Ahora i vale\", i)\n",
    "print(\"Fin\")"
   ]
  },
  {
   "cell_type": "code",
   "execution_count": 57,
   "metadata": {},
   "outputs": [
    {
     "name": "stdout",
     "output_type": "stream",
     "text": [
      "Comienzo\n",
      "Hola. Ahora i vale 1\n",
      "Hola. Ahora i vale 1\n",
      "Hola. Ahora i vale 1\n",
      "Hola. Ahora i vale 1\n",
      "Final\n"
     ]
    }
   ],
   "source": [
    "print(\"Comienzo\")\n",
    "for i in [1, 1, 1, 1]:\n",
    "  print(\"Hola. Ahora i vale\", i)\n",
    "print(\"Final\")\n"
   ]
  },
  {
   "cell_type": "code",
   "execution_count": 58,
   "metadata": {},
   "outputs": [
    {
     "name": "stdout",
     "output_type": "stream",
     "text": [
      "Comienzo\n",
      "Final\n"
     ]
    }
   ],
   "source": [
    "print(\"Comienzo\")\n",
    "for i in []:\n",
    "  print(\"Hola. Ahora i vale\", i)\n",
    "print(\"Final\")"
   ]
  },
  {
   "cell_type": "code",
   "execution_count": 59,
   "metadata": {},
   "outputs": [
    {
     "name": "stdout",
     "output_type": "stream",
     "text": [
      "Comienzo\n",
      "Hola. Ahora i vale Alba\n",
      "Hola. Ahora i vale Benito\n",
      "Hola. Ahora i vale 27\n",
      "Final\n"
     ]
    }
   ],
   "source": [
    "print(\"Comienzo\")\n",
    "for i in [\"Alba\", \"Benito\", 27]:\n",
    "  print(\"Hola. Ahora i vale\", i)\n",
    "print(\"Final\")"
   ]
  },
  {
   "cell_type": "markdown",
   "metadata": {},
   "source": [
    "### Tipo range\n",
    "El tipo range es una lista inmutable de números enteros en sucesión aritmética.\n",
    "\n",
    "Nota: En Python 2, range() se consideraba una función, pero en Python 3 es un tipo de datos , aunque se utiliza como si fuera una función.\n",
    "\n",
    "El tipo range() con un único argumento se escribe range(n) y crea una lista inmutable de n números enteros consecutivos que empieza en 0 y acaba en n - 1. Investigue sobre los otros argumentos que puede tener range\n",
    "\n",
    "Para ver los valores del range(), es necesario convertirlo a lista mediante la función list(), o escribir elemento por elemento.\n",
    "\n",
    "\n",
    "``` python\n",
    "a = range (21)\n",
    "print(a)\n",
    "\n",
    "print(list(a))\n",
    "\n",
    "for i in range(a):\n",
    "    print(i)\n",
    "```"
   ]
  },
  {
   "cell_type": "code",
   "execution_count": 60,
   "metadata": {},
   "outputs": [
    {
     "name": "stdout",
     "output_type": "stream",
     "text": [
      "range(0, 21)\n",
      "[0, 1, 2, 3, 4, 5, 6, 7, 8, 9, 10, 11, 12, 13, 14, 15, 16, 17, 18, 19, 20]\n",
      "0\n",
      "2\n",
      "4\n",
      "6\n",
      "8\n",
      "10\n",
      "12\n",
      "14\n",
      "16\n",
      "18\n",
      "20\n",
      "22\n",
      "24\n",
      "26\n",
      "28\n",
      "30\n",
      "32\n",
      "34\n",
      "36\n",
      "38\n"
     ]
    }
   ],
   "source": [
    "a = range (21)\n",
    "print(a)\n",
    "\n",
    "print(list(a))\n",
    "\n",
    "\n",
    "for i in range(20):\n",
    "    print(i*2)\n"
   ]
  },
  {
   "cell_type": "markdown",
   "metadata": {},
   "source": [
    "## Toma de decisiones: if...else...\n",
    "\n",
    "La estructura general es:\n",
    "```python\n",
    "if condicion:\n",
    "    Codigo si la condicion es verdadera\n",
    "else :\n",
    "    Codigo si la condicion es falsa\n",
    "```\n",
    "\n",
    "**los bloques se identifican por la indentación**"
   ]
  },
  {
   "cell_type": "markdown",
   "metadata": {},
   "source": [
    "### If evalúa condiciones lógicas\n",
    "\n",
    "+ puede ser una expresión: \n",
    "    \n",
    "    ``` python \n",
    "    if valor > umbral:\n",
    "        Acciones\n",
    "    ```\n",
    "    \n",
    "+ pueden ser expresiones anidadas: \n",
    "    \n",
    "    ``` python \n",
    "    if (valor > piso) and (valor < techo):\n",
    "        Acciones\n",
    "\n",
    "    ```\n",
    "    \n",
    "    **Ejemplo**\n",
    "    \n"
   ]
  },
  {
   "cell_type": "code",
   "execution_count": 61,
   "metadata": {},
   "outputs": [
    {
     "name": "stdout",
     "output_type": "stream",
     "text": [
      "Ups! Lic en Informatica no es una Ingenieria\n",
      "Ing en Informatica es una ingenieria\n",
      "Ups! Prog Universitario no es una Ingenieria\n",
      "Ing en Computacion es una ingenieria\n"
     ]
    }
   ],
   "source": [
    "# A partir de una lista de carreras de la FaCET, mostrar las carreras de Ingenieria\n",
    "\n",
    "carreras = ['Lic en Informatica', 'Ing en Informatica', 'Prog Universitario', 'Ing en Computacion']\n",
    "\n",
    "for i in carreras:\n",
    "    if 'Ing' in i :\n",
    "        print(i + \" es una ingenieria\")\n",
    "    else:\n",
    "        print('Ups! ' + i + ' no es una Ingenieria')\n"
   ]
  },
  {
   "cell_type": "markdown",
   "metadata": {},
   "source": [
    "Modificar el codigo anterior para que muestre las carreras que no son de Ingenieria"
   ]
  },
  {
   "cell_type": "code",
   "execution_count": 64,
   "metadata": {},
   "outputs": [
    {
     "name": "stdout",
     "output_type": "stream",
     "text": [
      "Carreras que no son de Ingieneria: \n",
      "Lic en Informatica\n",
      " \n",
      "Prog Universitario\n",
      " \n"
     ]
    }
   ],
   "source": [
    "print(\"Carreras que no son de Ingieneria: \")\n",
    "for i in carreras:\n",
    "    if 'Ing' in i :\n",
    "        print(\" \")\n",
    "    else:\n",
    "        print(i)"
   ]
  },
  {
   "cell_type": "markdown",
   "metadata": {},
   "source": [
    "### Anidando condiciones (elif)"
   ]
  },
  {
   "cell_type": "code",
   "execution_count": 65,
   "metadata": {},
   "outputs": [
    {
     "name": "stdout",
     "output_type": "stream",
     "text": [
      "ingrese numero A: 12\n",
      "ingrese numero b: 4\n",
      "numero B es mayor\n"
     ]
    }
   ],
   "source": [
    "numA = input(\"ingrese numero A: \")\n",
    "numB = input(\"ingrese numero b: \")\n",
    "\n",
    "if numA > numB:\n",
    "    print(\"numero A es mayor\")\n",
    "elif numA < numB:\n",
    "    print(\"numero B es mayor\")\n",
    "else:\n",
    "    print(\"Ambos numeros son iguales\")"
   ]
  },
  {
   "cell_type": "markdown",
   "metadata": {},
   "source": [
    "## Construccion del Mientras\n",
    "\n",
    "\n",
    "``` python\n",
    "\n",
    "while condicion:\n",
    "    acciones\n",
    "```\n",
    "\n"
   ]
  },
  {
   "cell_type": "code",
   "execution_count": 66,
   "metadata": {},
   "outputs": [
    {
     "name": "stdout",
     "output_type": "stream",
     "text": [
      "1\n",
      "2\n",
      "4\n",
      "8\n",
      "16\n",
      "32\n",
      "Programa terminado\n"
     ]
    }
   ],
   "source": [
    "i = 1\n",
    "while i <= 50:\n",
    "    print(i)\n",
    "    i = 2 * i\n",
    "    \n",
    "print(\"Programa terminado\")"
   ]
  },
  {
   "cell_type": "markdown",
   "metadata": {},
   "source": [
    "**Ejercicio:** Escriba un programa que pida la cantidad de números positivos que se tienen que escribir y a continuación ingrese números hasta que se haya escrito la cantidad de números positivos indicada. Investigue como ingresar los datos.\n",
    "\n"
   ]
  },
  {
   "cell_type": "code",
   "execution_count": null,
   "metadata": {},
   "outputs": [],
   "source": [
    "cantNum = int(input(\"ingrese la cantidad de numeros positivos: \"))\n",
    "i=1\n",
    "while i < cantNum: \n",
    "    numIng = int(input(\"ingrese numero : \"))\n",
    "    print(numIng)\n",
    "    i++\n",
    "    \n",
    "    \n",
    "print(\"Programa terminado\")"
   ]
  },
  {
   "cell_type": "markdown",
   "metadata": {},
   "source": [
    "## Módulos (librerías) \n",
    "\n",
    "* Incorporan funcionalidades. \n",
    "* Pueden ser módulos definidos por el usuario.\n",
    "\n",
    "\n",
    "En las diapositivas encontraran las librerias y algunos métodos a utilizar en la materia.\n",
    "\n",
    "### Diferentes sintaxis de \"imports\" / Importando librerías\n",
    "\n",
    "\n",
    "``` python\n",
    "import matplotlib             #Importa todo los metodos de la libreria. Para invocar un metodo es matplotlib.metodo\n",
    "import matplotlib as mpl      #Importa todo los metodos de la libreria, crea un alias. Para invocar un metodo es mpl.metodo\n",
    "from matplotlib import *      #Importa todo los metodos de la libreria. Para invocar un metodo , se escribe directamente el nombre del metodo\n",
    "from matplotlib import pyplot #importa un metodo de la libreria. Ahorra espacio de memoria  \n",
    "from matplotlib import pyplot as plt #importa un metodo de la libreria con un alias. Ahorra espacio de memoria\n",
    "```"
   ]
  },
  {
   "cell_type": "markdown",
   "metadata": {},
   "source": [
    "# Creando Arrays (Arreglos) usando NumPy\n",
    "\n",
    "**Ejercicio:** Importe la libreria numpy, y cree distintos tipos de arreglos usando:\n",
    "* ones\n",
    "* zeros\n",
    "* arange\n",
    "* linspace\n",
    "\n",
    "*help*: usar \"?\" al final del metodo"
   ]
  },
  {
   "cell_type": "code",
   "execution_count": 4,
   "metadata": {},
   "outputs": [],
   "source": [
    "import numpy as np\n",
    "np.ones?"
   ]
  },
  {
   "cell_type": "code",
   "execution_count": 2,
   "metadata": {},
   "outputs": [
    {
     "data": {
      "text/plain": [
       "array([[1., 1., 1., 1., 1.],\n",
       "       [1., 1., 1., 1., 1.],\n",
       "       [1., 1., 1., 1., 1.],\n",
       "       [1., 1., 1., 1., 1.],\n",
       "       [1., 1., 1., 1., 1.]])"
      ]
     },
     "execution_count": 2,
     "metadata": {},
     "output_type": "execute_result"
    }
   ],
   "source": [
    "import numpy as np\n",
    "\n",
    "np.ones([5,5])"
   ]
  },
  {
   "cell_type": "code",
   "execution_count": 3,
   "metadata": {},
   "outputs": [
    {
     "data": {
      "text/plain": [
       "array([[0., 0., 0., 0., 0.],\n",
       "       [0., 0., 0., 0., 0.],\n",
       "       [0., 0., 0., 0., 0.],\n",
       "       [0., 0., 0., 0., 0.],\n",
       "       [0., 0., 0., 0., 0.]])"
      ]
     },
     "execution_count": 3,
     "metadata": {},
     "output_type": "execute_result"
    }
   ],
   "source": [
    "np.zeros([5,5])"
   ]
  },
  {
   "cell_type": "code",
   "execution_count": 4,
   "metadata": {},
   "outputs": [
    {
     "data": {
      "text/plain": [
       "array([0. , 0.1, 0.2, 0.3, 0.4, 0.5, 0.6, 0.7, 0.8, 0.9, 1. , 1.1, 1.2,\n",
       "       1.3, 1.4, 1.5, 1.6, 1.7, 1.8, 1.9, 2. ])"
      ]
     },
     "execution_count": 4,
     "metadata": {},
     "output_type": "execute_result"
    }
   ],
   "source": [
    "np.arange(0,2.1,.1)\n"
   ]
  },
  {
   "cell_type": "code",
   "execution_count": 5,
   "metadata": {},
   "outputs": [
    {
     "data": {
      "text/plain": [
       "array([1.        , 1.01010101, 1.02020202, 1.03030303, 1.04040404,\n",
       "       1.05050505, 1.06060606, 1.07070707, 1.08080808, 1.09090909,\n",
       "       1.1010101 , 1.11111111, 1.12121212, 1.13131313, 1.14141414,\n",
       "       1.15151515, 1.16161616, 1.17171717, 1.18181818, 1.19191919,\n",
       "       1.2020202 , 1.21212121, 1.22222222, 1.23232323, 1.24242424,\n",
       "       1.25252525, 1.26262626, 1.27272727, 1.28282828, 1.29292929,\n",
       "       1.3030303 , 1.31313131, 1.32323232, 1.33333333, 1.34343434,\n",
       "       1.35353535, 1.36363636, 1.37373737, 1.38383838, 1.39393939,\n",
       "       1.4040404 , 1.41414141, 1.42424242, 1.43434343, 1.44444444,\n",
       "       1.45454545, 1.46464646, 1.47474747, 1.48484848, 1.49494949,\n",
       "       1.50505051, 1.51515152, 1.52525253, 1.53535354, 1.54545455,\n",
       "       1.55555556, 1.56565657, 1.57575758, 1.58585859, 1.5959596 ,\n",
       "       1.60606061, 1.61616162, 1.62626263, 1.63636364, 1.64646465,\n",
       "       1.65656566, 1.66666667, 1.67676768, 1.68686869, 1.6969697 ,\n",
       "       1.70707071, 1.71717172, 1.72727273, 1.73737374, 1.74747475,\n",
       "       1.75757576, 1.76767677, 1.77777778, 1.78787879, 1.7979798 ,\n",
       "       1.80808081, 1.81818182, 1.82828283, 1.83838384, 1.84848485,\n",
       "       1.85858586, 1.86868687, 1.87878788, 1.88888889, 1.8989899 ,\n",
       "       1.90909091, 1.91919192, 1.92929293, 1.93939394, 1.94949495,\n",
       "       1.95959596, 1.96969697, 1.97979798, 1.98989899, 2.        ])"
      ]
     },
     "execution_count": 5,
     "metadata": {},
     "output_type": "execute_result"
    }
   ],
   "source": [
    "np.linspace(1,2,100)\n"
   ]
  },
  {
   "cell_type": "markdown",
   "metadata": {},
   "source": [
    "¿Cual es la diferencia entre arange y linspace de NumPy?\n",
    "\"\"\"\n",
    "linspace Devuelve números espaciados uniformemente en un intervalo especificado y arange\n",
    "es similar, pero utiliza un tamaño de paso (en lugar del número de muestras)."
   ]
  },
  {
   "cell_type": "markdown",
   "metadata": {},
   "source": [
    "## Copiar arreglos\n"
   ]
  },
  {
   "cell_type": "markdown",
   "metadata": {},
   "source": [
    "- **Copiar un array (\"por referencia\").**\n",
    "\n",
    "La copia por referencia se realiza asignando la variable de un array a otra. Después de la asignación ambas variables compartirán los mismos datos en el mismo área de memoria así como los cambios que se produzcan.\n",
    "\n"
   ]
  },
  {
   "cell_type": "code",
   "execution_count": 7,
   "metadata": {},
   "outputs": [
    {
     "name": "stdout",
     "output_type": "stream",
     "text": [
      "matriz a\n",
      " [[1 2 3]\n",
      " [4 5 6]]\n",
      "matriz b\n",
      " [[1 2 3]\n",
      " [4 5 6]]\n",
      "valores modificados\n",
      "matriz a\n",
      " [[ 1 -1  3]\n",
      " [ 4  5  6]]\n",
      "matriz b\n",
      " [[ 1 -1  3]\n",
      " [ 4  5  6]]\n"
     ]
    }
   ],
   "source": [
    "a = np.array([[1, 2, 3], [4, 5, 6]]) # matriz de 2x3 elementos\n",
    "b = a\n",
    "print(\"matriz a\\n\",a)\n",
    "print(\"matriz b\\n\",b)\n",
    "\n",
    "a[0, 1] = -1\n",
    "\n",
    "print(\"valores modificados\")\n",
    "print(\"matriz a\\n\",a)\n",
    "print(\"matriz b\\n\",b)\n"
   ]
  },
  {
   "cell_type": "markdown",
   "metadata": {},
   "source": [
    "- **Copiar un array (\"por valor\").**\n",
    "\n",
    "Metodo copy()\n",
    "\n",
    "Crea una copia de un array en otra posicion de memoria."
   ]
  },
  {
   "cell_type": "code",
   "execution_count": 5,
   "metadata": {},
   "outputs": [
    {
     "name": "stdout",
     "output_type": "stream",
     "text": [
      "[1 2 3 4 5]\n"
     ]
    }
   ],
   "source": [
    "a = np.array([1, 2, 3, 4, 5])\n",
    "copia = a.copy()\n",
    "print(copia)"
   ]
  },
  {
   "cell_type": "markdown",
   "metadata": {},
   "source": [
    "Existen otras formas de copiar un array por valor, queda como tarea investigarlos y dar ejemplos."
   ]
  },
  {
   "cell_type": "code",
   "execution_count": 8,
   "metadata": {},
   "outputs": [
    {
     "name": "stdout",
     "output_type": "stream",
     "text": [
      "[1 2 3 4 5]\n"
     ]
    }
   ],
   "source": [
    "a = np.array([1, 2, 3, 4, 5])\n",
    "copia[:]=a[:]\n",
    "print(copia)"
   ]
  },
  {
   "cell_type": "markdown",
   "metadata": {},
   "source": [
    "# Funciones definidas por el usuario\n",
    "\n",
    "Las funciones se pueden crear en cualquier punto de un programa, escribiendo su definición.\n",
    "\n",
    "La primera línea de la definición de una función contiene:\n",
    "\n",
    "* la palabra reservada ***def***\n",
    "* el nombre de la función\n",
    "* paréntesis (que pueden incluir los argumentos de la función) seguido de \":\" \n",
    "\n",
    "Las instrucciones que forman la función se escriben con sangría con respecto a la primera línea.\n",
    "\n",
    "Se puede indicar el final de la función con la palabra reservada return, aunque no es obligatorio.\n",
    "\n",
    "Para poder utilizar una función en un programa se tiene que haber definido antes. Por ello, normalmente las definiciones de las funciones se suelen escribir al principio de los programas\n",
    "\n",
    "**Ejemplo:**\n",
    "```python\n",
    "def suma(a,b):\n",
    "    return a+b\n",
    "\n",
    "print(suma(5,10))\n",
    "```"
   ]
  },
  {
   "cell_type": "code",
   "execution_count": 1,
   "metadata": {},
   "outputs": [
    {
     "name": "stdout",
     "output_type": "stream",
     "text": [
      "15\n"
     ]
    }
   ],
   "source": [
    "def suma(a,b):\n",
    "    return a+b\n",
    "\n",
    "print(suma(5,10))"
   ]
  },
  {
   "cell_type": "markdown",
   "metadata": {},
   "source": [
    "**Ejercicio:** La serie infinita $f(n)=\\sum_{k=1}^n(1/i^4)$ converge a  un valor de $f(n)=pi^4/90$ conforme n tiende a infinito. Escriba una función para calcular f(n) para distintos valores de n. "
   ]
  },
  {
   "cell_type": "code",
   "execution_count": 2,
   "metadata": {},
   "outputs": [
    {
     "name": "stdout",
     "output_type": "stream",
     "text": [
      "1.082323233711138\n",
      "Serie converge a: 1.082323233710861\n"
     ]
    }
   ],
   "source": [
    "import numpy as np\n",
    "import math as m\n",
    "\n",
    "def serie(n):\n",
    "    resultado = 0\n",
    "    i=1\n",
    "    while i <= n:\n",
    "        resultado = resultado + (1/i**4)\n",
    "        i=i+1\n",
    "    return resultado\n",
    "\n",
    "n_elementos=10**5\n",
    "print(m.pi**4/90)\n",
    "print(\"Serie converge a:\", serie(n_elementos))"
   ]
  },
  {
   "cell_type": "markdown",
   "metadata": {},
   "source": [
    "# Graficos\n",
    "\n",
    "**import matplotlib.pyplot as plt**\n",
    "\n",
    "**figure**(num = None, figsize = (8, 6), dpi = 80, facecolor = 'w', edgecolor = 'k')\n",
    "\n",
    "**subplot**(numRows, numCols, plotNum):Permite incluir varias gráficas en una única figura.\n",
    "\n",
    "**plot**(x, y, linestyle, linewidth, marker):Permite incluir varias gráficas en una única figura. Tanto x como y pueden ser abcisas tuplas, listas o arrays. La única condición es que el tamaño de ambas debe ser el mismo ya que en caso contrario python nos devolverá un fallo de tipo dimesión. \n",
    "\n",
    "**show()**: Presenta las figuras en pantalla.\n",
    "\n",
    "**xlabel**(‘s’, comandos_optativos): Etiqueta el eje X\n",
    "\n",
    "**ylabel**(‘s’, comandos_optativos): Etiqueta el eje Y\n",
    "\n",
    "**title**(‘s’, comandos_optativos): Coloca un titulo a la gráfica\n",
    "\n",
    "**axis**() Establece u obtiene las propiedades de los ejes\n",
    "\n",
    "\n",
    "Mas info de colores: https://matplotlib.org/users/dflt_style_changes.html y https://matplotlib.org/examples/color/named_colors.html\n"
   ]
  },
  {
   "cell_type": "markdown",
   "metadata": {},
   "source": [
    "**Ejercicio:**  Ejecute los siguientes codigos y comente que realiza cada linea.\n",
    "\n",
    "**Codigo 1:**"
   ]
  },
  {
   "cell_type": "code",
   "execution_count": 3,
   "metadata": {},
   "outputs": [
    {
     "data": {
      "image/png": "[encoded data removed]",
      "text/plain": [
       "<Figure size 432x288 with 1 Axes>"
      ]
     },
     "metadata": {
      "needs_background": "light"
     },
     "output_type": "display_data"
    }
   ],
   "source": [
    "import numpy as np\n",
    "import math as m\n",
    "import matplotlib.pyplot as plt\n",
    "\n",
    "x = np.linspace(1,10,10)\n",
    "y1 = np.cos(x)\n",
    "y2 = x*2\n",
    "\n",
    "plt.plot(x,y1,x,y2)\n",
    "\"\"\"\n",
    "#comente la linea 9 y ejecute el codigo con las lineas 12 y 13 sin comentar\n",
    "plt.plot(x,y1,marker='+')\n",
    "plt.plot(x,y2,'ro')\n",
    "\"\"\"\n",
    "plt.title(\"Graficas\")\n",
    "plt.legend(('y1','y2'), loc='upper left')\n",
    "plt.xlabel('x')\n",
    "plt.ylabel('y', fontsize=20)\n",
    "plt.show()\n"
   ]
  },
  {
   "cell_type": "markdown",
   "metadata": {},
   "source": [
    "**Codigo 2:**"
   ]
  },
  {
   "cell_type": "code",
   "execution_count": 4,
   "metadata": {},
   "outputs": [
    {
     "data": {
      "image/png": "[encoded data removed]",
      "text/plain": [
       "<Figure size 500x300 with 2 Axes>"
      ]
     },
     "metadata": {},
     "output_type": "display_data"
    },
    {
     "data": {
      "image/png": "[encoded data removed]",
      "text/plain": [
       "<Figure size 500x300 with 1 Axes>"
      ]
     },
     "metadata": {},
     "output_type": "display_data"
    }
   ],
   "source": [
    "import numpy as np\n",
    "import matplotlib.pyplot as plt\n",
    "\n",
    "x = np.linspace(1,10,100)\n",
    "y1 = x**3+3*x+10\n",
    "y2 = x*2\n",
    "y3 = np.cos(x)\n",
    "y4 = np.sin(x)\n",
    "\n",
    "plt.figure(1, (10,6), 50, 'y', 'g')\n",
    "\n",
    "plt.subplot(2,1,1)\n",
    "plt.plot(x,y1)\n",
    "\n",
    "plt.subplot(2,1,2)\n",
    "plt.plot(x,y2)\n",
    "\n",
    "\n",
    "plt.figure(2, (10,6),50,'c','g')\n",
    "\n",
    "#plt.subplot(2,1,1)\n",
    "plt.plot(x,y3)\n",
    "\n",
    "#plt.subplot(2,1,2)\n",
    "plt.plot(x,y4)\n",
    "\n",
    "plt.show()"
   ]
  },
  {
   "cell_type": "markdown",
   "metadata": {},
   "source": [
    "**Codigo 3:** Muestre los graficos de las 4 funciones de $y_i$ en 4 paneles distintos dentro de una misma figura."
   ]
  },
  {
   "cell_type": "code",
   "execution_count": 1,
   "metadata": {},
   "outputs": [
    {
     "data": {
      "image/png": "[encoded data removed]",
      "text/plain": [
       "<Figure size 500x300 with 4 Axes>"
      ]
     },
     "metadata": {},
     "output_type": "display_data"
    }
   ],
   "source": [
    "import numpy as np\n",
    "import matplotlib.pyplot as plt\n",
    "\n",
    "x = np.linspace(1,10,100)\n",
    "y1 = x**3+3*x+10\n",
    "y2 = x*2\n",
    "y3 = np.cos(x)\n",
    "y4 = np.sin(x)\n",
    "\n",
    "plt.figure(1, (10,6), 50, 'y', 'g')\n",
    "plt.subplot(4,1,1)\n",
    "plt.plot(x,y1)\n",
    "plt.subplot(4,1,2)\n",
    "plt.plot(x,y2)\n",
    "plt.subplot(4,1,3)\n",
    "plt.plot(x,y3)\n",
    "plt.subplot(4,1,4)\n",
    "plt.plot(x,y4)\n",
    "plt.show()"
   ]
  },
  {
   "cell_type": "markdown",
   "metadata": {},
   "source": [
    "**Ejercicio**\n",
    "\n",
    "Diseñe y escriba un algoritmo para generar la siguiente tabla: \n",
    "\n",
    "| n | n/3 | n! |\n",
    "| :-------: | :------: | :------: |\n",
    "| 1 | 0 | 1 |\n",
    "| 3 | 1 | 6 |\n",
    "| 5 | 1.666 | 120 |\n",
    "| 7 | 2.333 | 5040 |\n",
    "\n",
    "\n",
    "\n",
    "Donde: n! es el factorial de numero entero n. \n",
    "\n",
    "Pruebe su programa para distintos valores de n. Grafique los resultados de n/3 y n! en 2 subplot, probando los diferentes métodos de matplotlib.pyplot"
   ]
  },
  {
   "cell_type": "code",
   "execution_count": 2,
   "metadata": {},
   "outputs": [
    {
     "name": "stdout",
     "output_type": "stream",
     "text": [
      "n =  1\n",
      " \n",
      "Division: n/3 =  0.3333333333333333\n",
      "Factorial: n! =  1\n"
     ]
    },
    {
     "data": {
      "image/png": "[encoded data removed]",
      "text/plain": [
       "<Figure size 500x300 with 2 Axes>"
      ]
     },
     "metadata": {},
     "output_type": "display_data"
    },
    {
     "name": "stdout",
     "output_type": "stream",
     "text": [
      " \n",
      "n =  3\n",
      " \n",
      "Division: n/3 =  1.0\n",
      "Factorial: n! =  6\n"
     ]
    },
    {
     "data": {
      "image/png": "[encoded data removed]",
      "text/plain": [
       "<Figure size 500x300 with 2 Axes>"
      ]
     },
     "metadata": {},
     "output_type": "display_data"
    },
    {
     "name": "stdout",
     "output_type": "stream",
     "text": [
      " \n",
      "n =  5\n",
      " \n",
      "Division: n/3 =  1.6666666666666667\n",
      "Factorial: n! =  120\n"
     ]
    },
    {
     "data": {
      "image/png": "[encoded data removed]",
      "text/plain": [
       "<Figure size 500x300 with 2 Axes>"
      ]
     },
     "metadata": {},
     "output_type": "display_data"
    },
    {
     "name": "stdout",
     "output_type": "stream",
     "text": [
      " \n",
      "n =  7\n",
      " \n",
      "Division: n/3 =  2.3333333333333335\n",
      "Factorial: n! =  5040\n"
     ]
    },
    {
     "data": {
      "image/png": "[encoded data removed]",
      "text/plain": [
       "<Figure size 500x300 with 2 Axes>"
      ]
     },
     "metadata": {},
     "output_type": "display_data"
    },
    {
     "name": "stdout",
     "output_type": "stream",
     "text": [
      " \n"
     ]
    }
   ],
   "source": [
    "import numpy as np\n",
    "import matplotlib.pyplot as plt\n",
    "\n",
    "def factorial(num):\n",
    "    i=1\n",
    "    fact=1\n",
    "    while i <= num:\n",
    "        fact = fact*i\n",
    "        i=i+1\n",
    "    return  fact\n",
    "\n",
    "def division(num):\n",
    "    return num/3\n",
    "\n",
    "x = np.array([1,3,5,7])\n",
    "\n",
    "for i in x:\n",
    "    print(\"n = \" ,i)\n",
    "    print(\" \")\n",
    "    y1 = x**division(i)+division(i)*x+10\n",
    "    y2 = x**factorial(i)+factorial(i)*x+10\n",
    "\n",
    "    plt.figure(1, (10,6), 50, 'y', 'g')\n",
    "    plt.subplot(4,1,1)\n",
    "    print(\"Division: n/3 = \" ,division(i))\n",
    "    plt.plot(x,y1)\n",
    "    plt.subplot(4,1,2)\n",
    "    print(\"Factorial: n! = \" ,factorial(i))\n",
    "    plt.plot(x,y2)\n",
    "    plt.show()\n",
    "    print(\" \")"
   ]
  },
  {
   "cell_type": "markdown",
   "metadata": {},
   "source": [
    "# ALGORITMO\n",
    "\n",
    "j <- [1,3,5,7]\n",
    "\n",
    "hacer 4 veces (i=0,...,3):\n",
    " ESCRIBIR(DIVISION(j[i]), FACTORIAL(j[i]))\n",
    "\n",
    "\n",
    "\n",
    "**FUNCION DIVISION (NUM):**\n",
    "retornar(NUM/3)\n",
    "\n",
    "\n",
    "**FUNCION FACTORIAL (NUM):**\n",
    "i <- 1 \n",
    "fact <- 1 \n",
    "\n",
    "mientras (i<=NUM):\n",
    " fact <- fact*i \n",
    " i <- i+1\n",
    " \n",
    "retornar(fact)\n",
    "\n",
    "\n"
   ]
  },
  {
   "cell_type": "code",
   "execution_count": null,
   "metadata": {},
   "outputs": [],
   "source": []
  }
 ],
 "metadata": {
  "kernelspec": {
   "display_name": "Python 3",
   "language": "python",
   "name": "python3"
  },
  "language_info": {
   "codemirror_mode": {
    "name": "ipython",
    "version": 3
   },
   "file_extension": ".py",
   "mimetype": "text/x-python",
   "name": "python",
   "nbconvert_exporter": "python",
   "pygments_lexer": "ipython3",
   "version": "3.7.6"
  }
 },
 "nbformat": 4,
 "nbformat_minor": 1
}
