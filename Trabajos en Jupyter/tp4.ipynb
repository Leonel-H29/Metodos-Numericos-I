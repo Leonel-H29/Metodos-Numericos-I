{
 "cells": [
  {
   "cell_type": "markdown",
   "metadata": {},
   "source": [
    "# PUNTO 2"
   ]
  },
  {
   "cell_type": "code",
   "execution_count": 1,
   "metadata": {},
   "outputs": [
    {
     "name": "stdout",
     "output_type": "stream",
     "text": [
      "-----------Datos de la función\n",
      "--Valores de abscisas:  [4, -4, 7, 6, 2]\n",
      "--Valores de ordenadas:  [278, -242, 1430, 980, 40]\n",
      "--Cantidad de puntos:  5\n",
      "\n",
      "Resultado de interpolar en x =  5  : 580.5999999999999\n"
     ]
    }
   ],
   "source": [
    "import numpy as np\n",
    "\n",
    "def DifDiv(x, y, n):\n",
    "    for i in range(0,n):\n",
    "        for j in range(n-1,i, -1):\n",
    "            y[j]=(y[j]-y[j-1])/(x[j]-x[j-(i+1)])\n",
    "    return y\n",
    "\n",
    "def Newton(x,y, n, x0):\n",
    "    f=DifDiv(x, y, n)\n",
    "    P=f[0]\n",
    "    for i in range(1,n):\n",
    "        aux=f[i]\n",
    "        for j in range(0,i):\n",
    "            aux=aux*(x0-x[j])\n",
    "        P=P+aux\n",
    "    return P\n",
    "\n",
    "x = [4, -4, 7, 6, 2]\n",
    "y = [278, -242, 1430, 980, 40]\n",
    "n = 5\n",
    "x0 = 5\n",
    "\n",
    "print(\"-----------Datos de la función\")\n",
    "print(\"--Valores de abscisas: \",x)\n",
    "print(\"--Valores de ordenadas: \",y)\n",
    "print(\"--Cantidad de puntos: \",n)\n",
    "print(\"\")\n",
    "print(\"Resultado de interpolar en x = \", x0,\" :\",Newton(x, y, n, x0))\n",
    "\n"
   ]
  },
  {
   "cell_type": "markdown",
   "metadata": {},
   "source": [
    "**Haciendo un ordenamiento de forma ascendente:**"
   ]
  },
  {
   "cell_type": "code",
   "execution_count": 2,
   "metadata": {},
   "outputs": [
    {
     "name": "stdout",
     "output_type": "stream",
     "text": [
      "-----------Datos de la función\n",
      "--Valores de abscisas:  [-4, 2, 4, 6, 7]\n",
      "--Valores de ordenadas:  [-242, 40, 278, 980, 1430]\n",
      "--Cantidad de puntos:  5\n",
      "\n",
      "Resultado de interpolar en x =  5  : 580.5999999999999\n"
     ]
    }
   ],
   "source": [
    "x = [-4, 2, 4, 6, 7]\n",
    "y = [-242, 40, 278, 980, 1430]\n",
    "n = 5\n",
    "x0 = 5\n",
    "\n",
    "print(\"-----------Datos de la función\")\n",
    "print(\"--Valores de abscisas: \",x)\n",
    "print(\"--Valores de ordenadas: \",y)\n",
    "print(\"--Cantidad de puntos: \",n)\n",
    "print(\"\")\n",
    "print(\"Resultado de interpolar en x = \", x0,\" :\",Newton(x, y, n, x0))\n"
   ]
  },
  {
   "cell_type": "markdown",
   "metadata": {},
   "source": [
    "**Haciendo un ordenamiento de forma descendente:**"
   ]
  },
  {
   "cell_type": "code",
   "execution_count": 3,
   "metadata": {},
   "outputs": [
    {
     "name": "stdout",
     "output_type": "stream",
     "text": [
      "-----------Datos de la función\n",
      "--Valores de abscisas:  [7, 6, 4, 2, -4]\n",
      "--Valores de ordenadas:  [1430, 980, 278, 40, -242]\n",
      "--Cantidad de puntos:  5\n",
      "\n",
      "Resultado de interpolar en x =  5  : 580.6\n"
     ]
    }
   ],
   "source": [
    "x = [7,6,4,2,-4]\n",
    "y = [1430,980,278,40,-242]\n",
    "n = 5\n",
    "x0 = 5\n",
    "\n",
    "print(\"-----------Datos de la función\")\n",
    "print(\"--Valores de abscisas: \",x)\n",
    "print(\"--Valores de ordenadas: \",y)\n",
    "print(\"--Cantidad de puntos: \",n)\n",
    "print(\"\")\n",
    "print(\"Resultado de interpolar en x = \", x0,\" :\",Newton(x, y, n, x0))\n"
   ]
  },
  {
   "cell_type": "code",
   "execution_count": 4,
   "metadata": {},
   "outputs": [
    {
     "name": "stdout",
     "output_type": "stream",
     "text": [
      "-----------Datos de la función\n",
      "--Valores de abscisas:  [11.79, 43.64, 4.67, 29.1, 3.63, 77.54, 31.1, 53.28, 49.15, 94.51]\n",
      "--Valores de ordenadas:  [3.56, 5.45, 2.22, 4.86, 1.86, 6.28, 4.96, 5.74, 5.62, 6.56]\n",
      "--Cantidad de puntos:  10\n",
      "\n",
      "Resultado de interpolar en x =  30  : 4.9059810772518775\n"
     ]
    }
   ],
   "source": [
    "x = [11.79, 43.64, 4.67, 29.1, 3.63, 77.54, 31.1, 53.28, 49.15, 94.51]\n",
    "y = [3.56, 5.45, 2.22, 4.86, 1.86, 6.28, 4.96, 5.74, 5.62, 6.56]\n",
    "n = 10\n",
    "x0 = 30\n",
    "\n",
    "print(\"-----------Datos de la función\")\n",
    "print(\"--Valores de abscisas: \",x)\n",
    "print(\"--Valores de ordenadas: \",y)\n",
    "print(\"--Cantidad de puntos: \",n)\n",
    "print(\"\")\n",
    "print(\"Resultado de interpolar en x = \", x0,\" :\",Newton(x, y, n, x0))"
   ]
  },
  {
   "cell_type": "markdown",
   "metadata": {},
   "source": [
    "# PUNTO 3"
   ]
  },
  {
   "cell_type": "code",
   "execution_count": 5,
   "metadata": {},
   "outputs": [
    {
     "data": {
      "image/png": "[encoded data removed]",
      "text/plain": [
       "<Figure size 432x288 with 1 Axes>"
      ]
     },
     "metadata": {
      "needs_background": "light"
     },
     "output_type": "display_data"
    }
   ],
   "source": [
    "import numpy as np\n",
    "import matplotlib.pyplot as mpl\n",
    "from scipy.interpolate import CubicSpline\n",
    "\n",
    "xs = np.array([0.9, 1.3, 1.9, 2.1, 2.6, 3.0, 3.9, 4.4, 4.7, 5.0, 6.0, 7.0, 8.0, 9.2, 10.5, 11.3, 11.6, 12.0, 12.6, 13.0, 13.3])\n",
    "ys = np.array([1.3, 1.5, 1.85, 2.1, 2.6, 2.7, 2.4, 2.15, 2.05, 2.1, 2.25, 2.3, 2.25, 1.95, 1.4, 0.9, 0.7, 0.6, 0.5, 0.4, 0.25])\n",
    "\n",
    "\n",
    "mpl.plot(xs, ys, \"b.\") #Graficar puntos de datos\n",
    "\n",
    "cs = CubicSpline(xs, ys) #Funcion de interpolacion \n",
    "\n",
    "mpl.plot([0, 0], [-6, 4]) #Eje Y\n",
    "mpl.plot([0, 14], [0, 0]) #Eje X\n",
    "\n",
    "xs = np.arange(xs[0], xs[len(xs)-1], 0.1) #Array con valores de las absisas, paso 0.1\n",
    "\n",
    "mpl.plot(xs, cs(xs), 'r') #Graficar funcion interpolada\n",
    "\n",
    "\n",
    "\n",
    "mpl.show()"
   ]
  },
  {
   "cell_type": "markdown",
   "metadata": {},
   "source": [
    "**RESPUESTA:** \n",
    "CubicSpline toma como parametros:\n",
    "* Array de valores la variable independiente, en orden estrictamente ascendente\n",
    "* Array de valores de la variable dependiente\n",
    "\n",
    "El resultado es una instancia de objeto PPoly, polinomio definido por partes"
   ]
  },
  {
   "cell_type": "code",
   "execution_count": null,
   "metadata": {},
   "outputs": [],
   "source": []
  }
 ],
 "metadata": {
  "kernelspec": {
   "display_name": "Python 3",
   "language": "python",
   "name": "python3"
  },
  "language_info": {
   "codemirror_mode": {
    "name": "ipython",
    "version": 3
   },
   "file_extension": ".py",
   "mimetype": "text/x-python",
   "name": "python",
   "nbconvert_exporter": "python",
   "pygments_lexer": "ipython3",
   "version": "3.7.6"
  }
 },
 "nbformat": 4,
 "nbformat_minor": 4
}
