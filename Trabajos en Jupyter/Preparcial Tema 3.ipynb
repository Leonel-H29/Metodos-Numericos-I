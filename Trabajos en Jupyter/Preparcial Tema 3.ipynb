{
 "cells": [
  {
   "cell_type": "markdown",
   "metadata": {},
   "source": [
    "# Metodo de Thomas\n"
   ]
  },
  {
   "cell_type": "code",
   "execution_count": 8,
   "metadata": {},
   "outputs": [
    {
     "name": "stdout",
     "output_type": "stream",
     "text": [
      "A =  [[ 2 -1  0  0]\n",
      " [-1  2 -1  0]\n",
      " [ 0 -1  2 -1]\n",
      " [ 0  0 -1  2]]\n",
      "L =  [[ 0  0  0  0]\n",
      " [-1 -1  0  0]\n",
      " [ 0  0  2  0]\n",
      " [ 0  0 -1 -1]]\n",
      "U =  [[1 0 0 0]\n",
      " [0 1 0 0]\n",
      " [0 0 1 0]\n",
      " [0 0 0 1]]\n"
     ]
    }
   ],
   "source": [
    "import numpy as np\n",
    "import matplotlib.pyplot as plt\n",
    "from math import pi, fabs , sqrt\n",
    "import random\n",
    "from sympy import *\n",
    "\n",
    "def Thomas(a,L,U):\n",
    "    L[0][0] = a[0][0]\n",
    "    L[1][0] = a[1][0]\n",
    "    U[0][1] = a[0][1]/L[0][0]\n",
    "    \n",
    "    for k in range(0,len(a)):\n",
    "        for i in range(2,len(a)-1):\n",
    "            L[i][i] = a[i][i]-(a[i][i] *U[i-1][i])\n",
    "            L[i+1][i] = a[i+1][i]\n",
    "            U[i][i+1] = a[i][i+1]/L[i][i]\n",
    "            \n",
    "        L[k][k] = a[k][k-1]-(a[i][i] * U[k-1][k])\n",
    "    \n",
    "    print(\"L = \",L)\n",
    "    print(\"U = \", U)\n",
    "\n",
    "a = np.array([[2, -1, 0,0], [-1, 2, -1,0], [0,-1,2,-1],[0,0,-1,2]])  #matriz de 4x4\n",
    "L=np.array([[0,0,0,0], [0,0,0,0], [0,0,0,0],[0,0,0,0]]) #matriz nula de 4x4\n",
    "U=np.array([[1,0,0,0], [0,1,0,0], [0,0,1,0],[0,0,0,1]])  #matriz de 4x4\n",
    "\n",
    "\n",
    "print(\"A = \", a)\n",
    "Thomas(a,L,U)"
   ]
  },
  {
   "cell_type": "code",
   "execution_count": null,
   "metadata": {},
   "outputs": [],
   "source": [
    "def TDMASolve(a, b, c, d):\n",
    "    n = len(d)  # número de filas\n",
    "\n",
    "    # Modifica los coeficientes de la primera fila\n",
    "    c[0] /= b[0]  # Posible división por cero\n",
    "    d[0] /= b[0]\n",
    "\n",
    "    for i in range(1, n):\n",
    "        ptemp = b[i] - (a[i] * c[i-1])\n",
    "        c[i] /= ptemp\n",
    "        d[i] = (d[i] - a[i] * d[i-1])/ptemp\n",
    "\n",
    "    # Sustitución hacia atrás\n",
    "    x = [0 for i in range(n)]\n",
    "    x[-1] = d[-1]\n",
    "\n",
    "    for i in range(-2, -n-1, -1):\n",
    "        x[i] = d[i] - c[i] * x[i+1]\n",
    "\n",
    "    return x"
   ]
  }
 ],
 "metadata": {
  "kernelspec": {
   "display_name": "Python 3",
   "language": "python",
   "name": "python3"
  },
  "language_info": {
   "codemirror_mode": {
    "name": "ipython",
    "version": 3
   },
   "file_extension": ".py",
   "mimetype": "text/x-python",
   "name": "python",
   "nbconvert_exporter": "python",
   "pygments_lexer": "ipython3",
   "version": "3.7.6"
  }
 },
 "nbformat": 4,
 "nbformat_minor": 4
}
