{
 "cells": [
  {
   "cell_type": "code",
   "execution_count": 2,
   "metadata": {},
   "outputs": [],
   "source": [
    "import numpy as np\n",
    "\n",
    "def DifDiv(x, y, n):\n",
    "    for i in range(0,n):\n",
    "        for j in range(n-1,i, -1):\n",
    "            y[j]=(y[j]-y[j-1])/(x[j]-x[j-(i+1)])\n",
    "    return y\n",
    "\n",
    "def Newton(x,y, n, x0):\n",
    "    f=DifDiv(x, y, n)\n",
    "    P=f[0]\n",
    "    for i in range(1,n):\n",
    "        aux=f[i]\n",
    "        for j in range(0,i):\n",
    "            aux=aux*(x0-x[j])\n",
    "        P=P+aux\n",
    "    return P\n",
    "\n"
   ]
  },
  {
   "cell_type": "markdown",
   "metadata": {},
   "source": [
    "# Tp4: ejercicios adicionales"
   ]
  },
  {
   "cell_type": "code",
   "execution_count": 4,
   "metadata": {},
   "outputs": [
    {
     "name": "stdout",
     "output_type": "stream",
     "text": [
      "-----------Datos de la función\n",
      "--Valores de abscisas:  [100, 120, 150, 180, 210]\n",
      "--Valores de ordenadas:  [124.1, 181.9, 285.5, 457.4, 551.6]\n",
      "--Cantidad de puntos:  5\n",
      "\n",
      "Resultado de interpolar en x =  160  : 337.9311447811447\n"
     ]
    }
   ],
   "source": [
    "x = [100, 120, 150, 180, 210]\n",
    "y = [124.1, 181.9, 285.5, 457.4, 551.6]\n",
    "n = 5\n",
    "x0 = 160\n",
    "\n",
    "print(\"-----------Datos de la función\")\n",
    "print(\"--Valores de abscisas: \",x)\n",
    "print(\"--Valores de ordenadas: \",y)\n",
    "print(\"--Cantidad de puntos: \",n)\n",
    "print(\"\")\n",
    "print(\"Resultado de interpolar en x = \", x0,\" :\",Newton(x, y, n, x0))\n",
    " "
   ]
  },
  {
   "cell_type": "markdown",
   "metadata": {},
   "source": [
    "**Punto B)**"
   ]
  },
  {
   "cell_type": "code",
   "execution_count": 11,
   "metadata": {},
   "outputs": [
    {
     "name": "stdout",
     "output_type": "stream",
     "text": [
      "--p 1 ( 100 )≈ 124.1\n",
      "--p 2 ( 120 )≈ 2.890000000000015\n",
      "--p 3 ( 150 )≈ 0.11929084444446403\n",
      "--p 4 ( 180 )≈ -0.0017222583466320884\n",
      "--p 5 ( 210 )≈ 1.6161055555130588e-05\n"
     ]
    }
   ],
   "source": [
    "x = [100, 120, 150, 180, 210]\n",
    "y = [124.1, 181.9, 285.5, 457.4, 551.6]\n",
    "n = 5\n",
    "\n",
    "for i in range(0,n):\n",
    "   \n",
    "    print(\"--p\",i+1,\"(\",x[i],\")≈\",Newton(x, y, n, x[i]))"
   ]
  },
  {
   "cell_type": "markdown",
   "metadata": {},
   "source": [
    "**Punto D)**"
   ]
  },
  {
   "cell_type": "code",
   "execution_count": 6,
   "metadata": {},
   "outputs": [
    {
     "name": "stdout",
     "output_type": "stream",
     "text": [
      "-----------Datos de la función\n",
      "--Valores de abscisas:  [100, 120, 150, 180, 210]\n",
      "--Valores de ordenadas:  [124.1, 181.9, 285.5, 457.4, 551.6]\n",
      "--Cantidad de puntos:  5\n",
      "\n",
      "Resultado de interpolar en x =  220  : 509.0698653198654\n"
     ]
    }
   ],
   "source": [
    "x = [100, 120, 150, 180, 210]\n",
    "y = [124.1, 181.9, 285.5, 457.4, 551.6]\n",
    "n = 5\n",
    "x0 = 220\n",
    "\n",
    "print(\"-----------Datos de la función\")\n",
    "print(\"--Valores de abscisas: \",x)\n",
    "print(\"--Valores de ordenadas: \",y)\n",
    "print(\"--Cantidad de puntos: \",n)\n",
    "print(\"\")\n",
    "print(\"Resultado de interpolar en x = \", x0,\" :\",Newton(x, y, n, x0))"
   ]
  },
  {
   "cell_type": "markdown",
   "metadata": {},
   "source": [
    "**Punto E)**"
   ]
  },
  {
   "cell_type": "code",
   "execution_count": 12,
   "metadata": {},
   "outputs": [
    {
     "name": "stdout",
     "output_type": "stream",
     "text": [
      "-----------Datos de la función\n",
      "--Valores de abscisas:  [100, 120, 150, 180, 210, 235]\n",
      "--Valores de ordenadas:  [124.1, 181.9, 285.5, 457.4, 551.6, 679.2]\n",
      "--Cantidad de puntos:  6\n",
      "\n",
      "Resultado de interpolar en x =  160  : 342.7543555762225\n",
      "-----------Datos de la función\n",
      "--Valores de abscisas:  [100, 120, 150, 180, 210, 235]\n",
      "--Valores de ordenadas:  [124.1, 181.9, 285.5, 457.4, 551.6, 679.2]\n",
      "--Cantidad de puntos:  6\n",
      "\n",
      "Resultado de interpolar en x =  220  : 576.5948164509547\n"
     ]
    }
   ],
   "source": [
    "x0 = [160, 220]\n",
    "\n",
    "for i in range(0,2):\n",
    "    x = [100, 120, 150, 180, 210,235]\n",
    "    y = [124.1, 181.9, 285.5, 457.4, 551.6,679.2]\n",
    "    n = 6\n",
    "    print(\"-----------Datos de la función\")\n",
    "    print(\"--Valores de abscisas: \",x)\n",
    "    print(\"--Valores de ordenadas: \",y)\n",
    "    print(\"--Cantidad de puntos: \",n)\n",
    "    print(\"\")\n",
    "    print(\"Resultado de interpolar en x = \", x0[i],\" :\",Newton(x, y, n, x0[i]))"
   ]
  },
  {
   "cell_type": "markdown",
   "metadata": {},
   "source": [
    "**Punto F)**"
   ]
  },
  {
   "cell_type": "code",
   "execution_count": 4,
   "metadata": {},
   "outputs": [
    {
     "name": "stdout",
     "output_type": "stream",
     "text": [
      "-----------Datos de la función\n",
      "--Valores de abscisas:  [100, 120, 150, 170, 180, 210, 235]\n",
      "--Valores de ordenadas:  [124.1, 181.9, 285.5, 400.5, 457.4, 551.6, 679.2]\n",
      "--Cantidad de puntos:  7\n",
      "\n",
      "Resultado de interpolar en x =  160  : 340.61740627942675\n"
     ]
    }
   ],
   "source": [
    "x = [100, 120, 150, 170,180, 210,235]\n",
    "y = [124.1, 181.9, 285.5, 400.5,457.4, 551.6,679.2]\n",
    "n = 7\n",
    "x0 = 160\n",
    "\n",
    "print(\"-----------Datos de la función\")\n",
    "print(\"--Valores de abscisas: \",x)\n",
    "print(\"--Valores de ordenadas: \",y)\n",
    "print(\"--Cantidad de puntos: \",n)\n",
    "print(\"\")\n",
    "print(\"Resultado de interpolar en x = \", x0,\" :\",Newton(x, y, n, x0))"
   ]
  },
  {
   "cell_type": "code",
   "execution_count": null,
   "metadata": {},
   "outputs": [],
   "source": []
  },
  {
   "cell_type": "code",
   "execution_count": null,
   "metadata": {},
   "outputs": [],
   "source": []
  },
  {
   "cell_type": "code",
   "execution_count": null,
   "metadata": {},
   "outputs": [],
   "source": []
  }
 ],
 "metadata": {
  "kernelspec": {
   "display_name": "Python 3",
   "language": "python",
   "name": "python3"
  },
  "language_info": {
   "codemirror_mode": {
    "name": "ipython",
    "version": 3
   },
   "file_extension": ".py",
   "mimetype": "text/x-python",
   "name": "python",
   "nbconvert_exporter": "python",
   "pygments_lexer": "ipython3",
   "version": "3.7.6"
  }
 },
 "nbformat": 4,
 "nbformat_minor": 4
}
