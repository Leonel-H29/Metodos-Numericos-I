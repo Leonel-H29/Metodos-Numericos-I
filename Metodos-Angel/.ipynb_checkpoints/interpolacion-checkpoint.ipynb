{
 "cells": [
  {
   "cell_type": "code",
   "execution_count": 8,
   "metadata": {},
   "outputs": [
    {
     "name": "stdout",
     "output_type": "stream",
     "text": [
      "Datos de la función\n",
      "Valores de abscisas: [4, -4, 7, 6, 2]\n",
      "Valores de ordenadas: [278, -242, 1430, 980, 40]\n",
      "Cantidad de puntos: 5\n",
      "\n",
      "Resultado de interpolar en x = 5: 580.5999999999999\n"
     ]
    }
   ],
   "source": [
    "import numpy as np\n",
    "\n",
    "def dif_div(Coord_x, Coord_y, n):\n",
    "    \"\"\"\n",
    "    Calcula los coeficientes del polinomio interpolante de Newton con diferencias divididas.\n",
    "    \n",
    "    Parametros:\n",
    "    Coord_x (arreglo de numeros reales): Valores de abscisas de la función\n",
    "    Coord_y (arreglo de numeros reales): Valores de las ordenadas de la función\n",
    "    n (entero positivo): Tamaño del arreglo \n",
    "    \n",
    "    Retorna:\n",
    "    Arreglo de numeros: coeficientes del polinomio interpolante de Newton\n",
    "    \"\"\"\n",
    "    \n",
    "    for i in range(0, n):\n",
    "        for j in range(n-1, i, -1):\n",
    "            Coord_y[j] = (Coord_y[j] - Coord_y[j-1])/ (Coord_x[j] - Coord_x[j-(i+1)])\n",
    "    \n",
    "    return Coord_y\n",
    "\n",
    "\n",
    "def Newton(Coord_x, Coord_y , n, x0):\n",
    "    \"\"\"\n",
    "    Calcula el valor interpolado de la función usando el método de Newton.\n",
    "    \n",
    "    Parametros:\n",
    "    Coord_x (arreglo de numeros reales): Valores de abscisas de la función\n",
    "    Coord_y (arreglo de numeros reales): Valores de las ordenadas de la función\n",
    "    n (entero positivo): Tamaño del arreglo \n",
    "    x0 (numero real): Valor a interpolar\n",
    "    \n",
    "    Retorna:\n",
    "    Numero real: Valor interpolado\n",
    "    \"\"\"\n",
    "    \n",
    "    #coef_dif_div: coeficientes de diferencias divididas \n",
    "    coef_dif_div = dif_div(Coord_x, Coord_y, n)\n",
    "    \n",
    "    #P: suma de los términos del polinomio interpolante\n",
    "    P = coef_dif_div[0]\n",
    "    \n",
    "    for i in range(1, n):\n",
    "        aux = coef_dif_div[i]\n",
    "        for j in range(0, i):\n",
    "            aux = aux * (x0 - Coord_x[j])\n",
    "        P = P + aux\n",
    "    \n",
    "    return P\n",
    "\n",
    "Coord_x = [4, -4, 7, 6, 2]\n",
    "Coord_y = [278, -242, 1430, 980, 40]\n",
    "n = 5\n",
    "x0 = 5\n",
    "\n",
    "print(\"Datos de la función\")\n",
    "print(f\"Valores de abscisas: {Coord_x}\")\n",
    "print(f\"Valores de ordenadas: {Coord_y}\")\n",
    "print(f\"Cantidad de puntos: {n}\")\n",
    "print(\"\")\n",
    "print(f\"Resultado de interpolar en x = {x0}: {Newton(Coord_x, Coord_y, n, x0)}\")"
   ]
  },
  {
   "cell_type": "code",
   "execution_count": 27,
   "metadata": {},
   "outputs": [
    {
     "data": {
      "image/png": "[encoded data removed]",
      "text/plain": [
       "<Figure size 432x288 with 1 Axes>"
      ]
     },
     "metadata": {
      "needs_background": "light"
     },
     "output_type": "display_data"
    }
   ],
   "source": [
    "import numpy as np\n",
    "import matplotlib.pyplot as mpl\n",
    "from scipy.interpolate import CubicSpline\n",
    "\n",
    "xs = np.array([0.9, 1.3, 1.9, 2.1, 2.6, 3.0, 3.9, 4.4, 4.7, 5.0, 6.0, 7.0, 8.0, 9.2, 10.5, 11.3, 11.6, 12.0, 12.6, 13.0, 13.3])\n",
    "ys = np.array([1.3, 1.5, 1.85, 2.1, 2.6, 2.7, 2.4, 2.15, 2.05, 2.1, 2.25, 2.3, 2.25, 1.95, 1.4, 0.9, 0.7, 0.6, 0.5, 0.4, 0.25])\n",
    "\n",
    "\n",
    "\"\"\"\n",
    "CubicSpline toma como parametros:\n",
    "Array de valores la variable independiente, en orden estrictamente ascendente\n",
    "Array de valores de la variable dependiente\n",
    "\n",
    "El resultado es una instancia de objeto PPoly, polinomio definido por partes\n",
    "\"\"\"\n",
    "\n",
    "mpl.plot(xs, ys, \"b.\") #Graficar puntos de datos\n",
    "\n",
    "cs = CubicSpline(xs, ys) #Funcion de interpolacion \n",
    "\n",
    "mpl.plot([0, 0], [-6, 4]) #Eje Y\n",
    "mpl.plot([0, 14], [0, 0]) #Eje X\n",
    "\n",
    "xs = np.arange(xs[0], xs[len(xs)-1], 0.1) #Array con valores de las absisas, paso 0.1\n",
    "\n",
    "mpl.plot(xs, cs(xs), 'r') #Graficar funcion interpolada\n",
    "\n",
    "\n",
    "\n",
    "mpl.show()\n"
   ]
  },
  {
   "cell_type": "code",
   "execution_count": null,
   "metadata": {},
   "outputs": [],
   "source": []
  }
 ],
 "metadata": {
  "kernelspec": {
   "display_name": "Python 3",
   "language": "python",
   "name": "python3"
  },
  "language_info": {
   "codemirror_mode": {
    "name": "ipython",
    "version": 3
   },
   "file_extension": ".py",
   "mimetype": "text/x-python",
   "name": "python",
   "nbconvert_exporter": "python",
   "pygments_lexer": "ipython3",
   "version": "3.7.6"
  }
 },
 "nbformat": 4,
 "nbformat_minor": 2
}
