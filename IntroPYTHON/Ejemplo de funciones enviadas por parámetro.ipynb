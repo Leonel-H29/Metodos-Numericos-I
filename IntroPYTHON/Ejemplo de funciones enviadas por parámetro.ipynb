{
 "cells": [
  {
   "cell_type": "code",
   "execution_count": null,
   "metadata": {},
   "outputs": [],
   "source": [
    "def cuadrado(x):\n",
    "    \"\"\"Funcion que devuelve el cuadrado de un numero\"\"\"\n",
    "    return x ** 2\n",
    "\n",
    "def raiz_cuadrada(x):\n",
    "    \"\"\"Funcion que devuelve la raiz cuadrada de un numero\"\"\"\n",
    "    return x ** 0.5\n",
    "\n",
    "def operar(func, args):\n",
    "    \"\"\"\n",
    "    Entrada:\n",
    "        - func: funcion que se utilizara para operar\n",
    "        - args: lista de numeros\n",
    "        \n",
    "    Salida:\n",
    "        - mensaje por pantalla\n",
    "    \"\"\"\n",
    "    for n in args:\n",
    "        print(func(n))"
   ]
  },
  {
   "cell_type": "code",
   "execution_count": null,
   "metadata": {},
   "outputs": [],
   "source": [
    "valores = [4, 9, 25, 36]\n",
    "operar(cuadrado, valores)\n",
    "operar(raiz_cuadrada, valores)"
   ]
  }
 ],
 "metadata": {
  "kernelspec": {
   "display_name": "Python 3",
   "language": "python",
   "name": "python3"
  },
  "language_info": {
   "codemirror_mode": {
    "name": "ipython",
    "version": 3
   },
   "file_extension": ".py",
   "mimetype": "text/x-python",
   "name": "python",
   "nbconvert_exporter": "python",
   "pygments_lexer": "ipython3",
   "version": "3.6.4"
  }
 },
 "nbformat": 4,
 "nbformat_minor": 2
}
